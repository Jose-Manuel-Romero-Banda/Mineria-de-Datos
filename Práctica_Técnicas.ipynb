{
 "cells": [
  {
   "cell_type": "markdown",
   "id": "bc0e4b7a",
   "metadata": {
    "id": "bc0e4b7a"
   },
   "source": [
    "# Equipo 1 "
   ]
  },
  {
   "cell_type": "markdown",
   "id": "bd57d788",
   "metadata": {
    "id": "bd57d788"
   },
   "source": [
    "## Grupo: 001 (Lunes 7:00 - 10:00 pm)"
   ]
  },
  {
   "cell_type": "markdown",
   "id": "d0d10597",
   "metadata": {
    "id": "d0d10597"
   },
   "source": [
    "### Integrantes:"
   ]
  },
  {
   "cell_type": "markdown",
   "id": "bbc36380",
   "metadata": {
    "id": "bbc36380"
   },
   "source": [
    "+ 1848655 - Rangel Vallejo Isabel Alejandra\n",
    "+ 1851167 - Aguilar Sánchez José Antonio\n",
    "+ 1851124 - Cerecero Peña Angela Scarlett\n",
    "+ 1851528 - Romero Banda José Manuel\n",
    "+ 1853849 - García Gutiérrez Alfonso de Jesús"
   ]
  },
  {
   "cell_type": "code",
   "execution_count": 1,
   "id": "b1a38cc3",
   "metadata": {
    "id": "b1a38cc3"
   },
   "outputs": [],
   "source": [
    "import pandas as pd\n",
    "import numpy as np\n",
    "import seaborn as sns\n",
    "import matplotlib.pyplot as plt"
   ]
  },
  {
   "cell_type": "markdown",
   "id": "d301be08",
   "metadata": {
    "id": "d301be08"
   },
   "source": [
    "Empezaremos por leer la base de datos que trabajaremos"
   ]
  },
  {
   "cell_type": "code",
   "execution_count": 2,
   "id": "7fab3b7c",
   "metadata": {
    "colab": {
     "base_uri": "https://localhost:8080/",
     "height": 796
    },
    "id": "7fab3b7c",
    "outputId": "9992918d-ec22-4e20-8592-e0a6f106bbdb"
   },
   "outputs": [
    {
     "name": "stderr",
     "output_type": "stream",
     "text": [
      "<ipython-input-2-84cf140cfe2a>:10: SettingWithCopyWarning: \n",
      "A value is trying to be set on a copy of a slice from a DataFrame\n",
      "\n",
      "See the caveats in the documentation: https://pandas.pydata.org/pandas-docs/stable/user_guide/indexing.html#returning-a-view-versus-a-copy\n",
      "  base_nueva['Transmission'][i]='Automatic'\n",
      "<ipython-input-2-84cf140cfe2a>:13: SettingWithCopyWarning: \n",
      "A value is trying to be set on a copy of a slice from a DataFrame\n",
      "\n",
      "See the caveats in the documentation: https://pandas.pydata.org/pandas-docs/stable/user_guide/indexing.html#returning-a-view-versus-a-copy\n",
      "  base_nueva['Transmission'][i]='Manual'\n"
     ]
    },
    {
     "data": {
      "text/html": [
       "<div>\n",
       "<style scoped>\n",
       "    .dataframe tbody tr th:only-of-type {\n",
       "        vertical-align: middle;\n",
       "    }\n",
       "\n",
       "    .dataframe tbody tr th {\n",
       "        vertical-align: top;\n",
       "    }\n",
       "\n",
       "    .dataframe thead th {\n",
       "        text-align: right;\n",
       "    }\n",
       "</style>\n",
       "<table border=\"1\" class=\"dataframe\">\n",
       "  <thead>\n",
       "    <tr style=\"text-align: right;\">\n",
       "      <th></th>\n",
       "      <th>Make</th>\n",
       "      <th>Model</th>\n",
       "      <th>Vehicle_Class</th>\n",
       "      <th>Engine_Size(L)</th>\n",
       "      <th>Cylinders</th>\n",
       "      <th>Transmission</th>\n",
       "      <th>Fuel_Type</th>\n",
       "      <th>Fuel_Consumption_City(L/100 km)</th>\n",
       "      <th>Fuel_Consumption_Hwy(L/100 km)</th>\n",
       "      <th>Fuel Consumption Comb (L/100 km)</th>\n",
       "      <th>Fuel_Consumption_Comb(mpg)</th>\n",
       "      <th>CO2_Emissions(g/km)</th>\n",
       "    </tr>\n",
       "  </thead>\n",
       "  <tbody>\n",
       "    <tr>\n",
       "      <th>0</th>\n",
       "      <td>ACURA</td>\n",
       "      <td>ILX</td>\n",
       "      <td>COMPACT</td>\n",
       "      <td>2.0</td>\n",
       "      <td>4</td>\n",
       "      <td>Automatic</td>\n",
       "      <td>Z</td>\n",
       "      <td>9.9</td>\n",
       "      <td>6.7</td>\n",
       "      <td>8.5</td>\n",
       "      <td>33</td>\n",
       "      <td>196</td>\n",
       "    </tr>\n",
       "    <tr>\n",
       "      <th>1</th>\n",
       "      <td>ACURA</td>\n",
       "      <td>ILX</td>\n",
       "      <td>COMPACT</td>\n",
       "      <td>2.4</td>\n",
       "      <td>4</td>\n",
       "      <td>Manual</td>\n",
       "      <td>Z</td>\n",
       "      <td>11.2</td>\n",
       "      <td>7.7</td>\n",
       "      <td>9.6</td>\n",
       "      <td>29</td>\n",
       "      <td>221</td>\n",
       "    </tr>\n",
       "    <tr>\n",
       "      <th>2</th>\n",
       "      <td>ACURA</td>\n",
       "      <td>ILX HYBRID</td>\n",
       "      <td>COMPACT</td>\n",
       "      <td>1.5</td>\n",
       "      <td>4</td>\n",
       "      <td>Automatic</td>\n",
       "      <td>Z</td>\n",
       "      <td>6.0</td>\n",
       "      <td>5.8</td>\n",
       "      <td>5.9</td>\n",
       "      <td>48</td>\n",
       "      <td>136</td>\n",
       "    </tr>\n",
       "    <tr>\n",
       "      <th>3</th>\n",
       "      <td>ACURA</td>\n",
       "      <td>MDX 4WD</td>\n",
       "      <td>SUV - SMALL</td>\n",
       "      <td>3.5</td>\n",
       "      <td>6</td>\n",
       "      <td>Automatic</td>\n",
       "      <td>Z</td>\n",
       "      <td>12.7</td>\n",
       "      <td>9.1</td>\n",
       "      <td>11.1</td>\n",
       "      <td>25</td>\n",
       "      <td>255</td>\n",
       "    </tr>\n",
       "    <tr>\n",
       "      <th>4</th>\n",
       "      <td>ACURA</td>\n",
       "      <td>RDX AWD</td>\n",
       "      <td>SUV - SMALL</td>\n",
       "      <td>3.5</td>\n",
       "      <td>6</td>\n",
       "      <td>Automatic</td>\n",
       "      <td>Z</td>\n",
       "      <td>12.1</td>\n",
       "      <td>8.7</td>\n",
       "      <td>10.6</td>\n",
       "      <td>27</td>\n",
       "      <td>244</td>\n",
       "    </tr>\n",
       "    <tr>\n",
       "      <th>...</th>\n",
       "      <td>...</td>\n",
       "      <td>...</td>\n",
       "      <td>...</td>\n",
       "      <td>...</td>\n",
       "      <td>...</td>\n",
       "      <td>...</td>\n",
       "      <td>...</td>\n",
       "      <td>...</td>\n",
       "      <td>...</td>\n",
       "      <td>...</td>\n",
       "      <td>...</td>\n",
       "      <td>...</td>\n",
       "    </tr>\n",
       "    <tr>\n",
       "      <th>7380</th>\n",
       "      <td>VOLVO</td>\n",
       "      <td>XC40 T5 AWD</td>\n",
       "      <td>SUV - SMALL</td>\n",
       "      <td>2.0</td>\n",
       "      <td>4</td>\n",
       "      <td>Automatic</td>\n",
       "      <td>Z</td>\n",
       "      <td>10.7</td>\n",
       "      <td>7.7</td>\n",
       "      <td>9.4</td>\n",
       "      <td>30</td>\n",
       "      <td>219</td>\n",
       "    </tr>\n",
       "    <tr>\n",
       "      <th>7381</th>\n",
       "      <td>VOLVO</td>\n",
       "      <td>XC60 T5 AWD</td>\n",
       "      <td>SUV - SMALL</td>\n",
       "      <td>2.0</td>\n",
       "      <td>4</td>\n",
       "      <td>Automatic</td>\n",
       "      <td>Z</td>\n",
       "      <td>11.2</td>\n",
       "      <td>8.3</td>\n",
       "      <td>9.9</td>\n",
       "      <td>29</td>\n",
       "      <td>232</td>\n",
       "    </tr>\n",
       "    <tr>\n",
       "      <th>7382</th>\n",
       "      <td>VOLVO</td>\n",
       "      <td>XC60 T6 AWD</td>\n",
       "      <td>SUV - SMALL</td>\n",
       "      <td>2.0</td>\n",
       "      <td>4</td>\n",
       "      <td>Automatic</td>\n",
       "      <td>Z</td>\n",
       "      <td>11.7</td>\n",
       "      <td>8.6</td>\n",
       "      <td>10.3</td>\n",
       "      <td>27</td>\n",
       "      <td>240</td>\n",
       "    </tr>\n",
       "    <tr>\n",
       "      <th>7383</th>\n",
       "      <td>VOLVO</td>\n",
       "      <td>XC90 T5 AWD</td>\n",
       "      <td>SUV - STANDARD</td>\n",
       "      <td>2.0</td>\n",
       "      <td>4</td>\n",
       "      <td>Automatic</td>\n",
       "      <td>Z</td>\n",
       "      <td>11.2</td>\n",
       "      <td>8.3</td>\n",
       "      <td>9.9</td>\n",
       "      <td>29</td>\n",
       "      <td>232</td>\n",
       "    </tr>\n",
       "    <tr>\n",
       "      <th>7384</th>\n",
       "      <td>VOLVO</td>\n",
       "      <td>XC90 T6 AWD</td>\n",
       "      <td>SUV - STANDARD</td>\n",
       "      <td>2.0</td>\n",
       "      <td>4</td>\n",
       "      <td>Automatic</td>\n",
       "      <td>Z</td>\n",
       "      <td>12.2</td>\n",
       "      <td>8.7</td>\n",
       "      <td>10.7</td>\n",
       "      <td>26</td>\n",
       "      <td>248</td>\n",
       "    </tr>\n",
       "  </tbody>\n",
       "</table>\n",
       "<p>7385 rows × 12 columns</p>\n",
       "</div>"
      ],
      "text/plain": [
       "       Make        Model   Vehicle_Class  Engine_Size(L)  Cylinders  \\\n",
       "0     ACURA          ILX         COMPACT             2.0          4   \n",
       "1     ACURA          ILX         COMPACT             2.4          4   \n",
       "2     ACURA   ILX HYBRID         COMPACT             1.5          4   \n",
       "3     ACURA      MDX 4WD     SUV - SMALL             3.5          6   \n",
       "4     ACURA      RDX AWD     SUV - SMALL             3.5          6   \n",
       "...     ...          ...             ...             ...        ...   \n",
       "7380  VOLVO  XC40 T5 AWD     SUV - SMALL             2.0          4   \n",
       "7381  VOLVO  XC60 T5 AWD     SUV - SMALL             2.0          4   \n",
       "7382  VOLVO  XC60 T6 AWD     SUV - SMALL             2.0          4   \n",
       "7383  VOLVO  XC90 T5 AWD  SUV - STANDARD             2.0          4   \n",
       "7384  VOLVO  XC90 T6 AWD  SUV - STANDARD             2.0          4   \n",
       "\n",
       "     Transmission Fuel_Type  Fuel_Consumption_City(L/100 km)  \\\n",
       "0       Automatic         Z                              9.9   \n",
       "1          Manual         Z                             11.2   \n",
       "2       Automatic         Z                              6.0   \n",
       "3       Automatic         Z                             12.7   \n",
       "4       Automatic         Z                             12.1   \n",
       "...           ...       ...                              ...   \n",
       "7380    Automatic         Z                             10.7   \n",
       "7381    Automatic         Z                             11.2   \n",
       "7382    Automatic         Z                             11.7   \n",
       "7383    Automatic         Z                             11.2   \n",
       "7384    Automatic         Z                             12.2   \n",
       "\n",
       "      Fuel_Consumption_Hwy(L/100 km)  Fuel Consumption Comb (L/100 km)  \\\n",
       "0                                6.7                               8.5   \n",
       "1                                7.7                               9.6   \n",
       "2                                5.8                               5.9   \n",
       "3                                9.1                              11.1   \n",
       "4                                8.7                              10.6   \n",
       "...                              ...                               ...   \n",
       "7380                             7.7                               9.4   \n",
       "7381                             8.3                               9.9   \n",
       "7382                             8.6                              10.3   \n",
       "7383                             8.3                               9.9   \n",
       "7384                             8.7                              10.7   \n",
       "\n",
       "      Fuel_Consumption_Comb(mpg)  CO2_Emissions(g/km)  \n",
       "0                             33                  196  \n",
       "1                             29                  221  \n",
       "2                             48                  136  \n",
       "3                             25                  255  \n",
       "4                             27                  244  \n",
       "...                          ...                  ...  \n",
       "7380                          30                  219  \n",
       "7381                          29                  232  \n",
       "7382                          27                  240  \n",
       "7383                          29                  232  \n",
       "7384                          26                  248  \n",
       "\n",
       "[7385 rows x 12 columns]"
      ]
     },
     "execution_count": 2,
     "metadata": {},
     "output_type": "execute_result"
    }
   ],
   "source": [
    "baseCO2 = pd.read_csv('CO2.csv')\n",
    "base_nueva = baseCO2.rename(columns = {'Vehicle Class':'Vehicle_Class','Engine Size(L)':'Engine_Size(L)',\n",
    "                                       'Fuel Type':'Fuel_Type','Fuel Consumption City (L/100 km)':'Fuel_Consumption_City(L/100 km)',\n",
    "                                       'Fuel Consumption Hwy (L/100 km)':'Fuel_Consumption_Hwy(L/100 km)',\n",
    "                                       'Fuel Consumption Comb(g/km)':'Fuel_Consumption_Comb(g/km)',\n",
    "                                       'Fuel Consumption Comb (mpg)':'Fuel_Consumption_Comb(mpg)',\n",
    "                                       'CO2 Emissions(g/km)':'CO2_Emissions(g/km)'})\n",
    "for i in range(0,7385):     # Gracias a que ya sabemos el tamaño de la base de datos\n",
    "    if base_nueva['Transmission'][i][0]=='A':\n",
    "        base_nueva['Transmission'][i]='Automatic'\n",
    "    else:\n",
    "        if base_nueva['Transmission'][i][0]=='M':\n",
    "            base_nueva['Transmission'][i]='Manual'\n",
    "base_nueva"
   ]
  },
  {
   "cell_type": "markdown",
   "id": "9467b5ad",
   "metadata": {
    "id": "9467b5ad"
   },
   "source": [
    "## Deteccion de outliers"
   ]
  },
  {
   "cell_type": "markdown",
   "id": "402d1c15",
   "metadata": {
    "id": "402d1c15"
   },
   "source": [
    "#### ¿Que son los outliers?  \n",
    "\n",
    "Es una observación anormal en una muestra estadística o serie temporal que afecta la estimación de parámetros.  \n",
    "  \n",
    "Identificar “outliers” es fundamental si se desea realizar un análisis descriptivo, ya que estos forman parte de la estadística descriptiva.   \n",
    "\n",
    "Los valores extremos se denominan “outliers” en inglés    \n",
    "Los valores internos se denominan “insiders” en inglés.\n",
    "  \n",
    "#### Significado de los outliers\n",
    "  \n",
    "Tener este tipo de valores pueden significar:  \n",
    "1. ERROR: Errores a la hora de capturar datos  \n",
    "2. CASOS EXTREMOS: Momentos o casos fuera de lo esperado, casos anómalos\n"
   ]
  },
  {
   "cell_type": "markdown",
   "id": "63b434f0",
   "metadata": {
    "id": "63b434f0"
   },
   "source": [
    "### Identificando outliers  \n",
    "\n",
    "Para esto, se pondrá en discusion la presencia de outliers en los valores de nuestra variable **CO2_Emissions(g/km)**  \n",
    "Podemos identificar la presencia de este tipo de datos mediante un diagrama de caja o boxplot:"
   ]
  },
  {
   "cell_type": "code",
   "execution_count": null,
   "id": "3b2e9586",
   "metadata": {
    "colab": {
     "base_uri": "https://localhost:8080/",
     "height": 265
    },
    "id": "3b2e9586",
    "outputId": "956cb15d-2a98-46eb-f5ab-97f3f8f68c29"
   },
   "outputs": [
    {
     "data": {
      "image/png": "[encoded data removed]",
      "text/plain": [
       "<Figure size 432x288 with 1 Axes>"
      ]
     },
     "metadata": {
      "needs_background": "light"
     },
     "output_type": "display_data"
    }
   ],
   "source": [
    "plt.boxplot(base_nueva['CO2_Emissions(g/km)'], vert=False)\n",
    "plt.show()"
   ]
  },
  {
   "cell_type": "markdown",
   "id": "cc1aa559",
   "metadata": {
    "id": "cc1aa559"
   },
   "source": [
    "De la gráfica anterior, es posible detectar la presencia de estos datos. Para esto nos basta con recordar que nos grafica un diagrama de caja:  \n",
    "Se sabe que los lados externos del diagrama boxplot representan tanto el valor mínimo como el valor máximo, por lo que los valores que estén fuera del mínimo y máximo, son considerados **outliers**"
   ]
  },
  {
   "cell_type": "markdown",
   "id": "4fe74add",
   "metadata": {
    "id": "4fe74add"
   },
   "source": [
    "Con lo observado anteriormente, se conluye que hay una presencia de **outliers**. Se procederá a realizar una busqueda de dichos datos"
   ]
  },
  {
   "cell_type": "code",
   "execution_count": 3,
   "id": "398834e5",
   "metadata": {
    "colab": {
     "base_uri": "https://localhost:8080/"
    },
    "id": "398834e5",
    "outputId": "c29c0716-4573-4183-dc3e-41ec87492570"
   },
   "outputs": [
    {
     "name": "stdout",
     "output_type": "stream",
     "text": [
      "Ubicación de outliers\n",
      " 0       False\n",
      "1       False\n",
      "2       False\n",
      "3       False\n",
      "4       False\n",
      "        ...  \n",
      "7380    False\n",
      "7381    False\n",
      "7382    False\n",
      "7383    False\n",
      "7384    False\n",
      "Name: CO2_Emissions(g/km), Length: 7385, dtype: bool\n"
     ]
    }
   ],
   "source": [
    "BI=base_nueva['CO2_Emissions(g/km)'].quantile(.25)-1.5*(base_nueva['CO2_Emissions(g/km)'].quantile(.75)-base_nueva['CO2_Emissions(g/km)'].quantile(.25))\n",
    "BS=base_nueva['CO2_Emissions(g/km)'].quantile(.75)+1.5*(base_nueva['CO2_Emissions(g/km)'].quantile(.75)-base_nueva['CO2_Emissions(g/km)'].quantile(.25))\n",
    "ubicacion_outliers=(base_nueva['CO2_Emissions(g/km)']<BI)|(base_nueva['CO2_Emissions(g/km)']>BS)\n",
    "print('Ubicación de outliers\\n',ubicacion_outliers)"
   ]
  },
  {
   "cell_type": "markdown",
   "id": "70fb322d",
   "metadata": {
    "id": "70fb322d"
   },
   "source": [
    "Ahora, se realiza una visualización de los datos que son considerados outliers, en este caso se filtra de la base de datos original aquellos que cumplan dicha condición:"
   ]
  },
  {
   "cell_type": "code",
   "execution_count": 4,
   "id": "08c0aa9e",
   "metadata": {
    "colab": {
     "base_uri": "https://localhost:8080/",
     "height": 660
    },
    "id": "08c0aa9e",
    "outputId": "49e5b3dc-0e58-4f8d-de36-d79ea722ee49"
   },
   "outputs": [
    {
     "data": {
      "text/html": [
       "<div>\n",
       "<style scoped>\n",
       "    .dataframe tbody tr th:only-of-type {\n",
       "        vertical-align: middle;\n",
       "    }\n",
       "\n",
       "    .dataframe tbody tr th {\n",
       "        vertical-align: top;\n",
       "    }\n",
       "\n",
       "    .dataframe thead th {\n",
       "        text-align: right;\n",
       "    }\n",
       "</style>\n",
       "<table border=\"1\" class=\"dataframe\">\n",
       "  <thead>\n",
       "    <tr style=\"text-align: right;\">\n",
       "      <th></th>\n",
       "      <th>Make</th>\n",
       "      <th>Model</th>\n",
       "      <th>Vehicle_Class</th>\n",
       "      <th>Engine_Size(L)</th>\n",
       "      <th>Cylinders</th>\n",
       "      <th>Transmission</th>\n",
       "      <th>Fuel_Type</th>\n",
       "      <th>Fuel_Consumption_City(L/100 km)</th>\n",
       "      <th>Fuel_Consumption_Hwy(L/100 km)</th>\n",
       "      <th>Fuel Consumption Comb (L/100 km)</th>\n",
       "      <th>Fuel_Consumption_Comb(mpg)</th>\n",
       "      <th>CO2_Emissions(g/km)</th>\n",
       "    </tr>\n",
       "  </thead>\n",
       "  <tbody>\n",
       "    <tr>\n",
       "      <th>48</th>\n",
       "      <td>AUDI</td>\n",
       "      <td>R8</td>\n",
       "      <td>TWO-SEATER</td>\n",
       "      <td>5.2</td>\n",
       "      <td>10</td>\n",
       "      <td>Manual</td>\n",
       "      <td>Z</td>\n",
       "      <td>21.1</td>\n",
       "      <td>13.8</td>\n",
       "      <td>17.8</td>\n",
       "      <td>16</td>\n",
       "      <td>409</td>\n",
       "    </tr>\n",
       "    <tr>\n",
       "      <th>52</th>\n",
       "      <td>AUDI</td>\n",
       "      <td>R8 SPYDER</td>\n",
       "      <td>TWO-SEATER</td>\n",
       "      <td>5.2</td>\n",
       "      <td>10</td>\n",
       "      <td>Manual</td>\n",
       "      <td>Z</td>\n",
       "      <td>21.1</td>\n",
       "      <td>13.8</td>\n",
       "      <td>17.8</td>\n",
       "      <td>16</td>\n",
       "      <td>409</td>\n",
       "    </tr>\n",
       "    <tr>\n",
       "      <th>75</th>\n",
       "      <td>BENTLEY</td>\n",
       "      <td>MULSANNE</td>\n",
       "      <td>MID-SIZE</td>\n",
       "      <td>6.8</td>\n",
       "      <td>8</td>\n",
       "      <td>Automatic</td>\n",
       "      <td>Z</td>\n",
       "      <td>22.3</td>\n",
       "      <td>14.9</td>\n",
       "      <td>19.0</td>\n",
       "      <td>15</td>\n",
       "      <td>437</td>\n",
       "    </tr>\n",
       "    <tr>\n",
       "      <th>223</th>\n",
       "      <td>CHEVROLET</td>\n",
       "      <td>EXPRESS 2500 PASSENGER</td>\n",
       "      <td>VAN - PASSENGER</td>\n",
       "      <td>4.8</td>\n",
       "      <td>8</td>\n",
       "      <td>Automatic</td>\n",
       "      <td>X</td>\n",
       "      <td>21.1</td>\n",
       "      <td>14.2</td>\n",
       "      <td>18.0</td>\n",
       "      <td>16</td>\n",
       "      <td>414</td>\n",
       "    </tr>\n",
       "    <tr>\n",
       "      <th>224</th>\n",
       "      <td>CHEVROLET</td>\n",
       "      <td>EXPRESS 2500 PASSENGER</td>\n",
       "      <td>VAN - PASSENGER</td>\n",
       "      <td>6.0</td>\n",
       "      <td>8</td>\n",
       "      <td>Automatic</td>\n",
       "      <td>X</td>\n",
       "      <td>21.9</td>\n",
       "      <td>15.0</td>\n",
       "      <td>18.8</td>\n",
       "      <td>15</td>\n",
       "      <td>432</td>\n",
       "    </tr>\n",
       "    <tr>\n",
       "      <th>...</th>\n",
       "      <td>...</td>\n",
       "      <td>...</td>\n",
       "      <td>...</td>\n",
       "      <td>...</td>\n",
       "      <td>...</td>\n",
       "      <td>...</td>\n",
       "      <td>...</td>\n",
       "      <td>...</td>\n",
       "      <td>...</td>\n",
       "      <td>...</td>\n",
       "      <td>...</td>\n",
       "      <td>...</td>\n",
       "    </tr>\n",
       "    <tr>\n",
       "      <th>6046</th>\n",
       "      <td>LAMBORGHINI</td>\n",
       "      <td>Aventador Roadster</td>\n",
       "      <td>TWO-SEATER</td>\n",
       "      <td>6.5</td>\n",
       "      <td>12</td>\n",
       "      <td>Automatic</td>\n",
       "      <td>Z</td>\n",
       "      <td>26.6</td>\n",
       "      <td>15.8</td>\n",
       "      <td>21.7</td>\n",
       "      <td>13</td>\n",
       "      <td>493</td>\n",
       "    </tr>\n",
       "    <tr>\n",
       "      <th>6640</th>\n",
       "      <td>BUGATTI</td>\n",
       "      <td>Chiron</td>\n",
       "      <td>TWO-SEATER</td>\n",
       "      <td>8.0</td>\n",
       "      <td>16</td>\n",
       "      <td>Automatic</td>\n",
       "      <td>Z</td>\n",
       "      <td>26.8</td>\n",
       "      <td>16.6</td>\n",
       "      <td>22.2</td>\n",
       "      <td>13</td>\n",
       "      <td>522</td>\n",
       "    </tr>\n",
       "    <tr>\n",
       "      <th>7019</th>\n",
       "      <td>JEEP</td>\n",
       "      <td>Grand Cherokee 4X4 Trackhawk</td>\n",
       "      <td>SUV - STANDARD</td>\n",
       "      <td>6.2</td>\n",
       "      <td>8</td>\n",
       "      <td>Automatic</td>\n",
       "      <td>Z</td>\n",
       "      <td>20.9</td>\n",
       "      <td>13.8</td>\n",
       "      <td>17.7</td>\n",
       "      <td>16</td>\n",
       "      <td>413</td>\n",
       "    </tr>\n",
       "    <tr>\n",
       "      <th>7058</th>\n",
       "      <td>LAMBORGHINI</td>\n",
       "      <td>Aventador Coupe</td>\n",
       "      <td>TWO-SEATER</td>\n",
       "      <td>6.5</td>\n",
       "      <td>12</td>\n",
       "      <td>Automatic</td>\n",
       "      <td>Z</td>\n",
       "      <td>26.2</td>\n",
       "      <td>15.5</td>\n",
       "      <td>21.4</td>\n",
       "      <td>13</td>\n",
       "      <td>485</td>\n",
       "    </tr>\n",
       "    <tr>\n",
       "      <th>7059</th>\n",
       "      <td>LAMBORGHINI</td>\n",
       "      <td>Aventador Roadster</td>\n",
       "      <td>TWO-SEATER</td>\n",
       "      <td>6.5</td>\n",
       "      <td>12</td>\n",
       "      <td>Automatic</td>\n",
       "      <td>Z</td>\n",
       "      <td>26.6</td>\n",
       "      <td>15.8</td>\n",
       "      <td>21.7</td>\n",
       "      <td>13</td>\n",
       "      <td>493</td>\n",
       "    </tr>\n",
       "  </tbody>\n",
       "</table>\n",
       "<p>80 rows × 12 columns</p>\n",
       "</div>"
      ],
      "text/plain": [
       "             Make                         Model    Vehicle_Class  \\\n",
       "48           AUDI                            R8       TWO-SEATER   \n",
       "52           AUDI                     R8 SPYDER       TWO-SEATER   \n",
       "75        BENTLEY                      MULSANNE         MID-SIZE   \n",
       "223     CHEVROLET        EXPRESS 2500 PASSENGER  VAN - PASSENGER   \n",
       "224     CHEVROLET        EXPRESS 2500 PASSENGER  VAN - PASSENGER   \n",
       "...           ...                           ...              ...   \n",
       "6046  LAMBORGHINI            Aventador Roadster       TWO-SEATER   \n",
       "6640      BUGATTI                        Chiron       TWO-SEATER   \n",
       "7019         JEEP  Grand Cherokee 4X4 Trackhawk   SUV - STANDARD   \n",
       "7058  LAMBORGHINI               Aventador Coupe       TWO-SEATER   \n",
       "7059  LAMBORGHINI            Aventador Roadster       TWO-SEATER   \n",
       "\n",
       "      Engine_Size(L)  Cylinders Transmission Fuel_Type  \\\n",
       "48               5.2         10       Manual         Z   \n",
       "52               5.2         10       Manual         Z   \n",
       "75               6.8          8    Automatic         Z   \n",
       "223              4.8          8    Automatic         X   \n",
       "224              6.0          8    Automatic         X   \n",
       "...              ...        ...          ...       ...   \n",
       "6046             6.5         12    Automatic         Z   \n",
       "6640             8.0         16    Automatic         Z   \n",
       "7019             6.2          8    Automatic         Z   \n",
       "7058             6.5         12    Automatic         Z   \n",
       "7059             6.5         12    Automatic         Z   \n",
       "\n",
       "      Fuel_Consumption_City(L/100 km)  Fuel_Consumption_Hwy(L/100 km)  \\\n",
       "48                               21.1                            13.8   \n",
       "52                               21.1                            13.8   \n",
       "75                               22.3                            14.9   \n",
       "223                              21.1                            14.2   \n",
       "224                              21.9                            15.0   \n",
       "...                               ...                             ...   \n",
       "6046                             26.6                            15.8   \n",
       "6640                             26.8                            16.6   \n",
       "7019                             20.9                            13.8   \n",
       "7058                             26.2                            15.5   \n",
       "7059                             26.6                            15.8   \n",
       "\n",
       "      Fuel Consumption Comb (L/100 km)  Fuel_Consumption_Comb(mpg)  \\\n",
       "48                                17.8                          16   \n",
       "52                                17.8                          16   \n",
       "75                                19.0                          15   \n",
       "223                               18.0                          16   \n",
       "224                               18.8                          15   \n",
       "...                                ...                         ...   \n",
       "6046                              21.7                          13   \n",
       "6640                              22.2                          13   \n",
       "7019                              17.7                          16   \n",
       "7058                              21.4                          13   \n",
       "7059                              21.7                          13   \n",
       "\n",
       "      CO2_Emissions(g/km)  \n",
       "48                    409  \n",
       "52                    409  \n",
       "75                    437  \n",
       "223                   414  \n",
       "224                   432  \n",
       "...                   ...  \n",
       "6046                  493  \n",
       "6640                  522  \n",
       "7019                  413  \n",
       "7058                  485  \n",
       "7059                  493  \n",
       "\n",
       "[80 rows x 12 columns]"
      ]
     },
     "execution_count": 4,
     "metadata": {},
     "output_type": "execute_result"
    }
   ],
   "source": [
    "outliers=base_nueva[ubicacion_outliers]\n",
    "outliers"
   ]
  },
  {
   "cell_type": "markdown",
   "id": "461e5d65",
   "metadata": {
    "id": "461e5d65"
   },
   "source": [
    "Continuando, se visualiza la otra parte de nuestra base, es decir, aquellos datos que no son considerados outliers:"
   ]
  },
  {
   "cell_type": "code",
   "execution_count": 5,
   "id": "40b493e0",
   "metadata": {
    "colab": {
     "base_uri": "https://localhost:8080/",
     "height": 626
    },
    "id": "40b493e0",
    "outputId": "9a98d68d-b86a-4c92-962b-b8e11a2e8de5"
   },
   "outputs": [
    {
     "data": {
      "text/html": [
       "<div>\n",
       "<style scoped>\n",
       "    .dataframe tbody tr th:only-of-type {\n",
       "        vertical-align: middle;\n",
       "    }\n",
       "\n",
       "    .dataframe tbody tr th {\n",
       "        vertical-align: top;\n",
       "    }\n",
       "\n",
       "    .dataframe thead th {\n",
       "        text-align: right;\n",
       "    }\n",
       "</style>\n",
       "<table border=\"1\" class=\"dataframe\">\n",
       "  <thead>\n",
       "    <tr style=\"text-align: right;\">\n",
       "      <th></th>\n",
       "      <th>Make</th>\n",
       "      <th>Model</th>\n",
       "      <th>Vehicle_Class</th>\n",
       "      <th>Engine_Size(L)</th>\n",
       "      <th>Cylinders</th>\n",
       "      <th>Transmission</th>\n",
       "      <th>Fuel_Type</th>\n",
       "      <th>Fuel_Consumption_City(L/100 km)</th>\n",
       "      <th>Fuel_Consumption_Hwy(L/100 km)</th>\n",
       "      <th>Fuel Consumption Comb (L/100 km)</th>\n",
       "      <th>Fuel_Consumption_Comb(mpg)</th>\n",
       "      <th>CO2_Emissions(g/km)</th>\n",
       "    </tr>\n",
       "  </thead>\n",
       "  <tbody>\n",
       "    <tr>\n",
       "      <th>0</th>\n",
       "      <td>ACURA</td>\n",
       "      <td>ILX</td>\n",
       "      <td>COMPACT</td>\n",
       "      <td>2.0</td>\n",
       "      <td>4</td>\n",
       "      <td>Automatic</td>\n",
       "      <td>Z</td>\n",
       "      <td>9.9</td>\n",
       "      <td>6.7</td>\n",
       "      <td>8.5</td>\n",
       "      <td>33</td>\n",
       "      <td>196</td>\n",
       "    </tr>\n",
       "    <tr>\n",
       "      <th>1</th>\n",
       "      <td>ACURA</td>\n",
       "      <td>ILX</td>\n",
       "      <td>COMPACT</td>\n",
       "      <td>2.4</td>\n",
       "      <td>4</td>\n",
       "      <td>Manual</td>\n",
       "      <td>Z</td>\n",
       "      <td>11.2</td>\n",
       "      <td>7.7</td>\n",
       "      <td>9.6</td>\n",
       "      <td>29</td>\n",
       "      <td>221</td>\n",
       "    </tr>\n",
       "    <tr>\n",
       "      <th>2</th>\n",
       "      <td>ACURA</td>\n",
       "      <td>ILX HYBRID</td>\n",
       "      <td>COMPACT</td>\n",
       "      <td>1.5</td>\n",
       "      <td>4</td>\n",
       "      <td>Automatic</td>\n",
       "      <td>Z</td>\n",
       "      <td>6.0</td>\n",
       "      <td>5.8</td>\n",
       "      <td>5.9</td>\n",
       "      <td>48</td>\n",
       "      <td>136</td>\n",
       "    </tr>\n",
       "    <tr>\n",
       "      <th>3</th>\n",
       "      <td>ACURA</td>\n",
       "      <td>MDX 4WD</td>\n",
       "      <td>SUV - SMALL</td>\n",
       "      <td>3.5</td>\n",
       "      <td>6</td>\n",
       "      <td>Automatic</td>\n",
       "      <td>Z</td>\n",
       "      <td>12.7</td>\n",
       "      <td>9.1</td>\n",
       "      <td>11.1</td>\n",
       "      <td>25</td>\n",
       "      <td>255</td>\n",
       "    </tr>\n",
       "    <tr>\n",
       "      <th>4</th>\n",
       "      <td>ACURA</td>\n",
       "      <td>RDX AWD</td>\n",
       "      <td>SUV - SMALL</td>\n",
       "      <td>3.5</td>\n",
       "      <td>6</td>\n",
       "      <td>Automatic</td>\n",
       "      <td>Z</td>\n",
       "      <td>12.1</td>\n",
       "      <td>8.7</td>\n",
       "      <td>10.6</td>\n",
       "      <td>27</td>\n",
       "      <td>244</td>\n",
       "    </tr>\n",
       "    <tr>\n",
       "      <th>...</th>\n",
       "      <td>...</td>\n",
       "      <td>...</td>\n",
       "      <td>...</td>\n",
       "      <td>...</td>\n",
       "      <td>...</td>\n",
       "      <td>...</td>\n",
       "      <td>...</td>\n",
       "      <td>...</td>\n",
       "      <td>...</td>\n",
       "      <td>...</td>\n",
       "      <td>...</td>\n",
       "      <td>...</td>\n",
       "    </tr>\n",
       "    <tr>\n",
       "      <th>7380</th>\n",
       "      <td>VOLVO</td>\n",
       "      <td>XC40 T5 AWD</td>\n",
       "      <td>SUV - SMALL</td>\n",
       "      <td>2.0</td>\n",
       "      <td>4</td>\n",
       "      <td>Automatic</td>\n",
       "      <td>Z</td>\n",
       "      <td>10.7</td>\n",
       "      <td>7.7</td>\n",
       "      <td>9.4</td>\n",
       "      <td>30</td>\n",
       "      <td>219</td>\n",
       "    </tr>\n",
       "    <tr>\n",
       "      <th>7381</th>\n",
       "      <td>VOLVO</td>\n",
       "      <td>XC60 T5 AWD</td>\n",
       "      <td>SUV - SMALL</td>\n",
       "      <td>2.0</td>\n",
       "      <td>4</td>\n",
       "      <td>Automatic</td>\n",
       "      <td>Z</td>\n",
       "      <td>11.2</td>\n",
       "      <td>8.3</td>\n",
       "      <td>9.9</td>\n",
       "      <td>29</td>\n",
       "      <td>232</td>\n",
       "    </tr>\n",
       "    <tr>\n",
       "      <th>7382</th>\n",
       "      <td>VOLVO</td>\n",
       "      <td>XC60 T6 AWD</td>\n",
       "      <td>SUV - SMALL</td>\n",
       "      <td>2.0</td>\n",
       "      <td>4</td>\n",
       "      <td>Automatic</td>\n",
       "      <td>Z</td>\n",
       "      <td>11.7</td>\n",
       "      <td>8.6</td>\n",
       "      <td>10.3</td>\n",
       "      <td>27</td>\n",
       "      <td>240</td>\n",
       "    </tr>\n",
       "    <tr>\n",
       "      <th>7383</th>\n",
       "      <td>VOLVO</td>\n",
       "      <td>XC90 T5 AWD</td>\n",
       "      <td>SUV - STANDARD</td>\n",
       "      <td>2.0</td>\n",
       "      <td>4</td>\n",
       "      <td>Automatic</td>\n",
       "      <td>Z</td>\n",
       "      <td>11.2</td>\n",
       "      <td>8.3</td>\n",
       "      <td>9.9</td>\n",
       "      <td>29</td>\n",
       "      <td>232</td>\n",
       "    </tr>\n",
       "    <tr>\n",
       "      <th>7384</th>\n",
       "      <td>VOLVO</td>\n",
       "      <td>XC90 T6 AWD</td>\n",
       "      <td>SUV - STANDARD</td>\n",
       "      <td>2.0</td>\n",
       "      <td>4</td>\n",
       "      <td>Automatic</td>\n",
       "      <td>Z</td>\n",
       "      <td>12.2</td>\n",
       "      <td>8.7</td>\n",
       "      <td>10.7</td>\n",
       "      <td>26</td>\n",
       "      <td>248</td>\n",
       "    </tr>\n",
       "  </tbody>\n",
       "</table>\n",
       "<p>7305 rows × 12 columns</p>\n",
       "</div>"
      ],
      "text/plain": [
       "       Make        Model   Vehicle_Class  Engine_Size(L)  Cylinders  \\\n",
       "0     ACURA          ILX         COMPACT             2.0          4   \n",
       "1     ACURA          ILX         COMPACT             2.4          4   \n",
       "2     ACURA   ILX HYBRID         COMPACT             1.5          4   \n",
       "3     ACURA      MDX 4WD     SUV - SMALL             3.5          6   \n",
       "4     ACURA      RDX AWD     SUV - SMALL             3.5          6   \n",
       "...     ...          ...             ...             ...        ...   \n",
       "7380  VOLVO  XC40 T5 AWD     SUV - SMALL             2.0          4   \n",
       "7381  VOLVO  XC60 T5 AWD     SUV - SMALL             2.0          4   \n",
       "7382  VOLVO  XC60 T6 AWD     SUV - SMALL             2.0          4   \n",
       "7383  VOLVO  XC90 T5 AWD  SUV - STANDARD             2.0          4   \n",
       "7384  VOLVO  XC90 T6 AWD  SUV - STANDARD             2.0          4   \n",
       "\n",
       "     Transmission Fuel_Type  Fuel_Consumption_City(L/100 km)  \\\n",
       "0       Automatic         Z                              9.9   \n",
       "1          Manual         Z                             11.2   \n",
       "2       Automatic         Z                              6.0   \n",
       "3       Automatic         Z                             12.7   \n",
       "4       Automatic         Z                             12.1   \n",
       "...           ...       ...                              ...   \n",
       "7380    Automatic         Z                             10.7   \n",
       "7381    Automatic         Z                             11.2   \n",
       "7382    Automatic         Z                             11.7   \n",
       "7383    Automatic         Z                             11.2   \n",
       "7384    Automatic         Z                             12.2   \n",
       "\n",
       "      Fuel_Consumption_Hwy(L/100 km)  Fuel Consumption Comb (L/100 km)  \\\n",
       "0                                6.7                               8.5   \n",
       "1                                7.7                               9.6   \n",
       "2                                5.8                               5.9   \n",
       "3                                9.1                              11.1   \n",
       "4                                8.7                              10.6   \n",
       "...                              ...                               ...   \n",
       "7380                             7.7                               9.4   \n",
       "7381                             8.3                               9.9   \n",
       "7382                             8.6                              10.3   \n",
       "7383                             8.3                               9.9   \n",
       "7384                             8.7                              10.7   \n",
       "\n",
       "      Fuel_Consumption_Comb(mpg)  CO2_Emissions(g/km)  \n",
       "0                             33                  196  \n",
       "1                             29                  221  \n",
       "2                             48                  136  \n",
       "3                             25                  255  \n",
       "4                             27                  244  \n",
       "...                          ...                  ...  \n",
       "7380                          30                  219  \n",
       "7381                          29                  232  \n",
       "7382                          27                  240  \n",
       "7383                          29                  232  \n",
       "7384                          26                  248  \n",
       "\n",
       "[7305 rows x 12 columns]"
      ]
     },
     "execution_count": 5,
     "metadata": {},
     "output_type": "execute_result"
    }
   ],
   "source": [
    "ubicacion_sin_outliers=(base_nueva['CO2_Emissions(g/km)']>=BI)&(base_nueva['CO2_Emissions(g/km)']<=BS)\n",
    "sin_outliers=base_nueva[ubicacion_sin_outliers]\n",
    "sin_outliers"
   ]
  },
  {
   "cell_type": "markdown",
   "id": "0f8d761d",
   "metadata": {
    "id": "0f8d761d"
   },
   "source": [
    "Dado el filtro anterior, se prosigue a realizar nuevamente un chequeo para verificar que dichos datos ya se hayan eliminado:"
   ]
  },
  {
   "cell_type": "code",
   "execution_count": 6,
   "id": "a8ebbc58",
   "metadata": {
    "colab": {
     "base_uri": "https://localhost:8080/",
     "height": 401
    },
    "id": "a8ebbc58",
    "outputId": "18002a6b-e57b-46c0-fc6e-100bfab9aade"
   },
   "outputs": [
    {
     "data": {
      "text/plain": [
       "{'whiskers': [<matplotlib.lines.Line2D at 0x185972ac220>,\n",
       "  <matplotlib.lines.Line2D at 0x185972ac580>],\n",
       " 'caps': [<matplotlib.lines.Line2D at 0x185972ac8e0>,\n",
       "  <matplotlib.lines.Line2D at 0x185972acc40>],\n",
       " 'boxes': [<matplotlib.lines.Line2D at 0x18597298e80>],\n",
       " 'medians': [<matplotlib.lines.Line2D at 0x185972acfa0>],\n",
       " 'fliers': [<matplotlib.lines.Line2D at 0x185972ba340>],\n",
       " 'means': []}"
      ]
     },
     "execution_count": 6,
     "metadata": {},
     "output_type": "execute_result"
    },
    {
     "data": {
      "image/png": "[encoded data removed]",
      "text/plain": [
       "<Figure size 432x288 with 1 Axes>"
      ]
     },
     "metadata": {
      "needs_background": "light"
     },
     "output_type": "display_data"
    }
   ],
   "source": [
    "plt.boxplot(sin_outliers['CO2_Emissions(g/km)'],vert=False)"
   ]
  },
  {
   "cell_type": "markdown",
   "id": "08658e12",
   "metadata": {
    "id": "08658e12"
   },
   "source": [
    "De lo anterior, se nota que aún se tiene la presencia de dichos datos, por lo que se procede a realizar nuevamente una eliminación de estos datos repitiendo los datos hechos anteriormente."
   ]
  },
  {
   "cell_type": "markdown",
   "id": "95442572",
   "metadata": {
    "id": "95442572"
   },
   "source": [
    "Visualizando la ubicación de los datos outliers:"
   ]
  },
  {
   "cell_type": "code",
   "execution_count": 7,
   "id": "662ae5f6",
   "metadata": {
    "colab": {
     "base_uri": "https://localhost:8080/"
    },
    "id": "662ae5f6",
    "outputId": "e71100a8-fa75-4abb-de39-9de3a44b88e3"
   },
   "outputs": [
    {
     "name": "stdout",
     "output_type": "stream",
     "text": [
      "Ubicación de outliers\n",
      " 0       False\n",
      "1       False\n",
      "2       False\n",
      "3       False\n",
      "4       False\n",
      "        ...  \n",
      "7380    False\n",
      "7381    False\n",
      "7382    False\n",
      "7383    False\n",
      "7384    False\n",
      "Name: CO2_Emissions(g/km), Length: 7305, dtype: bool\n"
     ]
    }
   ],
   "source": [
    "BI=sin_outliers['CO2_Emissions(g/km)'].quantile(.25)-1.5*(sin_outliers['CO2_Emissions(g/km)'].quantile(.75)-sin_outliers['CO2_Emissions(g/km)'].quantile(.25))\n",
    "BS=sin_outliers['CO2_Emissions(g/km)'].quantile(.75)+1.5*(sin_outliers['CO2_Emissions(g/km)'].quantile(.75)-sin_outliers['CO2_Emissions(g/km)'].quantile(.25))\n",
    "ubicacion_outliers2=(sin_outliers['CO2_Emissions(g/km)']<BI)|(sin_outliers['CO2_Emissions(g/km)']>BS)\n",
    "print('Ubicación de outliers\\n',ubicacion_outliers2)"
   ]
  },
  {
   "cell_type": "markdown",
   "id": "3761d685",
   "metadata": {
    "id": "3761d685"
   },
   "source": [
    "Continuando, se observa aquellos datos que no son considerados outliers en nuestra base:"
   ]
  },
  {
   "cell_type": "code",
   "execution_count": 8,
   "id": "05965680",
   "metadata": {
    "colab": {
     "base_uri": "https://localhost:8080/",
     "height": 626
    },
    "id": "05965680",
    "outputId": "bf039a34-bf13-4db4-e57d-29c40a2a62d0"
   },
   "outputs": [
    {
     "data": {
      "text/html": [
       "<div>\n",
       "<style scoped>\n",
       "    .dataframe tbody tr th:only-of-type {\n",
       "        vertical-align: middle;\n",
       "    }\n",
       "\n",
       "    .dataframe tbody tr th {\n",
       "        vertical-align: top;\n",
       "    }\n",
       "\n",
       "    .dataframe thead th {\n",
       "        text-align: right;\n",
       "    }\n",
       "</style>\n",
       "<table border=\"1\" class=\"dataframe\">\n",
       "  <thead>\n",
       "    <tr style=\"text-align: right;\">\n",
       "      <th></th>\n",
       "      <th>Make</th>\n",
       "      <th>Model</th>\n",
       "      <th>Vehicle_Class</th>\n",
       "      <th>Engine_Size(L)</th>\n",
       "      <th>Cylinders</th>\n",
       "      <th>Transmission</th>\n",
       "      <th>Fuel_Type</th>\n",
       "      <th>Fuel_Consumption_City(L/100 km)</th>\n",
       "      <th>Fuel_Consumption_Hwy(L/100 km)</th>\n",
       "      <th>Fuel Consumption Comb (L/100 km)</th>\n",
       "      <th>Fuel_Consumption_Comb(mpg)</th>\n",
       "      <th>CO2_Emissions(g/km)</th>\n",
       "    </tr>\n",
       "  </thead>\n",
       "  <tbody>\n",
       "    <tr>\n",
       "      <th>0</th>\n",
       "      <td>ACURA</td>\n",
       "      <td>ILX</td>\n",
       "      <td>COMPACT</td>\n",
       "      <td>2.0</td>\n",
       "      <td>4</td>\n",
       "      <td>Automatic</td>\n",
       "      <td>Z</td>\n",
       "      <td>9.9</td>\n",
       "      <td>6.7</td>\n",
       "      <td>8.5</td>\n",
       "      <td>33</td>\n",
       "      <td>196</td>\n",
       "    </tr>\n",
       "    <tr>\n",
       "      <th>1</th>\n",
       "      <td>ACURA</td>\n",
       "      <td>ILX</td>\n",
       "      <td>COMPACT</td>\n",
       "      <td>2.4</td>\n",
       "      <td>4</td>\n",
       "      <td>Manual</td>\n",
       "      <td>Z</td>\n",
       "      <td>11.2</td>\n",
       "      <td>7.7</td>\n",
       "      <td>9.6</td>\n",
       "      <td>29</td>\n",
       "      <td>221</td>\n",
       "    </tr>\n",
       "    <tr>\n",
       "      <th>2</th>\n",
       "      <td>ACURA</td>\n",
       "      <td>ILX HYBRID</td>\n",
       "      <td>COMPACT</td>\n",
       "      <td>1.5</td>\n",
       "      <td>4</td>\n",
       "      <td>Automatic</td>\n",
       "      <td>Z</td>\n",
       "      <td>6.0</td>\n",
       "      <td>5.8</td>\n",
       "      <td>5.9</td>\n",
       "      <td>48</td>\n",
       "      <td>136</td>\n",
       "    </tr>\n",
       "    <tr>\n",
       "      <th>3</th>\n",
       "      <td>ACURA</td>\n",
       "      <td>MDX 4WD</td>\n",
       "      <td>SUV - SMALL</td>\n",
       "      <td>3.5</td>\n",
       "      <td>6</td>\n",
       "      <td>Automatic</td>\n",
       "      <td>Z</td>\n",
       "      <td>12.7</td>\n",
       "      <td>9.1</td>\n",
       "      <td>11.1</td>\n",
       "      <td>25</td>\n",
       "      <td>255</td>\n",
       "    </tr>\n",
       "    <tr>\n",
       "      <th>4</th>\n",
       "      <td>ACURA</td>\n",
       "      <td>RDX AWD</td>\n",
       "      <td>SUV - SMALL</td>\n",
       "      <td>3.5</td>\n",
       "      <td>6</td>\n",
       "      <td>Automatic</td>\n",
       "      <td>Z</td>\n",
       "      <td>12.1</td>\n",
       "      <td>8.7</td>\n",
       "      <td>10.6</td>\n",
       "      <td>27</td>\n",
       "      <td>244</td>\n",
       "    </tr>\n",
       "    <tr>\n",
       "      <th>...</th>\n",
       "      <td>...</td>\n",
       "      <td>...</td>\n",
       "      <td>...</td>\n",
       "      <td>...</td>\n",
       "      <td>...</td>\n",
       "      <td>...</td>\n",
       "      <td>...</td>\n",
       "      <td>...</td>\n",
       "      <td>...</td>\n",
       "      <td>...</td>\n",
       "      <td>...</td>\n",
       "      <td>...</td>\n",
       "    </tr>\n",
       "    <tr>\n",
       "      <th>7380</th>\n",
       "      <td>VOLVO</td>\n",
       "      <td>XC40 T5 AWD</td>\n",
       "      <td>SUV - SMALL</td>\n",
       "      <td>2.0</td>\n",
       "      <td>4</td>\n",
       "      <td>Automatic</td>\n",
       "      <td>Z</td>\n",
       "      <td>10.7</td>\n",
       "      <td>7.7</td>\n",
       "      <td>9.4</td>\n",
       "      <td>30</td>\n",
       "      <td>219</td>\n",
       "    </tr>\n",
       "    <tr>\n",
       "      <th>7381</th>\n",
       "      <td>VOLVO</td>\n",
       "      <td>XC60 T5 AWD</td>\n",
       "      <td>SUV - SMALL</td>\n",
       "      <td>2.0</td>\n",
       "      <td>4</td>\n",
       "      <td>Automatic</td>\n",
       "      <td>Z</td>\n",
       "      <td>11.2</td>\n",
       "      <td>8.3</td>\n",
       "      <td>9.9</td>\n",
       "      <td>29</td>\n",
       "      <td>232</td>\n",
       "    </tr>\n",
       "    <tr>\n",
       "      <th>7382</th>\n",
       "      <td>VOLVO</td>\n",
       "      <td>XC60 T6 AWD</td>\n",
       "      <td>SUV - SMALL</td>\n",
       "      <td>2.0</td>\n",
       "      <td>4</td>\n",
       "      <td>Automatic</td>\n",
       "      <td>Z</td>\n",
       "      <td>11.7</td>\n",
       "      <td>8.6</td>\n",
       "      <td>10.3</td>\n",
       "      <td>27</td>\n",
       "      <td>240</td>\n",
       "    </tr>\n",
       "    <tr>\n",
       "      <th>7383</th>\n",
       "      <td>VOLVO</td>\n",
       "      <td>XC90 T5 AWD</td>\n",
       "      <td>SUV - STANDARD</td>\n",
       "      <td>2.0</td>\n",
       "      <td>4</td>\n",
       "      <td>Automatic</td>\n",
       "      <td>Z</td>\n",
       "      <td>11.2</td>\n",
       "      <td>8.3</td>\n",
       "      <td>9.9</td>\n",
       "      <td>29</td>\n",
       "      <td>232</td>\n",
       "    </tr>\n",
       "    <tr>\n",
       "      <th>7384</th>\n",
       "      <td>VOLVO</td>\n",
       "      <td>XC90 T6 AWD</td>\n",
       "      <td>SUV - STANDARD</td>\n",
       "      <td>2.0</td>\n",
       "      <td>4</td>\n",
       "      <td>Automatic</td>\n",
       "      <td>Z</td>\n",
       "      <td>12.2</td>\n",
       "      <td>8.7</td>\n",
       "      <td>10.7</td>\n",
       "      <td>26</td>\n",
       "      <td>248</td>\n",
       "    </tr>\n",
       "  </tbody>\n",
       "</table>\n",
       "<p>7298 rows × 12 columns</p>\n",
       "</div>"
      ],
      "text/plain": [
       "       Make        Model   Vehicle_Class  Engine_Size(L)  Cylinders  \\\n",
       "0     ACURA          ILX         COMPACT             2.0          4   \n",
       "1     ACURA          ILX         COMPACT             2.4          4   \n",
       "2     ACURA   ILX HYBRID         COMPACT             1.5          4   \n",
       "3     ACURA      MDX 4WD     SUV - SMALL             3.5          6   \n",
       "4     ACURA      RDX AWD     SUV - SMALL             3.5          6   \n",
       "...     ...          ...             ...             ...        ...   \n",
       "7380  VOLVO  XC40 T5 AWD     SUV - SMALL             2.0          4   \n",
       "7381  VOLVO  XC60 T5 AWD     SUV - SMALL             2.0          4   \n",
       "7382  VOLVO  XC60 T6 AWD     SUV - SMALL             2.0          4   \n",
       "7383  VOLVO  XC90 T5 AWD  SUV - STANDARD             2.0          4   \n",
       "7384  VOLVO  XC90 T6 AWD  SUV - STANDARD             2.0          4   \n",
       "\n",
       "     Transmission Fuel_Type  Fuel_Consumption_City(L/100 km)  \\\n",
       "0       Automatic         Z                              9.9   \n",
       "1          Manual         Z                             11.2   \n",
       "2       Automatic         Z                              6.0   \n",
       "3       Automatic         Z                             12.7   \n",
       "4       Automatic         Z                             12.1   \n",
       "...           ...       ...                              ...   \n",
       "7380    Automatic         Z                             10.7   \n",
       "7381    Automatic         Z                             11.2   \n",
       "7382    Automatic         Z                             11.7   \n",
       "7383    Automatic         Z                             11.2   \n",
       "7384    Automatic         Z                             12.2   \n",
       "\n",
       "      Fuel_Consumption_Hwy(L/100 km)  Fuel Consumption Comb (L/100 km)  \\\n",
       "0                                6.7                               8.5   \n",
       "1                                7.7                               9.6   \n",
       "2                                5.8                               5.9   \n",
       "3                                9.1                              11.1   \n",
       "4                                8.7                              10.6   \n",
       "...                              ...                               ...   \n",
       "7380                             7.7                               9.4   \n",
       "7381                             8.3                               9.9   \n",
       "7382                             8.6                              10.3   \n",
       "7383                             8.3                               9.9   \n",
       "7384                             8.7                              10.7   \n",
       "\n",
       "      Fuel_Consumption_Comb(mpg)  CO2_Emissions(g/km)  \n",
       "0                             33                  196  \n",
       "1                             29                  221  \n",
       "2                             48                  136  \n",
       "3                             25                  255  \n",
       "4                             27                  244  \n",
       "...                          ...                  ...  \n",
       "7380                          30                  219  \n",
       "7381                          29                  232  \n",
       "7382                          27                  240  \n",
       "7383                          29                  232  \n",
       "7384                          26                  248  \n",
       "\n",
       "[7298 rows x 12 columns]"
      ]
     },
     "execution_count": 8,
     "metadata": {},
     "output_type": "execute_result"
    }
   ],
   "source": [
    "ubicacion_sin_outliers2=(sin_outliers['CO2_Emissions(g/km)']>=BI)&(sin_outliers['CO2_Emissions(g/km)']<=BS)\n",
    "sin_outliers2=sin_outliers[ubicacion_sin_outliers2]\n",
    "sin_outliers2"
   ]
  },
  {
   "cell_type": "markdown",
   "id": "21ed5a28",
   "metadata": {
    "id": "21ed5a28"
   },
   "source": [
    "Se verifica nuevamente que se hayan eliminado los datos outliers por completo:"
   ]
  },
  {
   "cell_type": "code",
   "execution_count": 9,
   "id": "c92fda58",
   "metadata": {
    "colab": {
     "base_uri": "https://localhost:8080/",
     "height": 401
    },
    "id": "c92fda58",
    "outputId": "0b4da5e6-e867-42c2-f106-67363c4cc2b4"
   },
   "outputs": [
    {
     "data": {
      "text/plain": [
       "{'whiskers': [<matplotlib.lines.Line2D at 0x185973c09d0>,\n",
       "  <matplotlib.lines.Line2D at 0x185973c0d30>],\n",
       " 'caps': [<matplotlib.lines.Line2D at 0x185973cf0d0>,\n",
       "  <matplotlib.lines.Line2D at 0x185973cf430>],\n",
       " 'boxes': [<matplotlib.lines.Line2D at 0x185973c0670>],\n",
       " 'medians': [<matplotlib.lines.Line2D at 0x185973cf790>],\n",
       " 'fliers': [<matplotlib.lines.Line2D at 0x185973cfaf0>],\n",
       " 'means': []}"
      ]
     },
     "execution_count": 9,
     "metadata": {},
     "output_type": "execute_result"
    },
    {
     "data": {
      "image/png": "[encoded data removed]",
      "text/plain": [
       "<Figure size 432x288 with 1 Axes>"
      ]
     },
     "metadata": {
      "needs_background": "light"
     },
     "output_type": "display_data"
    }
   ],
   "source": [
    "plt.boxplot(sin_outliers2['CO2_Emissions(g/km)'],vert=False)"
   ]
  },
  {
   "cell_type": "markdown",
   "id": "8460324d",
   "metadata": {
    "id": "8460324d"
   },
   "source": [
    "Tomando en cuenta que se elimino la presencia outliers encontrados, se obtiene una base lista para poder trabajarla:"
   ]
  },
  {
   "cell_type": "code",
   "execution_count": 10,
   "id": "efe3307f",
   "metadata": {
    "colab": {
     "base_uri": "https://localhost:8080/",
     "height": 626
    },
    "id": "efe3307f",
    "outputId": "47d1171b-3f56-40a5-fb75-7a474b4d2d09"
   },
   "outputs": [
    {
     "data": {
      "text/html": [
       "<div>\n",
       "<style scoped>\n",
       "    .dataframe tbody tr th:only-of-type {\n",
       "        vertical-align: middle;\n",
       "    }\n",
       "\n",
       "    .dataframe tbody tr th {\n",
       "        vertical-align: top;\n",
       "    }\n",
       "\n",
       "    .dataframe thead th {\n",
       "        text-align: right;\n",
       "    }\n",
       "</style>\n",
       "<table border=\"1\" class=\"dataframe\">\n",
       "  <thead>\n",
       "    <tr style=\"text-align: right;\">\n",
       "      <th></th>\n",
       "      <th>Make</th>\n",
       "      <th>Model</th>\n",
       "      <th>Vehicle_Class</th>\n",
       "      <th>Engine_Size(L)</th>\n",
       "      <th>Cylinders</th>\n",
       "      <th>Transmission</th>\n",
       "      <th>Fuel_Type</th>\n",
       "      <th>Fuel_Consumption_City(L/100 km)</th>\n",
       "      <th>Fuel_Consumption_Hwy(L/100 km)</th>\n",
       "      <th>Fuel Consumption Comb (L/100 km)</th>\n",
       "      <th>Fuel_Consumption_Comb(mpg)</th>\n",
       "      <th>CO2_Emissions(g/km)</th>\n",
       "    </tr>\n",
       "  </thead>\n",
       "  <tbody>\n",
       "    <tr>\n",
       "      <th>0</th>\n",
       "      <td>ACURA</td>\n",
       "      <td>ILX</td>\n",
       "      <td>COMPACT</td>\n",
       "      <td>2.0</td>\n",
       "      <td>4</td>\n",
       "      <td>Automatic</td>\n",
       "      <td>Z</td>\n",
       "      <td>9.9</td>\n",
       "      <td>6.7</td>\n",
       "      <td>8.5</td>\n",
       "      <td>33</td>\n",
       "      <td>196</td>\n",
       "    </tr>\n",
       "    <tr>\n",
       "      <th>1</th>\n",
       "      <td>ACURA</td>\n",
       "      <td>ILX</td>\n",
       "      <td>COMPACT</td>\n",
       "      <td>2.4</td>\n",
       "      <td>4</td>\n",
       "      <td>Manual</td>\n",
       "      <td>Z</td>\n",
       "      <td>11.2</td>\n",
       "      <td>7.7</td>\n",
       "      <td>9.6</td>\n",
       "      <td>29</td>\n",
       "      <td>221</td>\n",
       "    </tr>\n",
       "    <tr>\n",
       "      <th>2</th>\n",
       "      <td>ACURA</td>\n",
       "      <td>ILX HYBRID</td>\n",
       "      <td>COMPACT</td>\n",
       "      <td>1.5</td>\n",
       "      <td>4</td>\n",
       "      <td>Automatic</td>\n",
       "      <td>Z</td>\n",
       "      <td>6.0</td>\n",
       "      <td>5.8</td>\n",
       "      <td>5.9</td>\n",
       "      <td>48</td>\n",
       "      <td>136</td>\n",
       "    </tr>\n",
       "    <tr>\n",
       "      <th>3</th>\n",
       "      <td>ACURA</td>\n",
       "      <td>MDX 4WD</td>\n",
       "      <td>SUV - SMALL</td>\n",
       "      <td>3.5</td>\n",
       "      <td>6</td>\n",
       "      <td>Automatic</td>\n",
       "      <td>Z</td>\n",
       "      <td>12.7</td>\n",
       "      <td>9.1</td>\n",
       "      <td>11.1</td>\n",
       "      <td>25</td>\n",
       "      <td>255</td>\n",
       "    </tr>\n",
       "    <tr>\n",
       "      <th>4</th>\n",
       "      <td>ACURA</td>\n",
       "      <td>RDX AWD</td>\n",
       "      <td>SUV - SMALL</td>\n",
       "      <td>3.5</td>\n",
       "      <td>6</td>\n",
       "      <td>Automatic</td>\n",
       "      <td>Z</td>\n",
       "      <td>12.1</td>\n",
       "      <td>8.7</td>\n",
       "      <td>10.6</td>\n",
       "      <td>27</td>\n",
       "      <td>244</td>\n",
       "    </tr>\n",
       "    <tr>\n",
       "      <th>...</th>\n",
       "      <td>...</td>\n",
       "      <td>...</td>\n",
       "      <td>...</td>\n",
       "      <td>...</td>\n",
       "      <td>...</td>\n",
       "      <td>...</td>\n",
       "      <td>...</td>\n",
       "      <td>...</td>\n",
       "      <td>...</td>\n",
       "      <td>...</td>\n",
       "      <td>...</td>\n",
       "      <td>...</td>\n",
       "    </tr>\n",
       "    <tr>\n",
       "      <th>7380</th>\n",
       "      <td>VOLVO</td>\n",
       "      <td>XC40 T5 AWD</td>\n",
       "      <td>SUV - SMALL</td>\n",
       "      <td>2.0</td>\n",
       "      <td>4</td>\n",
       "      <td>Automatic</td>\n",
       "      <td>Z</td>\n",
       "      <td>10.7</td>\n",
       "      <td>7.7</td>\n",
       "      <td>9.4</td>\n",
       "      <td>30</td>\n",
       "      <td>219</td>\n",
       "    </tr>\n",
       "    <tr>\n",
       "      <th>7381</th>\n",
       "      <td>VOLVO</td>\n",
       "      <td>XC60 T5 AWD</td>\n",
       "      <td>SUV - SMALL</td>\n",
       "      <td>2.0</td>\n",
       "      <td>4</td>\n",
       "      <td>Automatic</td>\n",
       "      <td>Z</td>\n",
       "      <td>11.2</td>\n",
       "      <td>8.3</td>\n",
       "      <td>9.9</td>\n",
       "      <td>29</td>\n",
       "      <td>232</td>\n",
       "    </tr>\n",
       "    <tr>\n",
       "      <th>7382</th>\n",
       "      <td>VOLVO</td>\n",
       "      <td>XC60 T6 AWD</td>\n",
       "      <td>SUV - SMALL</td>\n",
       "      <td>2.0</td>\n",
       "      <td>4</td>\n",
       "      <td>Automatic</td>\n",
       "      <td>Z</td>\n",
       "      <td>11.7</td>\n",
       "      <td>8.6</td>\n",
       "      <td>10.3</td>\n",
       "      <td>27</td>\n",
       "      <td>240</td>\n",
       "    </tr>\n",
       "    <tr>\n",
       "      <th>7383</th>\n",
       "      <td>VOLVO</td>\n",
       "      <td>XC90 T5 AWD</td>\n",
       "      <td>SUV - STANDARD</td>\n",
       "      <td>2.0</td>\n",
       "      <td>4</td>\n",
       "      <td>Automatic</td>\n",
       "      <td>Z</td>\n",
       "      <td>11.2</td>\n",
       "      <td>8.3</td>\n",
       "      <td>9.9</td>\n",
       "      <td>29</td>\n",
       "      <td>232</td>\n",
       "    </tr>\n",
       "    <tr>\n",
       "      <th>7384</th>\n",
       "      <td>VOLVO</td>\n",
       "      <td>XC90 T6 AWD</td>\n",
       "      <td>SUV - STANDARD</td>\n",
       "      <td>2.0</td>\n",
       "      <td>4</td>\n",
       "      <td>Automatic</td>\n",
       "      <td>Z</td>\n",
       "      <td>12.2</td>\n",
       "      <td>8.7</td>\n",
       "      <td>10.7</td>\n",
       "      <td>26</td>\n",
       "      <td>248</td>\n",
       "    </tr>\n",
       "  </tbody>\n",
       "</table>\n",
       "<p>7298 rows × 12 columns</p>\n",
       "</div>"
      ],
      "text/plain": [
       "       Make        Model   Vehicle_Class  Engine_Size(L)  Cylinders  \\\n",
       "0     ACURA          ILX         COMPACT             2.0          4   \n",
       "1     ACURA          ILX         COMPACT             2.4          4   \n",
       "2     ACURA   ILX HYBRID         COMPACT             1.5          4   \n",
       "3     ACURA      MDX 4WD     SUV - SMALL             3.5          6   \n",
       "4     ACURA      RDX AWD     SUV - SMALL             3.5          6   \n",
       "...     ...          ...             ...             ...        ...   \n",
       "7380  VOLVO  XC40 T5 AWD     SUV - SMALL             2.0          4   \n",
       "7381  VOLVO  XC60 T5 AWD     SUV - SMALL             2.0          4   \n",
       "7382  VOLVO  XC60 T6 AWD     SUV - SMALL             2.0          4   \n",
       "7383  VOLVO  XC90 T5 AWD  SUV - STANDARD             2.0          4   \n",
       "7384  VOLVO  XC90 T6 AWD  SUV - STANDARD             2.0          4   \n",
       "\n",
       "     Transmission Fuel_Type  Fuel_Consumption_City(L/100 km)  \\\n",
       "0       Automatic         Z                              9.9   \n",
       "1          Manual         Z                             11.2   \n",
       "2       Automatic         Z                              6.0   \n",
       "3       Automatic         Z                             12.7   \n",
       "4       Automatic         Z                             12.1   \n",
       "...           ...       ...                              ...   \n",
       "7380    Automatic         Z                             10.7   \n",
       "7381    Automatic         Z                             11.2   \n",
       "7382    Automatic         Z                             11.7   \n",
       "7383    Automatic         Z                             11.2   \n",
       "7384    Automatic         Z                             12.2   \n",
       "\n",
       "      Fuel_Consumption_Hwy(L/100 km)  Fuel Consumption Comb (L/100 km)  \\\n",
       "0                                6.7                               8.5   \n",
       "1                                7.7                               9.6   \n",
       "2                                5.8                               5.9   \n",
       "3                                9.1                              11.1   \n",
       "4                                8.7                              10.6   \n",
       "...                              ...                               ...   \n",
       "7380                             7.7                               9.4   \n",
       "7381                             8.3                               9.9   \n",
       "7382                             8.6                              10.3   \n",
       "7383                             8.3                               9.9   \n",
       "7384                             8.7                              10.7   \n",
       "\n",
       "      Fuel_Consumption_Comb(mpg)  CO2_Emissions(g/km)  \n",
       "0                             33                  196  \n",
       "1                             29                  221  \n",
       "2                             48                  136  \n",
       "3                             25                  255  \n",
       "4                             27                  244  \n",
       "...                          ...                  ...  \n",
       "7380                          30                  219  \n",
       "7381                          29                  232  \n",
       "7382                          27                  240  \n",
       "7383                          29                  232  \n",
       "7384                          26                  248  \n",
       "\n",
       "[7298 rows x 12 columns]"
      ]
     },
     "execution_count": 10,
     "metadata": {},
     "output_type": "execute_result"
    }
   ],
   "source": [
    "base_CO2=sin_outliers2\n",
    "base_CO2"
   ]
  },
  {
   "cell_type": "markdown",
   "id": "eb634129",
   "metadata": {
    "id": "eb634129"
   },
   "source": [
    "# Técnica de minería: Regresión lineal"
   ]
  },
  {
   "cell_type": "markdown",
   "id": "046ecf54",
   "metadata": {
    "id": "046ecf54"
   },
   "source": [
    "La técnica que se decidió emplear en el trabajo para contestar o resolver el objetivo principal es la regresión lineal. Como ya se sabe, el objetivo de la regresión lineal es predecir el valor de una variable por medio del valor de otra(s). En el objetivo principal se dice que se quiere predecir las emisiones de CO2, por lo que se puede hacer uso de la regresión lineal para cumplir con esto. La regresión lineal involucra dos tipos de variables: dependiente e independiente; la variable que se quiere predecir es la dependiente, en nuestro caso el valor de las emisiones de CO2, mientras que las variables independientes son aquellas que se utilizarán para explicar el comportamiento de la variable dependiente, en la base se cuenta con distintas variables para hacer uso de ellas y modelar la regresión. En resumen, se hace uso de esta técnica debido a que será de utilidad para predecir las emisiones de CO2 y se cuenta con todas las componentes necesarias para realizarla.\n",
    "\n",
    "Otro punto válido para trabajar con una regresión lineal es que se tienen suficientes variables independientes para intentar diversos modelos que las involucren. Las variables se relacionan de buena manera con la variable dependiente (emisiones de CO2), lo que nos indica que las emisiones podrían ser explicadas con alguna(s) de estas variables por medio de un modelo de regresión lineal múltiple (la relación se mostró en el avance 2 del PIA)."
   ]
  },
  {
   "cell_type": "markdown",
   "id": "48f3434a",
   "metadata": {
    "id": "48f3434a"
   },
   "source": [
    "## Regresión lineal múltiple en Python  \n",
    "*Es importante mencionar que la siguiente información (código) fue obtenida de una fuente externa, la cual estará anexada al final de documento con sus respectivas referencias.*"
   ]
  },
  {
   "cell_type": "markdown",
   "id": "7ae724a4",
   "metadata": {
    "id": "7ae724a4"
   },
   "source": [
    "Antes de empezar a trabajar con la regresión lineal debemos preguntarnos \"¿Por qué funcionaría una regresión con mis datos?\". De antemano sabemos que las variables de la base están fuertemente relacionadas, lo que nos indica que una variable o un conjunto de variables podrían explicar de una buena manera el comportamiento de las emisiones de CO2 de los automóviles e intentar predecirlas por medio de un modelo de regresión lineal que usualmente son aplicados en estos casos.\n",
    "\n",
    "De la misma manera, se puede suponer que las variables independientes están involucradas de manera directa con las emisiones. Por ejemplo, a mayor número de cilindros en un automóvil sabemos que implica que necesita más combustible (producirá más emisiones); a mayor tamaño de motor se necesita de igual forma mayor combustible (puesto que está medido en litros); entre otros casos. Por lo que podemos imaginar que un conjunto de variables de este estilo pueden predecir las emisiones de CO2 que un vehículo generará dadas sus características básicas.  \n",
    "\n",
    "Una vez establecido esto, podemos empezar con el análisis de regresión lineal múltiple que proponemos."
   ]
  },
  {
   "cell_type": "markdown",
   "id": "fc1356f3",
   "metadata": {
    "id": "fc1356f3"
   },
   "source": [
    "### Librerías"
   ]
  },
  {
   "cell_type": "markdown",
   "id": "586350b6",
   "metadata": {
    "id": "586350b6"
   },
   "source": [
    "Lo primero es llamar y nombrar a las librerías que se utilizarán a lo largo del trabajo, ya sea en la parte de análisis del modelo, revisión gráfica, entre otras."
   ]
  },
  {
   "cell_type": "code",
   "execution_count": 11,
   "id": "5d1c57d4",
   "metadata": {
    "colab": {
     "base_uri": "https://localhost:8080/"
    },
    "id": "5d1c57d4",
    "outputId": "87809717-02a0-49c5-f325-1a9f2ad1190d"
   },
   "outputs": [],
   "source": [
    "# Para tratar los datos\n",
    "import pandas as pd\n",
    "import numpy as np\n",
    "\n",
    "# Para elaborar las gráficas\n",
    "import matplotlib.pyplot as plt\n",
    "from matplotlib import style\n",
    "import seaborn as sns\n",
    "\n",
    "# Para el proceso y modelado de la regresión\n",
    "from scipy.stats import pearsonr\n",
    "from sklearn.model_selection import train_test_split\n",
    "from sklearn.metrics import r2_score\n",
    "from sklearn.metrics import mean_squared_error\n",
    "import statsmodels.api as sm\n",
    "import statsmodels.formula.api as smf\n",
    "from statsmodels.stats.anova import anova_lm\n",
    "from scipy import stats\n",
    "\n",
    "# Configuración matplotlib\n",
    "plt.rcParams['image.cmap'] = \"bwr\"\n",
    "#plt.rcParams['figure.dpi'] = \"100\"\n",
    "plt.rcParams['savefig.bbox'] = \"tight\"\n",
    "style.use('ggplot') or plt.style.use('ggplot')\n",
    "\n",
    "# Configuración warnings\n",
    "import warnings\n",
    "warnings.filterwarnings('ignore')"
   ]
  },
  {
   "cell_type": "markdown",
   "id": "daa59b9e",
   "metadata": {
    "id": "daa59b9e"
   },
   "source": [
    "### Datos"
   ]
  },
  {
   "cell_type": "markdown",
   "id": "1b61a080",
   "metadata": {
    "id": "1b61a080"
   },
   "source": [
    "Lo primero que se tiene que hacer es leer la base de datos más nueva que se tiene, en este caso es aquella que resulta después de las modificaciones y eliminaciones de columnas."
   ]
  },
  {
   "cell_type": "code",
   "execution_count": 12,
   "id": "ce6a548b",
   "metadata": {
    "id": "ce6a548b"
   },
   "outputs": [],
   "source": [
    "baseCO2 = base_CO2"
   ]
  },
  {
   "cell_type": "markdown",
   "id": "e51fa801",
   "metadata": {
    "id": "e51fa801"
   },
   "source": [
    "Se debe comprobar que la base se haya guardado correctamente en la variable:"
   ]
  },
  {
   "cell_type": "code",
   "execution_count": 13,
   "id": "009c7600",
   "metadata": {
    "colab": {
     "base_uri": "https://localhost:8080/",
     "height": 626
    },
    "id": "009c7600",
    "outputId": "60411940-8a4c-4e96-ffc6-d22fed2e047f"
   },
   "outputs": [
    {
     "data": {
      "text/html": [
       "<div>\n",
       "<style scoped>\n",
       "    .dataframe tbody tr th:only-of-type {\n",
       "        vertical-align: middle;\n",
       "    }\n",
       "\n",
       "    .dataframe tbody tr th {\n",
       "        vertical-align: top;\n",
       "    }\n",
       "\n",
       "    .dataframe thead th {\n",
       "        text-align: right;\n",
       "    }\n",
       "</style>\n",
       "<table border=\"1\" class=\"dataframe\">\n",
       "  <thead>\n",
       "    <tr style=\"text-align: right;\">\n",
       "      <th></th>\n",
       "      <th>Make</th>\n",
       "      <th>Model</th>\n",
       "      <th>Vehicle_Class</th>\n",
       "      <th>Engine_Size(L)</th>\n",
       "      <th>Cylinders</th>\n",
       "      <th>Transmission</th>\n",
       "      <th>Fuel_Type</th>\n",
       "      <th>Fuel_Consumption_City(L/100 km)</th>\n",
       "      <th>Fuel_Consumption_Hwy(L/100 km)</th>\n",
       "      <th>Fuel Consumption Comb (L/100 km)</th>\n",
       "      <th>Fuel_Consumption_Comb(mpg)</th>\n",
       "      <th>CO2_Emissions(g/km)</th>\n",
       "    </tr>\n",
       "  </thead>\n",
       "  <tbody>\n",
       "    <tr>\n",
       "      <th>0</th>\n",
       "      <td>ACURA</td>\n",
       "      <td>ILX</td>\n",
       "      <td>COMPACT</td>\n",
       "      <td>2.0</td>\n",
       "      <td>4</td>\n",
       "      <td>Automatic</td>\n",
       "      <td>Z</td>\n",
       "      <td>9.9</td>\n",
       "      <td>6.7</td>\n",
       "      <td>8.5</td>\n",
       "      <td>33</td>\n",
       "      <td>196</td>\n",
       "    </tr>\n",
       "    <tr>\n",
       "      <th>1</th>\n",
       "      <td>ACURA</td>\n",
       "      <td>ILX</td>\n",
       "      <td>COMPACT</td>\n",
       "      <td>2.4</td>\n",
       "      <td>4</td>\n",
       "      <td>Manual</td>\n",
       "      <td>Z</td>\n",
       "      <td>11.2</td>\n",
       "      <td>7.7</td>\n",
       "      <td>9.6</td>\n",
       "      <td>29</td>\n",
       "      <td>221</td>\n",
       "    </tr>\n",
       "    <tr>\n",
       "      <th>2</th>\n",
       "      <td>ACURA</td>\n",
       "      <td>ILX HYBRID</td>\n",
       "      <td>COMPACT</td>\n",
       "      <td>1.5</td>\n",
       "      <td>4</td>\n",
       "      <td>Automatic</td>\n",
       "      <td>Z</td>\n",
       "      <td>6.0</td>\n",
       "      <td>5.8</td>\n",
       "      <td>5.9</td>\n",
       "      <td>48</td>\n",
       "      <td>136</td>\n",
       "    </tr>\n",
       "    <tr>\n",
       "      <th>3</th>\n",
       "      <td>ACURA</td>\n",
       "      <td>MDX 4WD</td>\n",
       "      <td>SUV - SMALL</td>\n",
       "      <td>3.5</td>\n",
       "      <td>6</td>\n",
       "      <td>Automatic</td>\n",
       "      <td>Z</td>\n",
       "      <td>12.7</td>\n",
       "      <td>9.1</td>\n",
       "      <td>11.1</td>\n",
       "      <td>25</td>\n",
       "      <td>255</td>\n",
       "    </tr>\n",
       "    <tr>\n",
       "      <th>4</th>\n",
       "      <td>ACURA</td>\n",
       "      <td>RDX AWD</td>\n",
       "      <td>SUV - SMALL</td>\n",
       "      <td>3.5</td>\n",
       "      <td>6</td>\n",
       "      <td>Automatic</td>\n",
       "      <td>Z</td>\n",
       "      <td>12.1</td>\n",
       "      <td>8.7</td>\n",
       "      <td>10.6</td>\n",
       "      <td>27</td>\n",
       "      <td>244</td>\n",
       "    </tr>\n",
       "    <tr>\n",
       "      <th>...</th>\n",
       "      <td>...</td>\n",
       "      <td>...</td>\n",
       "      <td>...</td>\n",
       "      <td>...</td>\n",
       "      <td>...</td>\n",
       "      <td>...</td>\n",
       "      <td>...</td>\n",
       "      <td>...</td>\n",
       "      <td>...</td>\n",
       "      <td>...</td>\n",
       "      <td>...</td>\n",
       "      <td>...</td>\n",
       "    </tr>\n",
       "    <tr>\n",
       "      <th>7380</th>\n",
       "      <td>VOLVO</td>\n",
       "      <td>XC40 T5 AWD</td>\n",
       "      <td>SUV - SMALL</td>\n",
       "      <td>2.0</td>\n",
       "      <td>4</td>\n",
       "      <td>Automatic</td>\n",
       "      <td>Z</td>\n",
       "      <td>10.7</td>\n",
       "      <td>7.7</td>\n",
       "      <td>9.4</td>\n",
       "      <td>30</td>\n",
       "      <td>219</td>\n",
       "    </tr>\n",
       "    <tr>\n",
       "      <th>7381</th>\n",
       "      <td>VOLVO</td>\n",
       "      <td>XC60 T5 AWD</td>\n",
       "      <td>SUV - SMALL</td>\n",
       "      <td>2.0</td>\n",
       "      <td>4</td>\n",
       "      <td>Automatic</td>\n",
       "      <td>Z</td>\n",
       "      <td>11.2</td>\n",
       "      <td>8.3</td>\n",
       "      <td>9.9</td>\n",
       "      <td>29</td>\n",
       "      <td>232</td>\n",
       "    </tr>\n",
       "    <tr>\n",
       "      <th>7382</th>\n",
       "      <td>VOLVO</td>\n",
       "      <td>XC60 T6 AWD</td>\n",
       "      <td>SUV - SMALL</td>\n",
       "      <td>2.0</td>\n",
       "      <td>4</td>\n",
       "      <td>Automatic</td>\n",
       "      <td>Z</td>\n",
       "      <td>11.7</td>\n",
       "      <td>8.6</td>\n",
       "      <td>10.3</td>\n",
       "      <td>27</td>\n",
       "      <td>240</td>\n",
       "    </tr>\n",
       "    <tr>\n",
       "      <th>7383</th>\n",
       "      <td>VOLVO</td>\n",
       "      <td>XC90 T5 AWD</td>\n",
       "      <td>SUV - STANDARD</td>\n",
       "      <td>2.0</td>\n",
       "      <td>4</td>\n",
       "      <td>Automatic</td>\n",
       "      <td>Z</td>\n",
       "      <td>11.2</td>\n",
       "      <td>8.3</td>\n",
       "      <td>9.9</td>\n",
       "      <td>29</td>\n",
       "      <td>232</td>\n",
       "    </tr>\n",
       "    <tr>\n",
       "      <th>7384</th>\n",
       "      <td>VOLVO</td>\n",
       "      <td>XC90 T6 AWD</td>\n",
       "      <td>SUV - STANDARD</td>\n",
       "      <td>2.0</td>\n",
       "      <td>4</td>\n",
       "      <td>Automatic</td>\n",
       "      <td>Z</td>\n",
       "      <td>12.2</td>\n",
       "      <td>8.7</td>\n",
       "      <td>10.7</td>\n",
       "      <td>26</td>\n",
       "      <td>248</td>\n",
       "    </tr>\n",
       "  </tbody>\n",
       "</table>\n",
       "<p>7298 rows × 12 columns</p>\n",
       "</div>"
      ],
      "text/plain": [
       "       Make        Model   Vehicle_Class  Engine_Size(L)  Cylinders  \\\n",
       "0     ACURA          ILX         COMPACT             2.0          4   \n",
       "1     ACURA          ILX         COMPACT             2.4          4   \n",
       "2     ACURA   ILX HYBRID         COMPACT             1.5          4   \n",
       "3     ACURA      MDX 4WD     SUV - SMALL             3.5          6   \n",
       "4     ACURA      RDX AWD     SUV - SMALL             3.5          6   \n",
       "...     ...          ...             ...             ...        ...   \n",
       "7380  VOLVO  XC40 T5 AWD     SUV - SMALL             2.0          4   \n",
       "7381  VOLVO  XC60 T5 AWD     SUV - SMALL             2.0          4   \n",
       "7382  VOLVO  XC60 T6 AWD     SUV - SMALL             2.0          4   \n",
       "7383  VOLVO  XC90 T5 AWD  SUV - STANDARD             2.0          4   \n",
       "7384  VOLVO  XC90 T6 AWD  SUV - STANDARD             2.0          4   \n",
       "\n",
       "     Transmission Fuel_Type  Fuel_Consumption_City(L/100 km)  \\\n",
       "0       Automatic         Z                              9.9   \n",
       "1          Manual         Z                             11.2   \n",
       "2       Automatic         Z                              6.0   \n",
       "3       Automatic         Z                             12.7   \n",
       "4       Automatic         Z                             12.1   \n",
       "...           ...       ...                              ...   \n",
       "7380    Automatic         Z                             10.7   \n",
       "7381    Automatic         Z                             11.2   \n",
       "7382    Automatic         Z                             11.7   \n",
       "7383    Automatic         Z                             11.2   \n",
       "7384    Automatic         Z                             12.2   \n",
       "\n",
       "      Fuel_Consumption_Hwy(L/100 km)  Fuel Consumption Comb (L/100 km)  \\\n",
       "0                                6.7                               8.5   \n",
       "1                                7.7                               9.6   \n",
       "2                                5.8                               5.9   \n",
       "3                                9.1                              11.1   \n",
       "4                                8.7                              10.6   \n",
       "...                              ...                               ...   \n",
       "7380                             7.7                               9.4   \n",
       "7381                             8.3                               9.9   \n",
       "7382                             8.6                              10.3   \n",
       "7383                             8.3                               9.9   \n",
       "7384                             8.7                              10.7   \n",
       "\n",
       "      Fuel_Consumption_Comb(mpg)  CO2_Emissions(g/km)  \n",
       "0                             33                  196  \n",
       "1                             29                  221  \n",
       "2                             48                  136  \n",
       "3                             25                  255  \n",
       "4                             27                  244  \n",
       "...                          ...                  ...  \n",
       "7380                          30                  219  \n",
       "7381                          29                  232  \n",
       "7382                          27                  240  \n",
       "7383                          29                  232  \n",
       "7384                          26                  248  \n",
       "\n",
       "[7298 rows x 12 columns]"
      ]
     },
     "execution_count": 13,
     "metadata": {},
     "output_type": "execute_result"
    }
   ],
   "source": [
    "baseCO2"
   ]
  },
  {
   "cell_type": "markdown",
   "id": "6c9cbb34",
   "metadata": {
    "id": "6c9cbb34"
   },
   "source": [
    "De esta base, la variable dependiente será: CO2_Emissions(g/km); mientras que las posibles variables independientes serán: Engine_Size(L), Cylinders, Fuel_Consumption_City(L/100 km), Fuel_Consumption_Hwy(L/100 km) y Fuel Consumption Comb (L/100 km). Es importante recalcar que estas variables son numéricas. Como se estudió previamente, estas variables guardan una relación fuerte entre ellas por lo que nos serán de utilidad para ajustar un modelo de regresión lineal."
   ]
  },
  {
   "cell_type": "markdown",
   "id": "40858501",
   "metadata": {
    "id": "40858501"
   },
   "source": [
    "### Ajuste del modelo"
   ]
  },
  {
   "cell_type": "markdown",
   "id": "6e803c5d",
   "metadata": {
    "id": "6e803c5d"
   },
   "source": [
    "En el objetivo principal se estableció que se quiere predecir las emisiones de CO2; esto se logra utilizando las diversas variables que se tienen en la base de datos. Sin embargo, una vez que se obtiene el modelo, ¿cómo comprobaríamos que predice correctamente?, esto es un problema puesto que necesitaríamos una serie de datos que contengan información para cada una de las variables involucradas en el modelo. Para no tener algún inconveniente con esto último, se suele separar la información original que en una proporción de 80-20, donde el 80% de los datos son designados para la elaboración del modelo y el 20% son dirigidos hacia la parte de intentar predecir dicho valor que se tiene. \n",
    "\n",
    "Una vez conociendo esto, se procede a separar la información original."
   ]
  },
  {
   "cell_type": "code",
   "execution_count": 14,
   "id": "023ebfc4",
   "metadata": {
    "id": "023ebfc4"
   },
   "outputs": [],
   "source": [
    "# División de los datos\n",
    "X = baseCO2[['Engine_Size(L)', 'Cylinders', 'Fuel_Consumption_City(L/100 km)', 'Fuel_Consumption_Hwy(L/100 km)', 'Fuel Consumption Comb (L/100 km)']]\n",
    "y = baseCO2['CO2_Emissions(g/km)']\n",
    "\n",
    "X_train, X_test, y_train, y_test = train_test_split(\n",
    "                                        X,\n",
    "                                        y.values.reshape(-1,1),\n",
    "                                        train_size   = 0.8,\n",
    "                                        random_state = 1234,\n",
    "                                        shuffle      = True\n",
    "                                    )"
   ]
  },
  {
   "cell_type": "markdown",
   "id": "375dba6e",
   "metadata": {
    "id": "375dba6e"
   },
   "source": [
    "Donde las variables \"train\" nos ayudarán a elaborar el modelo y las variables \"test\" nos ayudarán a comprobar qué tanto ajusta nuestro modelo a valores reales que ya se contienen en la base."
   ]
  },
  {
   "cell_type": "markdown",
   "id": "bfbb398d",
   "metadata": {
    "id": "bfbb398d"
   },
   "source": [
    "Para la creación del modelo de regresión existen diversas alternativas en Python; sin embargo, se optó por trabajarlo por medio de matrices. A la matriz de los predictores se le tiene que añadir una columna de 1s para el intercepto del modelo. Las intrucciones quedan de la siguiente manera:"
   ]
  },
  {
   "cell_type": "code",
   "execution_count": 15,
   "id": "d2b0654c",
   "metadata": {
    "colab": {
     "base_uri": "https://localhost:8080/"
    },
    "id": "d2b0654c",
    "outputId": "c9c66c17-02e7-4f32-848f-f57933952b5d"
   },
   "outputs": [
    {
     "name": "stdout",
     "output_type": "stream",
     "text": [
      "                            OLS Regression Results                            \n",
      "==============================================================================\n",
      "Dep. Variable:                      y   R-squared:                       0.869\n",
      "Model:                            OLS   Adj. R-squared:                  0.869\n",
      "Method:                 Least Squares   F-statistic:                     7752.\n",
      "Date:                Fri, 22 Oct 2021   Prob (F-statistic):               0.00\n",
      "Time:                        11:22:05   Log-Likelihood:                -25765.\n",
      "No. Observations:                5838   AIC:                         5.154e+04\n",
      "Df Residuals:                    5832   BIC:                         5.158e+04\n",
      "Df Model:                           5                                         \n",
      "Covariance Type:            nonrobust                                         \n",
      "====================================================================================================\n",
      "                                       coef    std err          t      P>|t|      [0.025      0.975]\n",
      "----------------------------------------------------------------------------------------------------\n",
      "const                               54.3077      1.355     40.092      0.000      51.652      56.963\n",
      "Engine_Size(L)                       5.9093      0.578     10.223      0.000       4.776       7.042\n",
      "Cylinders                            6.4124      0.411     15.608      0.000       5.607       7.218\n",
      "Fuel_Consumption_City(L/100 km)      0.8207      3.470      0.236      0.813      -5.982       7.624\n",
      "Fuel_Consumption_Hwy(L/100 km)       1.5732      2.865      0.549      0.583      -4.042       7.189\n",
      "Fuel Consumption Comb (L/100 km)    10.6160      6.295      1.686      0.092      -1.724      22.956\n",
      "==============================================================================\n",
      "Omnibus:                     1654.741   Durbin-Watson:                   2.022\n",
      "Prob(Omnibus):                  0.000   Jarque-Bera (JB):             5413.944\n",
      "Skew:                          -1.428   Prob(JB):                         0.00\n",
      "Kurtosis:                       6.755   Cond. No.                         605.\n",
      "==============================================================================\n",
      "\n",
      "Notes:\n",
      "[1] Standard Errors assume that the covariance matrix of the errors is correctly specified.\n"
     ]
    }
   ],
   "source": [
    "X_train = sm.add_constant(X_train, prepend=True)\n",
    "modelo = sm.OLS(endog=y_train, exog=X_train,)\n",
    "modelo = modelo.fit()\n",
    "print(modelo.summary())"
   ]
  },
  {
   "cell_type": "markdown",
   "id": "12ace967",
   "metadata": {
    "id": "12ace967"
   },
   "source": [
    "Por medio del summary obtenemos todos los datos pertinentes a una regresión lineal, como se ve a simple vista incluye valores que nos serán de suma importancia para analizar cada aspecto del modelo.\n",
    "\n",
    "Lo primero que se debe mencionar es que este modelo está considerando todas las variables númericas anteriormente mencionadas, es decir, no se hizo una discriminación entre ellas ya que primero se quiere revisar cómo trabajan en conjunto.\n",
    "\n",
    "Una vez aclarado esto, se debe revisar si el modelo es significativo, ya que si no lo es, no tendríamos porqué usarlo. Para probar esto, se realiza una prueba de hipótesis en la que la hipótesis nula es que la regresión no es significativa, mientras que la hipótesis alternativa es que la regresión es significativa. Al tener un p valor = 0.0, podemos decir que, con 95% de confianza, la regresión es signficativa en vista que p valor = 0.0 < alpha = 0.05. Por tanto, el modelo es significativo.\n",
    "\n",
    "El modelo ha resultado significativo, el siguiente paso es revisar las características de dicho modelo, entre las que destacan:\n",
    "+ **Ajuste del modelo:** El ajuste obtenido por este modelo es del 86.9%. El modelo explica el 86.9% de la variabilidad de los datos. En la práctica, se considera que 86.9% es un buen ajuste.\n",
    "+ **Coeficientes de los modelos:** Es importante voltear a ver los coeficientes para cada variable regresora y la constante, puesto que estos son los que conformarán la ecuación para predecir a las emisiones de CO2.\n",
    "+ **P valor para cada variable:** El p valor de las variables nos indica qué tanto contribuyen en significancia al modelo. Un p valor alto nos dice ausencia de significancia y un valor bajo, lo contrario.\n",
    "\n",
    "Se puede notar que el p valor obtenido para las variables Fuel_Consumption_City(L/100 km), Fuel_Consumption_Hwy(L/100 km) y Fuel Consumption Comb (L/100 km) es muy grande (mayor a un alpha de 0.05). Esto nos dice que estas variables no contribuyen de manera significativa a nuestro modelo, por lo que podemos eliminarlas sin problema alguno. Nosotros dejaremos la última variable puesto que su p valor es el menor entre ellos tres y queremos comprobar si disminuye al eliminar las otras."
   ]
  },
  {
   "cell_type": "markdown",
   "id": "02c25096",
   "metadata": {
    "id": "02c25096"
   },
   "source": [
    "Se crea un nuevo modelo excluyendo las variables que no son significativas:"
   ]
  },
  {
   "cell_type": "code",
   "execution_count": 16,
   "id": "4f4db9e7",
   "metadata": {
    "colab": {
     "base_uri": "https://localhost:8080/"
    },
    "id": "4f4db9e7",
    "outputId": "6192c477-061d-4bcb-d921-1078797ddb31"
   },
   "outputs": [
    {
     "name": "stdout",
     "output_type": "stream",
     "text": [
      "                            OLS Regression Results                            \n",
      "==============================================================================\n",
      "Dep. Variable:                      y   R-squared:                       0.869\n",
      "Model:                            OLS   Adj. R-squared:                  0.869\n",
      "Method:                 Least Squares   F-statistic:                 1.292e+04\n",
      "Date:                Fri, 22 Oct 2021   Prob (F-statistic):               0.00\n",
      "Time:                        11:22:10   Log-Likelihood:                -25766.\n",
      "No. Observations:                5838   AIC:                         5.154e+04\n",
      "Df Residuals:                    5834   BIC:                         5.157e+04\n",
      "Df Model:                           3                                         \n",
      "Covariance Type:            nonrobust                                         \n",
      "====================================================================================================\n",
      "                                       coef    std err          t      P>|t|      [0.025      0.975]\n",
      "----------------------------------------------------------------------------------------------------\n",
      "const                               55.0108      1.271     43.282      0.000      52.519      57.502\n",
      "Engine_Size(L)                       5.8884      0.578     10.190      0.000       4.756       7.021\n",
      "Cylinders                            6.2895      0.402     15.641      0.000       5.501       7.078\n",
      "Fuel Consumption Comb (L/100 km)    12.8562      0.163     78.744      0.000      12.536      13.176\n",
      "==============================================================================\n",
      "Omnibus:                     1643.684   Durbin-Watson:                   2.022\n",
      "Prob(Omnibus):                  0.000   Jarque-Bera (JB):             5391.645\n",
      "Skew:                          -1.417   Prob(JB):                         0.00\n",
      "Kurtosis:                       6.760   Cond. No.                         66.8\n",
      "==============================================================================\n",
      "\n",
      "Notes:\n",
      "[1] Standard Errors assume that the covariance matrix of the errors is correctly specified.\n"
     ]
    }
   ],
   "source": [
    "# Se eliminan las columnas del conjunto de train y test\n",
    "X_train = X_train.drop(columns = 'Fuel_Consumption_City(L/100 km)')\n",
    "X_train = X_train.drop(columns = 'Fuel_Consumption_Hwy(L/100 km)')\n",
    "X_test  = X_test.drop(columns = 'Fuel_Consumption_City(L/100 km)')\n",
    "X_test  = X_test.drop(columns = 'Fuel_Consumption_Hwy(L/100 km)')\n",
    "\n",
    "\n",
    "X_train = sm.add_constant(X_train, prepend=True)\n",
    "modelo  = sm.OLS(endog=y_train, exog=X_train,)\n",
    "modelo  = modelo.fit()\n",
    "print(modelo.summary())"
   ]
  },
  {
   "cell_type": "markdown",
   "id": "8913dcc4",
   "metadata": {
    "id": "8913dcc4"
   },
   "source": [
    "Como se tiene un p valor = 0.0, el modelo sigue siendo significativo, lo cual es bueno; además, es importante recalcar que el ajuste obtenido por el modelo que excluye a las variables que no son significativas es el mismo que el del modelo anterior (86.9%), por lo que explica la misma variabilidad de los datos. Sin embargo, ahora podemos notar que el p valor obtenido para cada variable (0.0 en todos los casos) es menor a nuestro alpha de 0.05, por lo que podemos decir que las tres variables involucradas en el modelo contribuyen significativamente a este. \n",
    "\n",
    "Este modelo es mejor que el anterior aunque obtengamos el mismo ajuste. Esto se debe a que con una menor cantidad de variables podemos explicar la misma variabilidad. Además, también resulta más sencillo de interpretar y facilita el análisis."
   ]
  },
  {
   "cell_type": "markdown",
   "id": "d881ff21",
   "metadata": {
    "id": "d881ff21"
   },
   "source": [
    "### Intervalos de confianza para los coeficientes"
   ]
  },
  {
   "cell_type": "markdown",
   "id": "4b87ba49",
   "metadata": {
    "id": "4b87ba49"
   },
   "source": [
    "Otra de los factores en el que debemos prestar atención es en los intervalos de confianza de los coeficientes para las variables. Estos intervalos nos revelan información valiosa. Si revisamos el intervalo del coeficiente constante, podremos saber si existe evidencia de regresión al origen, así como también se puede comprender entre qué valores estará comprendido dicho valor con cierta confianza."
   ]
  },
  {
   "cell_type": "code",
   "execution_count": 17,
   "id": "b0abdcf6",
   "metadata": {
    "colab": {
     "base_uri": "https://localhost:8080/",
     "height": 173
    },
    "id": "b0abdcf6",
    "outputId": "2c71372a-e8fa-44d2-ad05-1fd129910525"
   },
   "outputs": [
    {
     "data": {
      "text/html": [
       "<div>\n",
       "<style scoped>\n",
       "    .dataframe tbody tr th:only-of-type {\n",
       "        vertical-align: middle;\n",
       "    }\n",
       "\n",
       "    .dataframe tbody tr th {\n",
       "        vertical-align: top;\n",
       "    }\n",
       "\n",
       "    .dataframe thead th {\n",
       "        text-align: right;\n",
       "    }\n",
       "</style>\n",
       "<table border=\"1\" class=\"dataframe\">\n",
       "  <thead>\n",
       "    <tr style=\"text-align: right;\">\n",
       "      <th></th>\n",
       "      <th>2.5%</th>\n",
       "      <th>97.5%</th>\n",
       "    </tr>\n",
       "  </thead>\n",
       "  <tbody>\n",
       "    <tr>\n",
       "      <th>const</th>\n",
       "      <td>52.519203</td>\n",
       "      <td>57.502463</td>\n",
       "    </tr>\n",
       "    <tr>\n",
       "      <th>Engine_Size(L)</th>\n",
       "      <td>4.755525</td>\n",
       "      <td>7.021241</td>\n",
       "    </tr>\n",
       "    <tr>\n",
       "      <th>Cylinders</th>\n",
       "      <td>5.501222</td>\n",
       "      <td>7.077779</td>\n",
       "    </tr>\n",
       "    <tr>\n",
       "      <th>Fuel Consumption Comb (L/100 km)</th>\n",
       "      <td>12.536129</td>\n",
       "      <td>13.176253</td>\n",
       "    </tr>\n",
       "  </tbody>\n",
       "</table>\n",
       "</div>"
      ],
      "text/plain": [
       "                                       2.5%      97.5%\n",
       "const                             52.519203  57.502463\n",
       "Engine_Size(L)                     4.755525   7.021241\n",
       "Cylinders                          5.501222   7.077779\n",
       "Fuel Consumption Comb (L/100 km)  12.536129  13.176253"
      ]
     },
     "execution_count": 17,
     "metadata": {},
     "output_type": "execute_result"
    }
   ],
   "source": [
    "intervalos_ci = modelo.conf_int(alpha=0.05)\n",
    "intervalos_ci.columns = ['2.5%', '97.5%']\n",
    "intervalos_ci"
   ]
  },
  {
   "cell_type": "markdown",
   "id": "818626a6",
   "metadata": {
    "id": "818626a6"
   },
   "source": [
    "Con estos intervalos del 95% de confianza, podemos confirmar que no existe evidencia de regresión al origen puesto que el intervalo de la constante no involucra al cero; esto nos dice que no se creará otro modelo de regresión. Además, podemos estudiar entre qué valores oscilará el coeficiente de las demás variables."
   ]
  },
  {
   "cell_type": "markdown",
   "id": "3977a039",
   "metadata": {
    "id": "3977a039"
   },
   "source": [
    "### Residuales"
   ]
  },
  {
   "cell_type": "markdown",
   "id": "b7c0a7c3",
   "metadata": {
    "id": "b7c0a7c3"
   },
   "source": [
    "Una de las últimas partes importantes a la hora de revisar un modelo es estudiar el comportamiento de los residuales. Como se estudió en clase, existen cuatro supuestos sobre estos que deben ser probados con el fin de determinar si el modelo tiene un grado mayor de significancia del que ya tiene. \n",
    "\n",
    "Antes de probar los supuestos, se deben calcular los residuales, los cuales salen al realizar la resta del valor estimado menos el valor real, el resultado será el residuo. Cada uno de los valores tiene un residuo, el objetivo es estudiar dichos residuos."
   ]
  },
  {
   "cell_type": "code",
   "execution_count": 78,
   "id": "06a4f8d9",
   "metadata": {
    "id": "06a4f8d9"
   },
   "outputs": [],
   "source": [
    "y_train = y_train.flatten()\n",
    "prediccion_train = modelo.predict(exog = X_train)\n",
    "residuos_train   = prediccion_train - y_train"
   ]
  },
  {
   "cell_type": "markdown",
   "id": "922d7d56",
   "metadata": {
    "id": "922d7d56"
   },
   "source": [
    "Una vez que se tienen los residuales, se comprobará que cumplan con los siguientes supuestos:\n",
    "+ Media cero\n",
    "+ Varianza constante\n",
    "+ Normalidad\n",
    "+ Incorrelación"
   ]
  },
  {
   "cell_type": "markdown",
   "id": "a1bd7583",
   "metadata": {
    "id": "a1bd7583"
   },
   "source": [
    "Como no existe una prueba definida para probar la **media cero**, se suele calcular un promedio de los residuales y, si se encuentra cercano al cero, se acepta el cumplimiento del supuesto."
   ]
  },
  {
   "cell_type": "code",
   "execution_count": 79,
   "id": "c9e83488",
   "metadata": {
    "colab": {
     "base_uri": "https://localhost:8080/"
    },
    "id": "c9e83488",
    "outputId": "503b1a3b-c908-4519-a7cf-c35a537216b9"
   },
   "outputs": [
    {
     "data": {
      "text/plain": [
       "-1.7317379687374116e-13"
      ]
     },
     "execution_count": 79,
     "metadata": {},
     "output_type": "execute_result"
    }
   ],
   "source": [
    "residuos_train.mean()"
   ]
  },
  {
   "cell_type": "markdown",
   "id": "2d212535",
   "metadata": {
    "id": "2d212535"
   },
   "source": [
    "Como se puede ver, el resultado obtenido es cercano a cero. Por lo tanto, se cumple el supuesto de media cero."
   ]
  },
  {
   "cell_type": "markdown",
   "id": "1d435f45",
   "metadata": {
    "id": "1d435f45"
   },
   "source": [
    "Para la prueba de **varianza constante** se intentará probar que la gráfica de dispersión no muestre un patrón aparente, ya que si se muestra un patrón, nos estaría diciendo que la varianza no es constante ya que tiende hacia algo. La gráfica a utilizar es el de las predicciones vs los residuales."
   ]
  },
  {
   "cell_type": "code",
   "execution_count": 20,
   "id": "72f392f0",
   "metadata": {
    "colab": {
     "base_uri": "https://localhost:8080/",
     "height": 297
    },
    "id": "72f392f0",
    "outputId": "df6d7a1c-18bc-4046-9aaf-119d0150bdc7"
   },
   "outputs": [
    {
     "data": {
      "image/png": "[encoded data removed]",
      "text/plain": [
       "<Figure size 432x288 with 1 Axes>"
      ]
     },
     "metadata": {},
     "output_type": "display_data"
    }
   ],
   "source": [
    "fig, ax = plt.subplots()\n",
    "ax.scatter(prediccion_train, residuos_train)\n",
    "plt.axhline(y=0)\n",
    "ax.set_title('Residuos del modelo vs predicción', fontsize = 10, fontweight = \"bold\")\n",
    "ax.set_xlabel('Predicción')\n",
    "ax.set_ylabel('Residuo')\n",
    "plt.show()"
   ]
  },
  {
   "cell_type": "markdown",
   "id": "fb9103d8",
   "metadata": {
    "id": "fb9103d8"
   },
   "source": [
    "El supuesto de varianza constante se puede \"rescatar\" a raíz de esta gráfica, puesto que no se identifica un patrón sumamente claro. Es verdad que la dispersión de los datos pareciera formar una serie de líneas que cruzan el cero, sin ambargo esto no parece una secuencia o algo por el estilo. Por lo que el supuesto de varianza constante se \"rescata\" para seguir probando los demás supuestos, así que se cumple."
   ]
  },
  {
   "cell_type": "markdown",
   "id": "a3617033",
   "metadata": {
    "id": "a3617033"
   },
   "source": [
    "Para probar la **normalidad** de los residuales basta con realizar una prueba de hipótesis donde decimos que H0 es que los residuales provienen de una distribución normal y H1 es que los residuales provienen de otra distribución. Para encontrar el p valor perteneciente, se utiliza la prueba conocida de shapiro test utilizada frecuentemente en estadística con el mismo fin. Haciendo esto, obtenemos lo siguiente:"
   ]
  },
  {
   "cell_type": "code",
   "execution_count": 21,
   "id": "61dd6539",
   "metadata": {
    "colab": {
     "base_uri": "https://localhost:8080/"
    },
    "id": "61dd6539",
    "outputId": "c7b250e1-8636-48ed-c68e-ecd7ddb80576"
   },
   "outputs": [
    {
     "data": {
      "text/plain": [
       "ShapiroResult(statistic=0.8818002939224243, pvalue=0.0)"
      ]
     },
     "execution_count": 21,
     "metadata": {},
     "output_type": "execute_result"
    }
   ],
   "source": [
    "shapiro_test = stats.shapiro(residuos_train)\n",
    "shapiro_test"
   ]
  },
  {
   "cell_type": "markdown",
   "id": "c3a51244",
   "metadata": {
    "id": "c3a51244"
   },
   "source": [
    "Al obtener un p valor = 0.0, se tiene que rechazar H0. Por lo tanto decimos que los residuales no siguen una distribución normal, por lo que no cumplen este supuesto."
   ]
  },
  {
   "cell_type": "markdown",
   "id": "e00f070f",
   "metadata": {
    "id": "e00f070f"
   },
   "source": [
    "No se necesita analizar la **incorrelación** de los residuales ya que sólo nos importa determinar si cumplen los cuatro supuestos a la vez o no. Como se comentó en un inicio, en caso de cumplirse los cuatro supuestos le daría un extra de importancia al modelo encontrado, pero para este modelo no se cumplen. \n",
    "\n",
    "Se sospecha que el problema con los supuestos se origina a raíz de la alta correlación entre variables que se encontró previamente. Al tener una fuerte correlación entre variables (no necesariamente con la dependiente) tenemos un problema con los VIF, ya que estos saldrán altos y eso no es lo que se busca. Sin embargo, al no poder cambiar el comportamiento de las variables y su relación, se tomará la parte positiva que es el ajuste del modelo del 86.9% que explica de buena manera la variabilidad de los datos."
   ]
  },
  {
   "cell_type": "markdown",
   "id": "2e55d155",
   "metadata": {},
   "source": [
    "#### Gráficas 3 en 1 de los supuestos realizados"
   ]
  },
  {
   "cell_type": "code",
   "execution_count": 90,
   "id": "349adcd2",
   "metadata": {},
   "outputs": [
    {
     "data": {
      "image/png": "[encoded data removed]",
      "text/plain": [
       "<Figure size 360x504 with 3 Axes>"
      ]
     },
     "metadata": {},
     "output_type": "display_data"
    }
   ],
   "source": [
    "fig, axes = plt.subplots(nrows=3, ncols=1,figsize=(5, 7))\n",
    "#### Media cero\n",
    "sns.distplot(\n",
    "    residuos_train,\n",
    "    kde     = True,\n",
    "    color   = \"firebrick\",\n",
    "    ax      = axes[0]\n",
    ")\n",
    "\n",
    "axes[0].set_title('Distribución residuos del modelo', fontsize = 10,\n",
    "                     fontweight = \"bold\")\n",
    "axes[0].set_xlabel(\"Residuo\")\n",
    "axes[0].tick_params(labelsize = 8.5)\n",
    "\n",
    "#### Residuos del modelo vs predicción\n",
    "axes[1].scatter(prediccion_train, residuos_train)\n",
    "axes[1].axhline(y = 0)\n",
    "axes[1].set_title('Residuos del modelo vs predicción', fontsize = 10, fontweight = \"bold\")\n",
    "axes[1].set_xlabel('Predicción')\n",
    "axes[1].set_ylabel('Residuo')\n",
    "axes[1].tick_params(labelsize = 8.5)\n",
    "\n",
    "#### Normalidad\n",
    "sm.qqplot(\n",
    "    residuos_train,\n",
    "    fit   = True,\n",
    "    line  = 'q',\n",
    "    ax    = axes[2], \n",
    "    color = 'firebrick',\n",
    "    alpha = 0.05,\n",
    "    lw    = 2\n",
    ")\n",
    "axes[2].set_title('Normalidad de los residuos', fontsize = 10, fontweight = \"bold\")\n",
    "axes[2].tick_params(labelsize = 8.5)\n",
    "\n",
    "#### Poniendola guapa\n",
    "fig.tight_layout()\n",
    "plt.subplots_adjust(top=0.9)\n",
    "fig.suptitle('Supuestos de los residuales', fontsize = 12, fontweight = \"bold\");"
   ]
  },
  {
   "cell_type": "markdown",
   "id": "8f1e1c4b",
   "metadata": {
    "id": "8f1e1c4b"
   },
   "source": [
    "### Predicciones del modelo"
   ]
  },
  {
   "cell_type": "markdown",
   "id": "2fb8e5ce",
   "metadata": {
    "id": "2fb8e5ce"
   },
   "source": [
    "Como se estableció en un inicio, una parte importante de los modelos es el de predecir los valores para nuevos datos. En nuestro caso, deliberadamente, dejamos el 20% de los valores a un lado con el fin de utilizarlos como valores a predecir. Es decir, predecir estos valores que tenemos es el objetivo del modelo para medir qué tanto funcionarían aplicados en la realidad.\n",
    "\n",
    "La siguiente serie de instrucciones nos permiten conocer los intervalos de confianza para cada predicción, así como el error cuadrático medio, entre otras cosas."
   ]
  },
  {
   "cell_type": "code",
   "execution_count": null,
   "id": "dea8d63b",
   "metadata": {
    "colab": {
     "base_uri": "https://localhost:8080/",
     "height": 173
    },
    "id": "dea8d63b",
    "outputId": "75425382-24cb-4e98-8fae-e92fdf736f57"
   },
   "outputs": [
    {
     "data": {
      "text/html": [
       "<div>\n",
       "<style scoped>\n",
       "    .dataframe tbody tr th:only-of-type {\n",
       "        vertical-align: middle;\n",
       "    }\n",
       "\n",
       "    .dataframe tbody tr th {\n",
       "        vertical-align: top;\n",
       "    }\n",
       "\n",
       "    .dataframe thead th {\n",
       "        text-align: right;\n",
       "    }\n",
       "</style>\n",
       "<table border=\"1\" class=\"dataframe\">\n",
       "  <thead>\n",
       "    <tr style=\"text-align: right;\">\n",
       "      <th></th>\n",
       "      <th>mean</th>\n",
       "      <th>mean_se</th>\n",
       "      <th>mean_ci_lower</th>\n",
       "      <th>mean_ci_upper</th>\n",
       "      <th>obs_ci_lower</th>\n",
       "      <th>obs_ci_upper</th>\n",
       "    </tr>\n",
       "  </thead>\n",
       "  <tbody>\n",
       "    <tr>\n",
       "      <th>4457</th>\n",
       "      <td>210.691276</td>\n",
       "      <td>0.604285</td>\n",
       "      <td>209.506653</td>\n",
       "      <td>211.875899</td>\n",
       "      <td>171.495317</td>\n",
       "      <td>249.887234</td>\n",
       "    </tr>\n",
       "    <tr>\n",
       "      <th>117</th>\n",
       "      <td>294.509349</td>\n",
       "      <td>0.503328</td>\n",
       "      <td>293.522640</td>\n",
       "      <td>295.496059</td>\n",
       "      <td>255.318873</td>\n",
       "      <td>333.699826</td>\n",
       "    </tr>\n",
       "    <tr>\n",
       "      <th>2512</th>\n",
       "      <td>261.792212</td>\n",
       "      <td>0.285176</td>\n",
       "      <td>261.233163</td>\n",
       "      <td>262.351262</td>\n",
       "      <td>222.610171</td>\n",
       "      <td>300.974254</td>\n",
       "    </tr>\n",
       "    <tr>\n",
       "      <th>5302</th>\n",
       "      <td>232.451037</td>\n",
       "      <td>0.464860</td>\n",
       "      <td>231.539739</td>\n",
       "      <td>233.362335</td>\n",
       "      <td>193.262387</td>\n",
       "      <td>271.639687</td>\n",
       "    </tr>\n",
       "  </tbody>\n",
       "</table>\n",
       "</div>"
      ],
      "text/plain": [
       "            mean   mean_se  ...  obs_ci_lower  obs_ci_upper\n",
       "4457  210.691276  0.604285  ...    171.495317    249.887234\n",
       "117   294.509349  0.503328  ...    255.318873    333.699826\n",
       "2512  261.792212  0.285176  ...    222.610171    300.974254\n",
       "5302  232.451037  0.464860  ...    193.262387    271.639687\n",
       "\n",
       "[4 rows x 6 columns]"
      ]
     },
     "execution_count": 23,
     "metadata": {},
     "output_type": "execute_result"
    }
   ],
   "source": [
    "predicciones = modelo.get_prediction(exog = X_train).summary_frame(alpha=0.05)\n",
    "predicciones.head(4)"
   ]
  },
  {
   "cell_type": "markdown",
   "id": "a238edda",
   "metadata": {
    "id": "a238edda"
   },
   "source": [
    "### Error del test"
   ]
  },
  {
   "cell_type": "code",
   "execution_count": null,
   "id": "24939192",
   "metadata": {
    "colab": {
     "base_uri": "https://localhost:8080/"
    },
    "id": "24939192",
    "outputId": "b927db9c-200a-468e-c3f2-3787bcd3f52d"
   },
   "outputs": [
    {
     "name": "stdout",
     "output_type": "stream",
     "text": [
      "\n",
      "El error (RMSE) de test es: 19.17383108376155\n"
     ]
    }
   ],
   "source": [
    "X_test = sm.add_constant(X_test, prepend=True)\n",
    "predicciones = modelo.predict(exog = X_test)\n",
    "rmse = mean_squared_error(\n",
    "        y_true  = y_test,\n",
    "        y_pred  = predicciones,\n",
    "        squared = False\n",
    "       )\n",
    "print(\"\")\n",
    "print(f\"El error (RMSE) de test es: {rmse}\")"
   ]
  },
  {
   "cell_type": "markdown",
   "id": "a1428118",
   "metadata": {
    "id": "a1428118"
   },
   "source": [
    "### Interpretación del modelo"
   ]
  },
  {
   "cell_type": "markdown",
   "id": "972b2dbc",
   "metadata": {
    "id": "972b2dbc"
   },
   "source": [
    "La ecuación del modelo de regresión lineal múltiple que se obtuvo finalmente es:\n",
    "\n",
    "$$Emisiones de CO2 (g/km) = 5.8884EngineSize(L) + 6.2895Cylinder + 12.8562FuelConsumptionComb(L/100 km) + 55.0108$$\n",
    "\n",
    "Es capaz de explicar el 86.9% de la variabilidad de las emisiones de CO2(g/km) que los automóviles emiten. La prueba de significancia del modelo resultó aprobatoria, por tanto, el modelo de regresión es significativo. Además, podemos decir que el tamaño del motor, el número de cilindros del vehículo y el consumo combinado de combustible(L/100km) están relacionados con las emisiones de CO2 de un automóvil y contribuyen significativamente al modelo.\n",
    "\n",
    "A pesar de todo esto, no se satisface la condición de normalidad en los residuales, por lo que los intervalos de confianza para los coeficientes y las predicciones no son tan fiables como se esperaría.\n",
    "\n",
    "Finalmente, el error cuadrático medio del modelo es de 19.17., lo que nos indica que las predicciones del modelo final se alejan, en promedio, 19.17(g/km) del valor real."
   ]
  },
  {
   "cell_type": "markdown",
   "id": "695f885e",
   "metadata": {
    "id": "695f885e"
   },
   "source": [
    "## Métricas de evaluación"
   ]
  },
  {
   "cell_type": "markdown",
   "id": "08a0f9f9",
   "metadata": {
    "id": "08a0f9f9"
   },
   "source": [
    "### Error cuadrático medio\n",
    "Mide el promedio de los errores al cuadrado, es decir, la diferencia entre el estimador y lo que se estima. Nos indica, en promedio, cuánto nos desvíamos del valor real. \n",
    "\n",
    "Esta métrica es de las más importantes puesto que resume todo el análisis de un modelo. Básicamente, no importa si tus residuos cumplen todos los supuestos o si tienes un ajuste superior al 90%, si tu error cuadrático medio es demasiado alto, entonces tus predicciones no serán muy acertadas, por ello lo que se busca en este estimador es tener el valor más pequeño posible porque nos diría que no existe mucha diferencia entre las predicciones y el valor real. Se calcula de la siguiente manera:"
   ]
  },
  {
   "cell_type": "code",
   "execution_count": null,
   "id": "836cb2db",
   "metadata": {
    "colab": {
     "base_uri": "https://localhost:8080/"
    },
    "id": "836cb2db",
    "outputId": "4c2d6ada-1ec7-47f5-ebc5-d0ec884c658b"
   },
   "outputs": [
    {
     "name": "stdout",
     "output_type": "stream",
     "text": [
      "\n",
      "El error (RMSE) de test es: 19.17383108376155\n"
     ]
    }
   ],
   "source": [
    "X_test = sm.add_constant(X_test, prepend=True)\n",
    "predicciones = modelo.predict(exog = X_test)\n",
    "rmse = mean_squared_error(\n",
    "        y_true  = y_test,\n",
    "        y_pred  = predicciones,\n",
    "        squared = False\n",
    "       )\n",
    "print(\"\")\n",
    "print(f\"El error (RMSE) de test es: {rmse}\")"
   ]
  },
  {
   "cell_type": "markdown",
   "id": "d747ff8a",
   "metadata": {
    "id": "d747ff8a"
   },
   "source": [
    "El resultado se suele dejar a interpretación del investigador, esto nos quiere decir que depende de la persona decidir si para él este valor es elevado o no, dependiendo de lo que se está buscando."
   ]
  },
  {
   "cell_type": "markdown",
   "id": "f9c09093",
   "metadata": {
    "id": "f9c09093"
   },
   "source": [
    "### R cuadrado o coeficiente de determinación\n",
    "Esta métrica representa la parte de la varianza de la variable dependiente explicada por las variables independientes del modelo. Mide la fuerza de la relación entre su modelo y la variable dependiente. Cuanto más cerca de 1 se sitúe su valor, mayor será el ajuste del modelo a la variable que estamos intentando explicar. Por el otro lado, cuanto más cerca de cero, menos ajustado estará del modelo y, por tanto, menos fiable será.\n",
    "\n",
    "Resulta importante conocer esta métrica puesto que habla mucho acerca de nuestro modelo. A mejores ajustes, mejores predicciones. Una ecuación de regresión bien ajustada a los valores nos indica que la relación queda bien explicada y por ende la variabilidad.  \n",
    "Se calcula desde el inicio de la regresión en el summary del modelo:"
   ]
  },
  {
   "cell_type": "code",
   "execution_count": null,
   "id": "56ca131a",
   "metadata": {
    "colab": {
     "base_uri": "https://localhost:8080/"
    },
    "id": "56ca131a",
    "outputId": "4fb02871-f544-4d69-e7a9-56e388b6734a"
   },
   "outputs": [
    {
     "name": "stdout",
     "output_type": "stream",
     "text": [
      "                            OLS Regression Results                            \n",
      "==============================================================================\n",
      "Dep. Variable:                      y   R-squared:                       0.869\n",
      "Model:                            OLS   Adj. R-squared:                  0.869\n",
      "Method:                 Least Squares   F-statistic:                 1.292e+04\n",
      "Date:                Mon, 11 Oct 2021   Prob (F-statistic):               0.00\n",
      "Time:                        04:27:14   Log-Likelihood:                -25766.\n",
      "No. Observations:                5838   AIC:                         5.154e+04\n",
      "Df Residuals:                    5834   BIC:                         5.157e+04\n",
      "Df Model:                           3                                         \n",
      "Covariance Type:            nonrobust                                         \n",
      "====================================================================================================\n",
      "                                       coef    std err          t      P>|t|      [0.025      0.975]\n",
      "----------------------------------------------------------------------------------------------------\n",
      "const                               55.0108      1.271     43.282      0.000      52.519      57.502\n",
      "Engine_Size(L)                       5.8884      0.578     10.190      0.000       4.756       7.021\n",
      "Cylinders                            6.2895      0.402     15.641      0.000       5.501       7.078\n",
      "Fuel Consumption Comb (L/100 km)    12.8562      0.163     78.744      0.000      12.536      13.176\n",
      "==============================================================================\n",
      "Omnibus:                     1643.684   Durbin-Watson:                   2.022\n",
      "Prob(Omnibus):                  0.000   Jarque-Bera (JB):             5391.645\n",
      "Skew:                          -1.417   Prob(JB):                         0.00\n",
      "Kurtosis:                       6.760   Cond. No.                         66.8\n",
      "==============================================================================\n",
      "\n",
      "Warnings:\n",
      "[1] Standard Errors assume that the covariance matrix of the errors is correctly specified.\n"
     ]
    }
   ],
   "source": [
    "X_train = sm.add_constant(X_train, prepend=True)\n",
    "modelo  = sm.OLS(endog=y_train, exog=X_train,)\n",
    "modelo  = modelo.fit()\n",
    "print(modelo.summary())"
   ]
  },
  {
   "cell_type": "markdown",
   "id": "415d5262",
   "metadata": {
    "id": "415d5262"
   },
   "source": [
    "En esta sección se encuentran dos R cuadrados. El primero es el R cuadrado \"tradicional\", nos indica el ajuste del modelo; sin embargo, suele emplearse cuando se trata de una regresión que involucra a sólo una variable independiente. Por otra parte, el R cuadrado ajustado, suele emplearse cuando se involucra a más de una variable independiente; de igual manera, nos indica el ajuste que realiza, así como la variabilidad que queda explicada."
   ]
  },
  {
   "cell_type": "markdown",
   "id": "2cd169a7",
   "metadata": {
    "id": "2cd169a7"
   },
   "source": [
    "## Conclusión"
   ]
  },
  {
   "cell_type": "markdown",
   "id": "d530b00e",
   "metadata": {
    "id": "d530b00e"
   },
   "source": [
    "Desde que se estableció el objetivo principal se pensó en utilizar una regresión linel múltiple con el fin de predecir y comprender el comportamiento de las emisiones de CO2 medidas en (g/km). Se tenía conocimiento de la regresión lineal puesto que ya se había llevado una clase de estadística en la que se aprendió sobre esto, más no se vio cómo aplicarlo en una base de datos en un lenguaje de programación, por ello es que desde primera instancia nos llamó la atención poder resolver esta problemática. Pensábamos que con las columnas que tenía nuestra base sería suficiente para poder explicar de manera adecuada las emisiones, puesto que, a primera instancia, se veía que las variables iban a relacionarse entre sí.\n",
    "\n",
    "A medida que fuimos revisando la base de datos, nos dimos cuenta que las variables se relacionaban fuertemente con la variable dependiente; sin embargo, no contábamos con que las variables independientes se relacionarían fuertemente entre ellas también. Esto causó un problema en el modelo de regresión que posteriormente elaboramos. Los VIF de las variables independientes salieron altos puesto que su correlación era alta, lo que hizo que los residuales no pudieran distribuírse de una manera normal y, a su vez, que no cumplieran con los supuestos establecidos.\n",
    "\n",
    "El modelo de regresión que encontramos fue bueno, tal como se pensó en un inicio. De hecho las variables involucradas fueron las que pensábamos iban a quedar, ya que el tamaño del motor y el número de cilindros son dos de las cosas que sabemos de antemano que afectan a las emisiones debido al consumo; así como el rendimiento (consumo) de combustible combinado, ya que junta a los dos tipos de rendimiento que se tienen por separado, por lo que teníamos en mente que esta variable podría ser una combinación lineal de las anteriores.\n",
    "\n",
    "Una parte importante para resolver los objetivos es la parte predictiva. Al inicio, ciertamente no se pensó en cómo íbamos a obtener el conjunto de datos que necesitamos para predecir las emisiones; sin embargo, logramos sacar adelante el trabajo gracias a la idea de separar nuestro conjunto en relación 80-20. De esta manera, reservamos el 20% de los datos. Este punto fue crucial para la investigación, ya que si quisiéramos predecir las emisiones de un automóvil, primero deberíamos conocer el tamaño del motor medido en litros, el número de cilindros, así como su rendimiento (consumo) combinado; las primeras dos características son algo sencillas de encontrar, sin embargo el tercer elemento no es tan natural conocerlo, por lo que se complicaría juntar información.\n",
    "\n",
    "Sin lugar a dudas la técnica de regresión lineal nos fue de gran ayuda para poder cumplir el objetivo principal que tenímaos planteado, ya que pudimos predecir las emisiones de CO2 correctamente, con un 86.9% de variabilidad explicada y sólo con una desviación de aproximadamente 19.1 unidades; lo cual creemos una buena aproximación considerando los problemas que tuvimos al inicio.\n",
    "\n",
    "Por otra parte, tenemos las métricas de evaluación que fueron de utilidad para poder medir el desempeño de nuestro modelo. Escogimos el R cuadrado puesto que es uno de los principales factores que se tienen que resaltar en un modelo para medir el ajuste de este, así como también el error cuadrático medio para conocer, en unidades reales, cuánto nos estamos alejando de nuestro objetivo en una manera cuantificada. Estas métricas nos permiten comparar nuestro modelo con algun otro, tal y como se hizo durante el mismo trabajo (sólo que el R cuadrado fue el mismo); lo que ocasiona que el modelo pueda mejorarse y encontrar mejores resultados. Estas métricas resultan sencillas de comparar ya que son números. Un valor mayor de R cuadrada nos indica que un modelo tiene más ajuste que otro, mientras que un error cruadrático medio menor nos dice que, en promedio, las predicciones no difieren tanto de los valores reales. Por lo que resulta sencillo comparar nuestro trabajo con uno similar."
   ]
  },
  {
   "cell_type": "markdown",
   "id": "f8a208dd",
   "metadata": {
    "id": "f8a208dd"
   },
   "source": [
    "### Ideas para mejorar el resultado final"
   ]
  },
  {
   "cell_type": "markdown",
   "id": "iLnyWNNLcOgr",
   "metadata": {
    "id": "iLnyWNNLcOgr"
   },
   "source": [
    "A este punto de la investigación, en donde ya identificamos y eliminamos los datos atípicos, generamos la ecuación del modelo de regresión lineal múltiple y nos dimos cuenta qué variables no fueron tan significativas; se nos ocurrieron algunas ideas para mejorar los resultado final, tales como:\n",
    "\n",
    "\n",
    "\n",
    "*   Agregar Variables al modelo que expliquen las emisiones de C02 de los automóviles pero que no se relacionen con otras (ya que  en el modelo que generamos las variables entre si están muy relacionadas) puesto a que esta problemática causaría problemas en la ecuación del modelo de regresión lineal múltiple y afecta los supuestos, en donde uno de ellos es que no exista multicolinealidad.\n",
    "*   Probar diferentes modelos y compararlos entre ellos, ya sea generando un modelo para cierto número de variables y ver cuál es el mejor modelo con el fin de no recabar más datos pero sí determinar el mejor modelo de las opciones que tenemos puesto que en esta ocasión solo se compararon dos.\n",
    " \n",
    "\n"
   ]
  },
  {
   "cell_type": "markdown",
   "id": "a406d999",
   "metadata": {
    "id": "a406d999"
   },
   "source": [
    "## Referencias utilizadas"
   ]
  },
  {
   "cell_type": "markdown",
   "id": "50ae7c08",
   "metadata": {
    "id": "50ae7c08"
   },
   "source": [
    "- [Técnica de minería: Regresión lineal](https://www.cienciadedatos.net/documentos/py10-regresion-lineal-python.html)\n",
    "- [Métricas de evaluación: Regresión lineal](https://docs.microsoft.com/es-es/azure/machine-learning/classic/evaluate-model-performance)"
   ]
  }
 ],
 "metadata": {
  "colab": {
   "collapsed_sections": [],
   "name": "Práctica_Técnicas.ipynb",
   "provenance": []
  },
  "kernelspec": {
   "display_name": "Python 3",
   "language": "python",
   "name": "python3"
  },
  "language_info": {
   "codemirror_mode": {
    "name": "ipython",
    "version": 3
   },
   "file_extension": ".py",
   "mimetype": "text/x-python",
   "name": "python",
   "nbconvert_exporter": "python",
   "pygments_lexer": "ipython3",
   "version": "3.8.8"
  }
 },
 "nbformat": 4,
 "nbformat_minor": 5
}
