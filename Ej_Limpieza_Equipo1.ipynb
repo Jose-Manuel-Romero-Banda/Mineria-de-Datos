{
 "cells": [
  {
   "cell_type": "markdown",
   "id": "c69adeac",
   "metadata": {},
   "source": [
    "# Equipo 1\n",
    "## Grupo: 001 (Lunes 7:00 - 10:00 pm)\n",
    "### Integrantes:\n",
    "+ 1848655 - Rangel Vallejo Isabel Alejandra \n",
    "+ 1851167 - Aguilar Sánchez José Antonio\n",
    "+ 1851124 - Cerecero Peña Angela Scarlett\n",
    "+ 1851528 - Romero Banda José Manuel\n",
    "+ 1853849 - García Gutiérrez Alfonso de Jesús "
   ]
  },
  {
   "cell_type": "markdown",
   "id": "bada27e4",
   "metadata": {},
   "source": [
    "# Práctica 1: Limpieza de datos"
   ]
  },
  {
   "cell_type": "markdown",
   "id": "93796dba",
   "metadata": {},
   "source": [
    "### Título de la base de datos: Wine Reviews\n",
    "### Url de la página: [Wine Reviews](https://www.kaggle.com/zynicide/wine-reviews?select=winemag-data_first150k.csv)"
   ]
  },
  {
   "cell_type": "markdown",
   "id": "2b6047a6",
   "metadata": {},
   "source": [
    "Para empezar con la limpieza de la base de datos, primero se debe contar con dicha base. Por lo tanto, el primer paso es importar las librerias que nos ayudarán a abrir el archivo"
   ]
  },
  {
   "cell_type": "markdown",
   "id": "b0d6aab1",
   "metadata": {},
   "source": [
    "+ Importar librerias"
   ]
  },
  {
   "cell_type": "code",
   "execution_count": 1,
   "id": "daff9ead",
   "metadata": {},
   "outputs": [],
   "source": [
    "import pandas as pd\n",
    "import numpy as np"
   ]
  },
  {
   "cell_type": "markdown",
   "id": "9054595a",
   "metadata": {},
   "source": [
    "Una vez que se importan las librerias, se puede importar la base de datos llamándola directamente con la función read_csv, debido a que la base está guardada como csv. Es importante mencionar que la base se encuentra guardada en la dirección que tiene este documento, por lo que resulta más fácil leer dicho archivo"
   ]
  },
  {
   "cell_type": "markdown",
   "id": "1a71831b",
   "metadata": {},
   "source": [
    "+ Importar base de datos"
   ]
  },
  {
   "cell_type": "code",
   "execution_count": 2,
   "id": "98ca767c",
   "metadata": {},
   "outputs": [],
   "source": [
    "base = pd.read_csv(\"winemag-data.csv\")"
   ]
  },
  {
   "cell_type": "markdown",
   "id": "fbce1d1d",
   "metadata": {},
   "source": [
    "La base de datos ahora está guardada en nuestra variable \"base\", que es un dataframe con los elementos de la base, para visualizarlos se hace uso de distintas funciones"
   ]
  },
  {
   "cell_type": "markdown",
   "id": "3e451d11",
   "metadata": {},
   "source": [
    "+ Visualizar los datos"
   ]
  },
  {
   "cell_type": "markdown",
   "id": "1530d227",
   "metadata": {},
   "source": [
    "Primero se tiene que visualizar toda la base sin modificaciones, con el fin de poder establecer objetivos y saber qué aspectos son los que se tienen que limpiar"
   ]
  },
  {
   "cell_type": "code",
   "execution_count": 3,
   "id": "2e16057e",
   "metadata": {},
   "outputs": [
    {
     "data": {
      "text/html": [
       "<div>\n",
       "<style scoped>\n",
       "    .dataframe tbody tr th:only-of-type {\n",
       "        vertical-align: middle;\n",
       "    }\n",
       "\n",
       "    .dataframe tbody tr th {\n",
       "        vertical-align: top;\n",
       "    }\n",
       "\n",
       "    .dataframe thead th {\n",
       "        text-align: right;\n",
       "    }\n",
       "</style>\n",
       "<table border=\"1\" class=\"dataframe\">\n",
       "  <thead>\n",
       "    <tr style=\"text-align: right;\">\n",
       "      <th></th>\n",
       "      <th>Unnamed: 0</th>\n",
       "      <th>country</th>\n",
       "      <th>description</th>\n",
       "      <th>designation</th>\n",
       "      <th>points</th>\n",
       "      <th>price</th>\n",
       "      <th>province</th>\n",
       "      <th>region_1</th>\n",
       "      <th>region_2</th>\n",
       "      <th>taster_name</th>\n",
       "      <th>taster_twitter_handle</th>\n",
       "      <th>title</th>\n",
       "      <th>variety</th>\n",
       "      <th>winery</th>\n",
       "    </tr>\n",
       "  </thead>\n",
       "  <tbody>\n",
       "    <tr>\n",
       "      <th>0</th>\n",
       "      <td>0</td>\n",
       "      <td>Italy</td>\n",
       "      <td>Aromas include tropical fruit, broom, brimston...</td>\n",
       "      <td>Vulkà Bianco</td>\n",
       "      <td>87</td>\n",
       "      <td>NaN</td>\n",
       "      <td>Sicily &amp; Sardinia</td>\n",
       "      <td>Etna</td>\n",
       "      <td>NaN</td>\n",
       "      <td>Kerin O’Keefe</td>\n",
       "      <td>@kerinokeefe</td>\n",
       "      <td>Nicosia 2013 Vulkà Bianco  (Etna)</td>\n",
       "      <td>White Blend</td>\n",
       "      <td>Nicosia</td>\n",
       "    </tr>\n",
       "    <tr>\n",
       "      <th>1</th>\n",
       "      <td>1</td>\n",
       "      <td>Portugal</td>\n",
       "      <td>This is ripe and fruity, a wine that is smooth...</td>\n",
       "      <td>Avidagos</td>\n",
       "      <td>87</td>\n",
       "      <td>15.0</td>\n",
       "      <td>Douro</td>\n",
       "      <td>NaN</td>\n",
       "      <td>NaN</td>\n",
       "      <td>Roger Voss</td>\n",
       "      <td>@vossroger</td>\n",
       "      <td>Quinta dos Avidagos 2011 Avidagos Red (Douro)</td>\n",
       "      <td>Portuguese Red</td>\n",
       "      <td>Quinta dos Avidagos</td>\n",
       "    </tr>\n",
       "    <tr>\n",
       "      <th>2</th>\n",
       "      <td>2</td>\n",
       "      <td>US</td>\n",
       "      <td>Tart and snappy, the flavors of lime flesh and...</td>\n",
       "      <td>NaN</td>\n",
       "      <td>87</td>\n",
       "      <td>14.0</td>\n",
       "      <td>Oregon</td>\n",
       "      <td>Willamette Valley</td>\n",
       "      <td>Willamette Valley</td>\n",
       "      <td>Paul Gregutt</td>\n",
       "      <td>@paulgwine</td>\n",
       "      <td>Rainstorm 2013 Pinot Gris (Willamette Valley)</td>\n",
       "      <td>Pinot Gris</td>\n",
       "      <td>Rainstorm</td>\n",
       "    </tr>\n",
       "    <tr>\n",
       "      <th>3</th>\n",
       "      <td>3</td>\n",
       "      <td>US</td>\n",
       "      <td>Pineapple rind, lemon pith and orange blossom ...</td>\n",
       "      <td>Reserve Late Harvest</td>\n",
       "      <td>87</td>\n",
       "      <td>13.0</td>\n",
       "      <td>Michigan</td>\n",
       "      <td>Lake Michigan Shore</td>\n",
       "      <td>NaN</td>\n",
       "      <td>Alexander Peartree</td>\n",
       "      <td>NaN</td>\n",
       "      <td>St. Julian 2013 Reserve Late Harvest Riesling ...</td>\n",
       "      <td>Riesling</td>\n",
       "      <td>St. Julian</td>\n",
       "    </tr>\n",
       "    <tr>\n",
       "      <th>4</th>\n",
       "      <td>4</td>\n",
       "      <td>US</td>\n",
       "      <td>Much like the regular bottling from 2012, this...</td>\n",
       "      <td>Vintner's Reserve Wild Child Block</td>\n",
       "      <td>87</td>\n",
       "      <td>65.0</td>\n",
       "      <td>Oregon</td>\n",
       "      <td>Willamette Valley</td>\n",
       "      <td>Willamette Valley</td>\n",
       "      <td>Paul Gregutt</td>\n",
       "      <td>@paulgwine</td>\n",
       "      <td>Sweet Cheeks 2012 Vintner's Reserve Wild Child...</td>\n",
       "      <td>Pinot Noir</td>\n",
       "      <td>Sweet Cheeks</td>\n",
       "    </tr>\n",
       "    <tr>\n",
       "      <th>...</th>\n",
       "      <td>...</td>\n",
       "      <td>...</td>\n",
       "      <td>...</td>\n",
       "      <td>...</td>\n",
       "      <td>...</td>\n",
       "      <td>...</td>\n",
       "      <td>...</td>\n",
       "      <td>...</td>\n",
       "      <td>...</td>\n",
       "      <td>...</td>\n",
       "      <td>...</td>\n",
       "      <td>...</td>\n",
       "      <td>...</td>\n",
       "      <td>...</td>\n",
       "    </tr>\n",
       "    <tr>\n",
       "      <th>129966</th>\n",
       "      <td>129966</td>\n",
       "      <td>Germany</td>\n",
       "      <td>Notes of honeysuckle and cantaloupe sweeten th...</td>\n",
       "      <td>Brauneberger Juffer-Sonnenuhr Spätlese</td>\n",
       "      <td>90</td>\n",
       "      <td>28.0</td>\n",
       "      <td>Mosel</td>\n",
       "      <td>NaN</td>\n",
       "      <td>NaN</td>\n",
       "      <td>Anna Lee C. Iijima</td>\n",
       "      <td>NaN</td>\n",
       "      <td>Dr. H. Thanisch (Erben Müller-Burggraef) 2013 ...</td>\n",
       "      <td>Riesling</td>\n",
       "      <td>Dr. H. Thanisch (Erben Müller-Burggraef)</td>\n",
       "    </tr>\n",
       "    <tr>\n",
       "      <th>129967</th>\n",
       "      <td>129967</td>\n",
       "      <td>US</td>\n",
       "      <td>Citation is given as much as a decade of bottl...</td>\n",
       "      <td>NaN</td>\n",
       "      <td>90</td>\n",
       "      <td>75.0</td>\n",
       "      <td>Oregon</td>\n",
       "      <td>Oregon</td>\n",
       "      <td>Oregon Other</td>\n",
       "      <td>Paul Gregutt</td>\n",
       "      <td>@paulgwine</td>\n",
       "      <td>Citation 2004 Pinot Noir (Oregon)</td>\n",
       "      <td>Pinot Noir</td>\n",
       "      <td>Citation</td>\n",
       "    </tr>\n",
       "    <tr>\n",
       "      <th>129968</th>\n",
       "      <td>129968</td>\n",
       "      <td>France</td>\n",
       "      <td>Well-drained gravel soil gives this wine its c...</td>\n",
       "      <td>Kritt</td>\n",
       "      <td>90</td>\n",
       "      <td>30.0</td>\n",
       "      <td>Alsace</td>\n",
       "      <td>Alsace</td>\n",
       "      <td>NaN</td>\n",
       "      <td>Roger Voss</td>\n",
       "      <td>@vossroger</td>\n",
       "      <td>Domaine Gresser 2013 Kritt Gewurztraminer (Als...</td>\n",
       "      <td>Gewürztraminer</td>\n",
       "      <td>Domaine Gresser</td>\n",
       "    </tr>\n",
       "    <tr>\n",
       "      <th>129969</th>\n",
       "      <td>129969</td>\n",
       "      <td>France</td>\n",
       "      <td>A dry style of Pinot Gris, this is crisp with ...</td>\n",
       "      <td>NaN</td>\n",
       "      <td>90</td>\n",
       "      <td>32.0</td>\n",
       "      <td>Alsace</td>\n",
       "      <td>Alsace</td>\n",
       "      <td>NaN</td>\n",
       "      <td>Roger Voss</td>\n",
       "      <td>@vossroger</td>\n",
       "      <td>Domaine Marcel Deiss 2012 Pinot Gris (Alsace)</td>\n",
       "      <td>Pinot Gris</td>\n",
       "      <td>Domaine Marcel Deiss</td>\n",
       "    </tr>\n",
       "    <tr>\n",
       "      <th>129970</th>\n",
       "      <td>129970</td>\n",
       "      <td>France</td>\n",
       "      <td>Big, rich and off-dry, this is powered by inte...</td>\n",
       "      <td>Lieu-dit Harth Cuvée Caroline</td>\n",
       "      <td>90</td>\n",
       "      <td>21.0</td>\n",
       "      <td>Alsace</td>\n",
       "      <td>Alsace</td>\n",
       "      <td>NaN</td>\n",
       "      <td>Roger Voss</td>\n",
       "      <td>@vossroger</td>\n",
       "      <td>Domaine Schoffit 2012 Lieu-dit Harth Cuvée Car...</td>\n",
       "      <td>Gewürztraminer</td>\n",
       "      <td>Domaine Schoffit</td>\n",
       "    </tr>\n",
       "  </tbody>\n",
       "</table>\n",
       "<p>129971 rows × 14 columns</p>\n",
       "</div>"
      ],
      "text/plain": [
       "        Unnamed: 0   country  \\\n",
       "0                0     Italy   \n",
       "1                1  Portugal   \n",
       "2                2        US   \n",
       "3                3        US   \n",
       "4                4        US   \n",
       "...            ...       ...   \n",
       "129966      129966   Germany   \n",
       "129967      129967        US   \n",
       "129968      129968    France   \n",
       "129969      129969    France   \n",
       "129970      129970    France   \n",
       "\n",
       "                                              description  \\\n",
       "0       Aromas include tropical fruit, broom, brimston...   \n",
       "1       This is ripe and fruity, a wine that is smooth...   \n",
       "2       Tart and snappy, the flavors of lime flesh and...   \n",
       "3       Pineapple rind, lemon pith and orange blossom ...   \n",
       "4       Much like the regular bottling from 2012, this...   \n",
       "...                                                   ...   \n",
       "129966  Notes of honeysuckle and cantaloupe sweeten th...   \n",
       "129967  Citation is given as much as a decade of bottl...   \n",
       "129968  Well-drained gravel soil gives this wine its c...   \n",
       "129969  A dry style of Pinot Gris, this is crisp with ...   \n",
       "129970  Big, rich and off-dry, this is powered by inte...   \n",
       "\n",
       "                                   designation  points  price  \\\n",
       "0                                 Vulkà Bianco      87    NaN   \n",
       "1                                     Avidagos      87   15.0   \n",
       "2                                          NaN      87   14.0   \n",
       "3                         Reserve Late Harvest      87   13.0   \n",
       "4           Vintner's Reserve Wild Child Block      87   65.0   \n",
       "...                                        ...     ...    ...   \n",
       "129966  Brauneberger Juffer-Sonnenuhr Spätlese      90   28.0   \n",
       "129967                                     NaN      90   75.0   \n",
       "129968                                   Kritt      90   30.0   \n",
       "129969                                     NaN      90   32.0   \n",
       "129970           Lieu-dit Harth Cuvée Caroline      90   21.0   \n",
       "\n",
       "                 province             region_1           region_2  \\\n",
       "0       Sicily & Sardinia                 Etna                NaN   \n",
       "1                   Douro                  NaN                NaN   \n",
       "2                  Oregon    Willamette Valley  Willamette Valley   \n",
       "3                Michigan  Lake Michigan Shore                NaN   \n",
       "4                  Oregon    Willamette Valley  Willamette Valley   \n",
       "...                   ...                  ...                ...   \n",
       "129966              Mosel                  NaN                NaN   \n",
       "129967             Oregon               Oregon       Oregon Other   \n",
       "129968             Alsace               Alsace                NaN   \n",
       "129969             Alsace               Alsace                NaN   \n",
       "129970             Alsace               Alsace                NaN   \n",
       "\n",
       "               taster_name taster_twitter_handle  \\\n",
       "0            Kerin O’Keefe          @kerinokeefe   \n",
       "1               Roger Voss            @vossroger   \n",
       "2             Paul Gregutt           @paulgwine    \n",
       "3       Alexander Peartree                   NaN   \n",
       "4             Paul Gregutt           @paulgwine    \n",
       "...                    ...                   ...   \n",
       "129966  Anna Lee C. Iijima                   NaN   \n",
       "129967        Paul Gregutt           @paulgwine    \n",
       "129968          Roger Voss            @vossroger   \n",
       "129969          Roger Voss            @vossroger   \n",
       "129970          Roger Voss            @vossroger   \n",
       "\n",
       "                                                    title         variety  \\\n",
       "0                       Nicosia 2013 Vulkà Bianco  (Etna)     White Blend   \n",
       "1           Quinta dos Avidagos 2011 Avidagos Red (Douro)  Portuguese Red   \n",
       "2           Rainstorm 2013 Pinot Gris (Willamette Valley)      Pinot Gris   \n",
       "3       St. Julian 2013 Reserve Late Harvest Riesling ...        Riesling   \n",
       "4       Sweet Cheeks 2012 Vintner's Reserve Wild Child...      Pinot Noir   \n",
       "...                                                   ...             ...   \n",
       "129966  Dr. H. Thanisch (Erben Müller-Burggraef) 2013 ...        Riesling   \n",
       "129967                  Citation 2004 Pinot Noir (Oregon)      Pinot Noir   \n",
       "129968  Domaine Gresser 2013 Kritt Gewurztraminer (Als...  Gewürztraminer   \n",
       "129969      Domaine Marcel Deiss 2012 Pinot Gris (Alsace)      Pinot Gris   \n",
       "129970  Domaine Schoffit 2012 Lieu-dit Harth Cuvée Car...  Gewürztraminer   \n",
       "\n",
       "                                          winery  \n",
       "0                                        Nicosia  \n",
       "1                            Quinta dos Avidagos  \n",
       "2                                      Rainstorm  \n",
       "3                                     St. Julian  \n",
       "4                                   Sweet Cheeks  \n",
       "...                                          ...  \n",
       "129966  Dr. H. Thanisch (Erben Müller-Burggraef)  \n",
       "129967                                  Citation  \n",
       "129968                           Domaine Gresser  \n",
       "129969                      Domaine Marcel Deiss  \n",
       "129970                          Domaine Schoffit  \n",
       "\n",
       "[129971 rows x 14 columns]"
      ]
     },
     "execution_count": 3,
     "metadata": {},
     "output_type": "execute_result"
    }
   ],
   "source": [
    "base"
   ]
  },
  {
   "cell_type": "markdown",
   "id": "f5f39a84",
   "metadata": {},
   "source": [
    "Al llamar a la base de datos, podemos ver los elementos que incluye, esto último de forma limitada, debido a que no se carga toda la base y solo muestra algunos elementos de la misma. En algunas ocasiones, tampoco se muestran todas las columnas en caso de que sean muchas y no se alcance a mostrar todas, en nuestro caso sí se muestran todas"
   ]
  },
  {
   "cell_type": "markdown",
   "id": "c09e83bf",
   "metadata": {},
   "source": [
    "Para una mejor perspectiva de lo que tenemos, podemos usar la siguiente función para conocer el número de filas y columnas que tenemos en nuestra base"
   ]
  },
  {
   "cell_type": "code",
   "execution_count": 4,
   "id": "a015c2d7",
   "metadata": {},
   "outputs": [
    {
     "data": {
      "text/plain": [
       "(129971, 14)"
      ]
     },
     "execution_count": 4,
     "metadata": {},
     "output_type": "execute_result"
    }
   ],
   "source": [
    "base.shape"
   ]
  },
  {
   "cell_type": "markdown",
   "id": "96805a78",
   "metadata": {},
   "source": [
    "Tenemos 129971 filas y 14 columnas en nuestro dataframe"
   ]
  },
  {
   "cell_type": "markdown",
   "id": "61b36afd",
   "metadata": {},
   "source": [
    "Para una mejor visualización de los datos, podemos hacer uso de la función \"head\" que nos muestra los primeros \"n\" elementos de la base, en este caso, pediremos que nos muestre los primeros 5 elementos de la base"
   ]
  },
  {
   "cell_type": "code",
   "execution_count": 5,
   "id": "bca9018c",
   "metadata": {},
   "outputs": [
    {
     "data": {
      "text/html": [
       "<div>\n",
       "<style scoped>\n",
       "    .dataframe tbody tr th:only-of-type {\n",
       "        vertical-align: middle;\n",
       "    }\n",
       "\n",
       "    .dataframe tbody tr th {\n",
       "        vertical-align: top;\n",
       "    }\n",
       "\n",
       "    .dataframe thead th {\n",
       "        text-align: right;\n",
       "    }\n",
       "</style>\n",
       "<table border=\"1\" class=\"dataframe\">\n",
       "  <thead>\n",
       "    <tr style=\"text-align: right;\">\n",
       "      <th></th>\n",
       "      <th>Unnamed: 0</th>\n",
       "      <th>country</th>\n",
       "      <th>description</th>\n",
       "      <th>designation</th>\n",
       "      <th>points</th>\n",
       "      <th>price</th>\n",
       "      <th>province</th>\n",
       "      <th>region_1</th>\n",
       "      <th>region_2</th>\n",
       "      <th>taster_name</th>\n",
       "      <th>taster_twitter_handle</th>\n",
       "      <th>title</th>\n",
       "      <th>variety</th>\n",
       "      <th>winery</th>\n",
       "    </tr>\n",
       "  </thead>\n",
       "  <tbody>\n",
       "    <tr>\n",
       "      <th>0</th>\n",
       "      <td>0</td>\n",
       "      <td>Italy</td>\n",
       "      <td>Aromas include tropical fruit, broom, brimston...</td>\n",
       "      <td>Vulkà Bianco</td>\n",
       "      <td>87</td>\n",
       "      <td>NaN</td>\n",
       "      <td>Sicily &amp; Sardinia</td>\n",
       "      <td>Etna</td>\n",
       "      <td>NaN</td>\n",
       "      <td>Kerin O’Keefe</td>\n",
       "      <td>@kerinokeefe</td>\n",
       "      <td>Nicosia 2013 Vulkà Bianco  (Etna)</td>\n",
       "      <td>White Blend</td>\n",
       "      <td>Nicosia</td>\n",
       "    </tr>\n",
       "    <tr>\n",
       "      <th>1</th>\n",
       "      <td>1</td>\n",
       "      <td>Portugal</td>\n",
       "      <td>This is ripe and fruity, a wine that is smooth...</td>\n",
       "      <td>Avidagos</td>\n",
       "      <td>87</td>\n",
       "      <td>15.0</td>\n",
       "      <td>Douro</td>\n",
       "      <td>NaN</td>\n",
       "      <td>NaN</td>\n",
       "      <td>Roger Voss</td>\n",
       "      <td>@vossroger</td>\n",
       "      <td>Quinta dos Avidagos 2011 Avidagos Red (Douro)</td>\n",
       "      <td>Portuguese Red</td>\n",
       "      <td>Quinta dos Avidagos</td>\n",
       "    </tr>\n",
       "    <tr>\n",
       "      <th>2</th>\n",
       "      <td>2</td>\n",
       "      <td>US</td>\n",
       "      <td>Tart and snappy, the flavors of lime flesh and...</td>\n",
       "      <td>NaN</td>\n",
       "      <td>87</td>\n",
       "      <td>14.0</td>\n",
       "      <td>Oregon</td>\n",
       "      <td>Willamette Valley</td>\n",
       "      <td>Willamette Valley</td>\n",
       "      <td>Paul Gregutt</td>\n",
       "      <td>@paulgwine</td>\n",
       "      <td>Rainstorm 2013 Pinot Gris (Willamette Valley)</td>\n",
       "      <td>Pinot Gris</td>\n",
       "      <td>Rainstorm</td>\n",
       "    </tr>\n",
       "    <tr>\n",
       "      <th>3</th>\n",
       "      <td>3</td>\n",
       "      <td>US</td>\n",
       "      <td>Pineapple rind, lemon pith and orange blossom ...</td>\n",
       "      <td>Reserve Late Harvest</td>\n",
       "      <td>87</td>\n",
       "      <td>13.0</td>\n",
       "      <td>Michigan</td>\n",
       "      <td>Lake Michigan Shore</td>\n",
       "      <td>NaN</td>\n",
       "      <td>Alexander Peartree</td>\n",
       "      <td>NaN</td>\n",
       "      <td>St. Julian 2013 Reserve Late Harvest Riesling ...</td>\n",
       "      <td>Riesling</td>\n",
       "      <td>St. Julian</td>\n",
       "    </tr>\n",
       "    <tr>\n",
       "      <th>4</th>\n",
       "      <td>4</td>\n",
       "      <td>US</td>\n",
       "      <td>Much like the regular bottling from 2012, this...</td>\n",
       "      <td>Vintner's Reserve Wild Child Block</td>\n",
       "      <td>87</td>\n",
       "      <td>65.0</td>\n",
       "      <td>Oregon</td>\n",
       "      <td>Willamette Valley</td>\n",
       "      <td>Willamette Valley</td>\n",
       "      <td>Paul Gregutt</td>\n",
       "      <td>@paulgwine</td>\n",
       "      <td>Sweet Cheeks 2012 Vintner's Reserve Wild Child...</td>\n",
       "      <td>Pinot Noir</td>\n",
       "      <td>Sweet Cheeks</td>\n",
       "    </tr>\n",
       "  </tbody>\n",
       "</table>\n",
       "</div>"
      ],
      "text/plain": [
       "   Unnamed: 0   country                                        description  \\\n",
       "0           0     Italy  Aromas include tropical fruit, broom, brimston...   \n",
       "1           1  Portugal  This is ripe and fruity, a wine that is smooth...   \n",
       "2           2        US  Tart and snappy, the flavors of lime flesh and...   \n",
       "3           3        US  Pineapple rind, lemon pith and orange blossom ...   \n",
       "4           4        US  Much like the regular bottling from 2012, this...   \n",
       "\n",
       "                          designation  points  price           province  \\\n",
       "0                        Vulkà Bianco      87    NaN  Sicily & Sardinia   \n",
       "1                            Avidagos      87   15.0              Douro   \n",
       "2                                 NaN      87   14.0             Oregon   \n",
       "3                Reserve Late Harvest      87   13.0           Michigan   \n",
       "4  Vintner's Reserve Wild Child Block      87   65.0             Oregon   \n",
       "\n",
       "              region_1           region_2         taster_name  \\\n",
       "0                 Etna                NaN       Kerin O’Keefe   \n",
       "1                  NaN                NaN          Roger Voss   \n",
       "2    Willamette Valley  Willamette Valley        Paul Gregutt   \n",
       "3  Lake Michigan Shore                NaN  Alexander Peartree   \n",
       "4    Willamette Valley  Willamette Valley        Paul Gregutt   \n",
       "\n",
       "  taster_twitter_handle                                              title  \\\n",
       "0          @kerinokeefe                  Nicosia 2013 Vulkà Bianco  (Etna)   \n",
       "1            @vossroger      Quinta dos Avidagos 2011 Avidagos Red (Douro)   \n",
       "2           @paulgwine       Rainstorm 2013 Pinot Gris (Willamette Valley)   \n",
       "3                   NaN  St. Julian 2013 Reserve Late Harvest Riesling ...   \n",
       "4           @paulgwine   Sweet Cheeks 2012 Vintner's Reserve Wild Child...   \n",
       "\n",
       "          variety               winery  \n",
       "0     White Blend              Nicosia  \n",
       "1  Portuguese Red  Quinta dos Avidagos  \n",
       "2      Pinot Gris            Rainstorm  \n",
       "3        Riesling           St. Julian  \n",
       "4      Pinot Noir         Sweet Cheeks  "
      ]
     },
     "execution_count": 5,
     "metadata": {},
     "output_type": "execute_result"
    }
   ],
   "source": [
    "base.head(5)"
   ]
  },
  {
   "cell_type": "markdown",
   "id": "3bf188aa",
   "metadata": {},
   "source": [
    "Así, podemos conocer un poco de los elementos que conforman nuestra base"
   ]
  },
  {
   "cell_type": "markdown",
   "id": "666e78e8",
   "metadata": {},
   "source": [
    "De la misma forma, podemos visualizar los últimos \"n\" elementos del dataframe, con una sencilla función:"
   ]
  },
  {
   "cell_type": "code",
   "execution_count": 6,
   "id": "e9e0f4dd",
   "metadata": {
    "scrolled": true
   },
   "outputs": [
    {
     "data": {
      "text/html": [
       "<div>\n",
       "<style scoped>\n",
       "    .dataframe tbody tr th:only-of-type {\n",
       "        vertical-align: middle;\n",
       "    }\n",
       "\n",
       "    .dataframe tbody tr th {\n",
       "        vertical-align: top;\n",
       "    }\n",
       "\n",
       "    .dataframe thead th {\n",
       "        text-align: right;\n",
       "    }\n",
       "</style>\n",
       "<table border=\"1\" class=\"dataframe\">\n",
       "  <thead>\n",
       "    <tr style=\"text-align: right;\">\n",
       "      <th></th>\n",
       "      <th>Unnamed: 0</th>\n",
       "      <th>country</th>\n",
       "      <th>description</th>\n",
       "      <th>designation</th>\n",
       "      <th>points</th>\n",
       "      <th>price</th>\n",
       "      <th>province</th>\n",
       "      <th>region_1</th>\n",
       "      <th>region_2</th>\n",
       "      <th>taster_name</th>\n",
       "      <th>taster_twitter_handle</th>\n",
       "      <th>title</th>\n",
       "      <th>variety</th>\n",
       "      <th>winery</th>\n",
       "    </tr>\n",
       "  </thead>\n",
       "  <tbody>\n",
       "    <tr>\n",
       "      <th>129966</th>\n",
       "      <td>129966</td>\n",
       "      <td>Germany</td>\n",
       "      <td>Notes of honeysuckle and cantaloupe sweeten th...</td>\n",
       "      <td>Brauneberger Juffer-Sonnenuhr Spätlese</td>\n",
       "      <td>90</td>\n",
       "      <td>28.0</td>\n",
       "      <td>Mosel</td>\n",
       "      <td>NaN</td>\n",
       "      <td>NaN</td>\n",
       "      <td>Anna Lee C. Iijima</td>\n",
       "      <td>NaN</td>\n",
       "      <td>Dr. H. Thanisch (Erben Müller-Burggraef) 2013 ...</td>\n",
       "      <td>Riesling</td>\n",
       "      <td>Dr. H. Thanisch (Erben Müller-Burggraef)</td>\n",
       "    </tr>\n",
       "    <tr>\n",
       "      <th>129967</th>\n",
       "      <td>129967</td>\n",
       "      <td>US</td>\n",
       "      <td>Citation is given as much as a decade of bottl...</td>\n",
       "      <td>NaN</td>\n",
       "      <td>90</td>\n",
       "      <td>75.0</td>\n",
       "      <td>Oregon</td>\n",
       "      <td>Oregon</td>\n",
       "      <td>Oregon Other</td>\n",
       "      <td>Paul Gregutt</td>\n",
       "      <td>@paulgwine</td>\n",
       "      <td>Citation 2004 Pinot Noir (Oregon)</td>\n",
       "      <td>Pinot Noir</td>\n",
       "      <td>Citation</td>\n",
       "    </tr>\n",
       "    <tr>\n",
       "      <th>129968</th>\n",
       "      <td>129968</td>\n",
       "      <td>France</td>\n",
       "      <td>Well-drained gravel soil gives this wine its c...</td>\n",
       "      <td>Kritt</td>\n",
       "      <td>90</td>\n",
       "      <td>30.0</td>\n",
       "      <td>Alsace</td>\n",
       "      <td>Alsace</td>\n",
       "      <td>NaN</td>\n",
       "      <td>Roger Voss</td>\n",
       "      <td>@vossroger</td>\n",
       "      <td>Domaine Gresser 2013 Kritt Gewurztraminer (Als...</td>\n",
       "      <td>Gewürztraminer</td>\n",
       "      <td>Domaine Gresser</td>\n",
       "    </tr>\n",
       "    <tr>\n",
       "      <th>129969</th>\n",
       "      <td>129969</td>\n",
       "      <td>France</td>\n",
       "      <td>A dry style of Pinot Gris, this is crisp with ...</td>\n",
       "      <td>NaN</td>\n",
       "      <td>90</td>\n",
       "      <td>32.0</td>\n",
       "      <td>Alsace</td>\n",
       "      <td>Alsace</td>\n",
       "      <td>NaN</td>\n",
       "      <td>Roger Voss</td>\n",
       "      <td>@vossroger</td>\n",
       "      <td>Domaine Marcel Deiss 2012 Pinot Gris (Alsace)</td>\n",
       "      <td>Pinot Gris</td>\n",
       "      <td>Domaine Marcel Deiss</td>\n",
       "    </tr>\n",
       "    <tr>\n",
       "      <th>129970</th>\n",
       "      <td>129970</td>\n",
       "      <td>France</td>\n",
       "      <td>Big, rich and off-dry, this is powered by inte...</td>\n",
       "      <td>Lieu-dit Harth Cuvée Caroline</td>\n",
       "      <td>90</td>\n",
       "      <td>21.0</td>\n",
       "      <td>Alsace</td>\n",
       "      <td>Alsace</td>\n",
       "      <td>NaN</td>\n",
       "      <td>Roger Voss</td>\n",
       "      <td>@vossroger</td>\n",
       "      <td>Domaine Schoffit 2012 Lieu-dit Harth Cuvée Car...</td>\n",
       "      <td>Gewürztraminer</td>\n",
       "      <td>Domaine Schoffit</td>\n",
       "    </tr>\n",
       "  </tbody>\n",
       "</table>\n",
       "</div>"
      ],
      "text/plain": [
       "        Unnamed: 0  country  \\\n",
       "129966      129966  Germany   \n",
       "129967      129967       US   \n",
       "129968      129968   France   \n",
       "129969      129969   France   \n",
       "129970      129970   France   \n",
       "\n",
       "                                              description  \\\n",
       "129966  Notes of honeysuckle and cantaloupe sweeten th...   \n",
       "129967  Citation is given as much as a decade of bottl...   \n",
       "129968  Well-drained gravel soil gives this wine its c...   \n",
       "129969  A dry style of Pinot Gris, this is crisp with ...   \n",
       "129970  Big, rich and off-dry, this is powered by inte...   \n",
       "\n",
       "                                   designation  points  price province  \\\n",
       "129966  Brauneberger Juffer-Sonnenuhr Spätlese      90   28.0    Mosel   \n",
       "129967                                     NaN      90   75.0   Oregon   \n",
       "129968                                   Kritt      90   30.0   Alsace   \n",
       "129969                                     NaN      90   32.0   Alsace   \n",
       "129970           Lieu-dit Harth Cuvée Caroline      90   21.0   Alsace   \n",
       "\n",
       "       region_1      region_2         taster_name taster_twitter_handle  \\\n",
       "129966      NaN           NaN  Anna Lee C. Iijima                   NaN   \n",
       "129967   Oregon  Oregon Other        Paul Gregutt           @paulgwine    \n",
       "129968   Alsace           NaN          Roger Voss            @vossroger   \n",
       "129969   Alsace           NaN          Roger Voss            @vossroger   \n",
       "129970   Alsace           NaN          Roger Voss            @vossroger   \n",
       "\n",
       "                                                    title         variety  \\\n",
       "129966  Dr. H. Thanisch (Erben Müller-Burggraef) 2013 ...        Riesling   \n",
       "129967                  Citation 2004 Pinot Noir (Oregon)      Pinot Noir   \n",
       "129968  Domaine Gresser 2013 Kritt Gewurztraminer (Als...  Gewürztraminer   \n",
       "129969      Domaine Marcel Deiss 2012 Pinot Gris (Alsace)      Pinot Gris   \n",
       "129970  Domaine Schoffit 2012 Lieu-dit Harth Cuvée Car...  Gewürztraminer   \n",
       "\n",
       "                                          winery  \n",
       "129966  Dr. H. Thanisch (Erben Müller-Burggraef)  \n",
       "129967                                  Citation  \n",
       "129968                           Domaine Gresser  \n",
       "129969                      Domaine Marcel Deiss  \n",
       "129970                          Domaine Schoffit  "
      ]
     },
     "execution_count": 6,
     "metadata": {},
     "output_type": "execute_result"
    }
   ],
   "source": [
    "base.tail(5)"
   ]
  },
  {
   "cell_type": "markdown",
   "id": "b00b1cf8",
   "metadata": {},
   "source": [
    "Podemos ver que son los últimos elementos dado el número que tienen al inicio en la columna 1"
   ]
  },
  {
   "cell_type": "markdown",
   "id": "255fb4d5",
   "metadata": {},
   "source": [
    "* Clasificación de los datos"
   ]
  },
  {
   "cell_type": "markdown",
   "id": "520865c4",
   "metadata": {},
   "source": [
    "Al observar la base, queda en claro que los datos estan ordenados conforme los obtuvieron, esto nos puede provocar problemas en el futuro para nuestras intenciones sobre este dataframe, por lo que proseguiremos a reacomordarlos de cierta forma para que nos facilite nuestra tarea. En este caso los acomodaremos por pais."
   ]
  },
  {
   "cell_type": "code",
   "execution_count": 7,
   "id": "05da4433",
   "metadata": {},
   "outputs": [],
   "source": [
    "base= base.sort_values('country')"
   ]
  },
  {
   "cell_type": "code",
   "execution_count": 8,
   "id": "7825c22f",
   "metadata": {},
   "outputs": [
    {
     "data": {
      "text/html": [
       "<div>\n",
       "<style scoped>\n",
       "    .dataframe tbody tr th:only-of-type {\n",
       "        vertical-align: middle;\n",
       "    }\n",
       "\n",
       "    .dataframe tbody tr th {\n",
       "        vertical-align: top;\n",
       "    }\n",
       "\n",
       "    .dataframe thead th {\n",
       "        text-align: right;\n",
       "    }\n",
       "</style>\n",
       "<table border=\"1\" class=\"dataframe\">\n",
       "  <thead>\n",
       "    <tr style=\"text-align: right;\">\n",
       "      <th></th>\n",
       "      <th>Unnamed: 0</th>\n",
       "      <th>country</th>\n",
       "      <th>description</th>\n",
       "      <th>designation</th>\n",
       "      <th>points</th>\n",
       "      <th>price</th>\n",
       "      <th>province</th>\n",
       "      <th>region_1</th>\n",
       "      <th>region_2</th>\n",
       "      <th>taster_name</th>\n",
       "      <th>taster_twitter_handle</th>\n",
       "      <th>title</th>\n",
       "      <th>variety</th>\n",
       "      <th>winery</th>\n",
       "    </tr>\n",
       "  </thead>\n",
       "  <tbody>\n",
       "    <tr>\n",
       "      <th>90901</th>\n",
       "      <td>90901</td>\n",
       "      <td>Argentina</td>\n",
       "      <td>Odd aromas of bath soap and tropical fruits ar...</td>\n",
       "      <td>Valle Las Acequias Clase A</td>\n",
       "      <td>81</td>\n",
       "      <td>9.0</td>\n",
       "      <td>Mendoza Province</td>\n",
       "      <td>Mendoza</td>\n",
       "      <td>NaN</td>\n",
       "      <td>Michael Schachner</td>\n",
       "      <td>@wineschach</td>\n",
       "      <td>Luis Segundo Correas 2015 Valle Las Acequias C...</td>\n",
       "      <td>Chardonnay</td>\n",
       "      <td>Luis Segundo Correas</td>\n",
       "    </tr>\n",
       "    <tr>\n",
       "      <th>122372</th>\n",
       "      <td>122372</td>\n",
       "      <td>Argentina</td>\n",
       "      <td>Malty, earthy aromas of cassis and prune are t...</td>\n",
       "      <td>NaN</td>\n",
       "      <td>86</td>\n",
       "      <td>15.0</td>\n",
       "      <td>Mendoza Province</td>\n",
       "      <td>Mendoza</td>\n",
       "      <td>NaN</td>\n",
       "      <td>Michael Schachner</td>\n",
       "      <td>@wineschach</td>\n",
       "      <td>Bodega Familia Barberis 2010 Cabernet Sauvigno...</td>\n",
       "      <td>Cabernet Sauvignon</td>\n",
       "      <td>Bodega Familia Barberis</td>\n",
       "    </tr>\n",
       "    <tr>\n",
       "      <th>122374</th>\n",
       "      <td>122374</td>\n",
       "      <td>Argentina</td>\n",
       "      <td>This SB delivers citrus peel, grass and other ...</td>\n",
       "      <td>Ciclos Fume</td>\n",
       "      <td>86</td>\n",
       "      <td>28.0</td>\n",
       "      <td>Other</td>\n",
       "      <td>Cafayate</td>\n",
       "      <td>NaN</td>\n",
       "      <td>Michael Schachner</td>\n",
       "      <td>@wineschach</td>\n",
       "      <td>Michel Torino 2013 Ciclos Fume Sauvignon Blanc...</td>\n",
       "      <td>Sauvignon Blanc</td>\n",
       "      <td>Michel Torino</td>\n",
       "    </tr>\n",
       "    <tr>\n",
       "      <th>4814</th>\n",
       "      <td>4814</td>\n",
       "      <td>Argentina</td>\n",
       "      <td>Opens with aromas of tomato leaf, fresh salsa ...</td>\n",
       "      <td>Reserva</td>\n",
       "      <td>85</td>\n",
       "      <td>15.0</td>\n",
       "      <td>Other</td>\n",
       "      <td>Neuquén</td>\n",
       "      <td>NaN</td>\n",
       "      <td>Michael Schachner</td>\n",
       "      <td>@wineschach</td>\n",
       "      <td>Chaltén 2007 Reserva Pinot Noir (Neuquén)</td>\n",
       "      <td>Pinot Noir</td>\n",
       "      <td>Chaltén</td>\n",
       "    </tr>\n",
       "    <tr>\n",
       "      <th>4806</th>\n",
       "      <td>4806</td>\n",
       "      <td>Argentina</td>\n",
       "      <td>A heavy, dark and loud Malbec with bullish flo...</td>\n",
       "      <td>NaN</td>\n",
       "      <td>85</td>\n",
       "      <td>20.0</td>\n",
       "      <td>Mendoza Province</td>\n",
       "      <td>Uco Valley</td>\n",
       "      <td>NaN</td>\n",
       "      <td>Michael Schachner</td>\n",
       "      <td>@wineschach</td>\n",
       "      <td>DiamAndes 2010 Malbec (Uco Valley)</td>\n",
       "      <td>Malbec</td>\n",
       "      <td>DiamAndes</td>\n",
       "    </tr>\n",
       "    <tr>\n",
       "      <th>...</th>\n",
       "      <td>...</td>\n",
       "      <td>...</td>\n",
       "      <td>...</td>\n",
       "      <td>...</td>\n",
       "      <td>...</td>\n",
       "      <td>...</td>\n",
       "      <td>...</td>\n",
       "      <td>...</td>\n",
       "      <td>...</td>\n",
       "      <td>...</td>\n",
       "      <td>...</td>\n",
       "      <td>...</td>\n",
       "      <td>...</td>\n",
       "      <td>...</td>\n",
       "    </tr>\n",
       "    <tr>\n",
       "      <th>124176</th>\n",
       "      <td>124176</td>\n",
       "      <td>NaN</td>\n",
       "      <td>This Swiss red blend is composed of four varie...</td>\n",
       "      <td>Les Romaines</td>\n",
       "      <td>90</td>\n",
       "      <td>30.0</td>\n",
       "      <td>NaN</td>\n",
       "      <td>NaN</td>\n",
       "      <td>NaN</td>\n",
       "      <td>Jeff Jenssen</td>\n",
       "      <td>@worldwineguys</td>\n",
       "      <td>Les Frères Dutruy 2014 Les Romaines Red</td>\n",
       "      <td>Red Blend</td>\n",
       "      <td>Les Frères Dutruy</td>\n",
       "    </tr>\n",
       "    <tr>\n",
       "      <th>129407</th>\n",
       "      <td>129407</td>\n",
       "      <td>NaN</td>\n",
       "      <td>Dry spicy aromas of dusty plum and tomato add ...</td>\n",
       "      <td>Reserve</td>\n",
       "      <td>89</td>\n",
       "      <td>22.0</td>\n",
       "      <td>NaN</td>\n",
       "      <td>NaN</td>\n",
       "      <td>NaN</td>\n",
       "      <td>Michael Schachner</td>\n",
       "      <td>@wineschach</td>\n",
       "      <td>El Capricho 2015 Reserve Cabernet Sauvignon</td>\n",
       "      <td>Cabernet Sauvignon</td>\n",
       "      <td>El Capricho</td>\n",
       "    </tr>\n",
       "    <tr>\n",
       "      <th>129408</th>\n",
       "      <td>129408</td>\n",
       "      <td>NaN</td>\n",
       "      <td>El Capricho is one of Uruguay's more consisten...</td>\n",
       "      <td>Reserve</td>\n",
       "      <td>89</td>\n",
       "      <td>22.0</td>\n",
       "      <td>NaN</td>\n",
       "      <td>NaN</td>\n",
       "      <td>NaN</td>\n",
       "      <td>Michael Schachner</td>\n",
       "      <td>@wineschach</td>\n",
       "      <td>El Capricho 2015 Reserve Tempranillo</td>\n",
       "      <td>Tempranillo</td>\n",
       "      <td>El Capricho</td>\n",
       "    </tr>\n",
       "    <tr>\n",
       "      <th>129590</th>\n",
       "      <td>129590</td>\n",
       "      <td>NaN</td>\n",
       "      <td>A blend of 60% Syrah, 30% Cabernet Sauvignon a...</td>\n",
       "      <td>Shah</td>\n",
       "      <td>90</td>\n",
       "      <td>30.0</td>\n",
       "      <td>NaN</td>\n",
       "      <td>NaN</td>\n",
       "      <td>NaN</td>\n",
       "      <td>Mike DeSimone</td>\n",
       "      <td>@worldwineguys</td>\n",
       "      <td>Büyülübağ 2012 Shah Red</td>\n",
       "      <td>Red Blend</td>\n",
       "      <td>Büyülübağ</td>\n",
       "    </tr>\n",
       "    <tr>\n",
       "      <th>129900</th>\n",
       "      <td>129900</td>\n",
       "      <td>NaN</td>\n",
       "      <td>This wine offers a delightful bouquet of black...</td>\n",
       "      <td>NaN</td>\n",
       "      <td>91</td>\n",
       "      <td>32.0</td>\n",
       "      <td>NaN</td>\n",
       "      <td>NaN</td>\n",
       "      <td>NaN</td>\n",
       "      <td>Mike DeSimone</td>\n",
       "      <td>@worldwineguys</td>\n",
       "      <td>Psagot 2014 Merlot</td>\n",
       "      <td>Merlot</td>\n",
       "      <td>Psagot</td>\n",
       "    </tr>\n",
       "  </tbody>\n",
       "</table>\n",
       "<p>129971 rows × 14 columns</p>\n",
       "</div>"
      ],
      "text/plain": [
       "        Unnamed: 0    country  \\\n",
       "90901        90901  Argentina   \n",
       "122372      122372  Argentina   \n",
       "122374      122374  Argentina   \n",
       "4814          4814  Argentina   \n",
       "4806          4806  Argentina   \n",
       "...            ...        ...   \n",
       "124176      124176        NaN   \n",
       "129407      129407        NaN   \n",
       "129408      129408        NaN   \n",
       "129590      129590        NaN   \n",
       "129900      129900        NaN   \n",
       "\n",
       "                                              description  \\\n",
       "90901   Odd aromas of bath soap and tropical fruits ar...   \n",
       "122372  Malty, earthy aromas of cassis and prune are t...   \n",
       "122374  This SB delivers citrus peel, grass and other ...   \n",
       "4814    Opens with aromas of tomato leaf, fresh salsa ...   \n",
       "4806    A heavy, dark and loud Malbec with bullish flo...   \n",
       "...                                                   ...   \n",
       "124176  This Swiss red blend is composed of four varie...   \n",
       "129407  Dry spicy aromas of dusty plum and tomato add ...   \n",
       "129408  El Capricho is one of Uruguay's more consisten...   \n",
       "129590  A blend of 60% Syrah, 30% Cabernet Sauvignon a...   \n",
       "129900  This wine offers a delightful bouquet of black...   \n",
       "\n",
       "                       designation  points  price          province  \\\n",
       "90901   Valle Las Acequias Clase A      81    9.0  Mendoza Province   \n",
       "122372                         NaN      86   15.0  Mendoza Province   \n",
       "122374                 Ciclos Fume      86   28.0             Other   \n",
       "4814                       Reserva      85   15.0             Other   \n",
       "4806                           NaN      85   20.0  Mendoza Province   \n",
       "...                            ...     ...    ...               ...   \n",
       "124176                Les Romaines      90   30.0               NaN   \n",
       "129407                     Reserve      89   22.0               NaN   \n",
       "129408                     Reserve      89   22.0               NaN   \n",
       "129590                        Shah      90   30.0               NaN   \n",
       "129900                         NaN      91   32.0               NaN   \n",
       "\n",
       "          region_1 region_2        taster_name taster_twitter_handle  \\\n",
       "90901      Mendoza      NaN  Michael Schachner           @wineschach   \n",
       "122372     Mendoza      NaN  Michael Schachner           @wineschach   \n",
       "122374    Cafayate      NaN  Michael Schachner           @wineschach   \n",
       "4814       Neuquén      NaN  Michael Schachner           @wineschach   \n",
       "4806    Uco Valley      NaN  Michael Schachner           @wineschach   \n",
       "...            ...      ...                ...                   ...   \n",
       "124176         NaN      NaN       Jeff Jenssen        @worldwineguys   \n",
       "129407         NaN      NaN  Michael Schachner           @wineschach   \n",
       "129408         NaN      NaN  Michael Schachner           @wineschach   \n",
       "129590         NaN      NaN      Mike DeSimone        @worldwineguys   \n",
       "129900         NaN      NaN      Mike DeSimone        @worldwineguys   \n",
       "\n",
       "                                                    title             variety  \\\n",
       "90901   Luis Segundo Correas 2015 Valle Las Acequias C...          Chardonnay   \n",
       "122372  Bodega Familia Barberis 2010 Cabernet Sauvigno...  Cabernet Sauvignon   \n",
       "122374  Michel Torino 2013 Ciclos Fume Sauvignon Blanc...     Sauvignon Blanc   \n",
       "4814            Chaltén 2007 Reserva Pinot Noir (Neuquén)          Pinot Noir   \n",
       "4806                   DiamAndes 2010 Malbec (Uco Valley)              Malbec   \n",
       "...                                                   ...                 ...   \n",
       "124176            Les Frères Dutruy 2014 Les Romaines Red           Red Blend   \n",
       "129407        El Capricho 2015 Reserve Cabernet Sauvignon  Cabernet Sauvignon   \n",
       "129408               El Capricho 2015 Reserve Tempranillo         Tempranillo   \n",
       "129590                            Büyülübağ 2012 Shah Red           Red Blend   \n",
       "129900                                 Psagot 2014 Merlot              Merlot   \n",
       "\n",
       "                         winery  \n",
       "90901      Luis Segundo Correas  \n",
       "122372  Bodega Familia Barberis  \n",
       "122374            Michel Torino  \n",
       "4814                    Chaltén  \n",
       "4806                  DiamAndes  \n",
       "...                         ...  \n",
       "124176        Les Frères Dutruy  \n",
       "129407              El Capricho  \n",
       "129408              El Capricho  \n",
       "129590                Büyülübağ  \n",
       "129900                   Psagot  \n",
       "\n",
       "[129971 rows x 14 columns]"
      ]
     },
     "execution_count": 8,
     "metadata": {},
     "output_type": "execute_result"
    }
   ],
   "source": [
    "base  # Base ordenada"
   ]
  },
  {
   "cell_type": "markdown",
   "id": "4129edd2",
   "metadata": {},
   "source": [
    "Complementando, tambien se puede visualizar las columnas que conforman al dataframe"
   ]
  },
  {
   "cell_type": "code",
   "execution_count": 9,
   "id": "c4b4cc7a",
   "metadata": {},
   "outputs": [
    {
     "data": {
      "text/plain": [
       "Index(['Unnamed: 0', 'country', 'description', 'designation', 'points',\n",
       "       'price', 'province', 'region_1', 'region_2', 'taster_name',\n",
       "       'taster_twitter_handle', 'title', 'variety', 'winery'],\n",
       "      dtype='object')"
      ]
     },
     "execution_count": 9,
     "metadata": {},
     "output_type": "execute_result"
    }
   ],
   "source": [
    "base.columns"
   ]
  },
  {
   "cell_type": "markdown",
   "id": "4fd6bd72",
   "metadata": {},
   "source": [
    "A simple vista podemos apreciar que la primera columna no tiene nombre, por lo que sabemos que más adelante nos ocasionará problemas. Del mismo modo, algunos nombres de columna son muy largos o no definen correctamente los elementos de la columna. Para evitar estos problemas, se puede redefinir el nombre de las columnas"
   ]
  },
  {
   "cell_type": "markdown",
   "id": "959d710f",
   "metadata": {},
   "source": [
    "+ Cambiar nombres de columnas"
   ]
  },
  {
   "cell_type": "code",
   "execution_count": 10,
   "id": "4efff901",
   "metadata": {},
   "outputs": [],
   "source": [
    "nueva_base = base.rename(columns = {'Unnamed: 0':'Item',\n",
    "                       'taster_twitter_handle':'taster_twitter'})\n",
    "# se cambia el nombre de la primera columna debido a que no contaba con un numbre que hiciera mención al numero de elemento que es\n",
    "# se cambia el nombre de la columna 'taster_twitter_handle' ya que se considera muy largo. Se opta por acortarlo"
   ]
  },
  {
   "cell_type": "code",
   "execution_count": 11,
   "id": "0085e4a1",
   "metadata": {},
   "outputs": [
    {
     "data": {
      "text/html": [
       "<div>\n",
       "<style scoped>\n",
       "    .dataframe tbody tr th:only-of-type {\n",
       "        vertical-align: middle;\n",
       "    }\n",
       "\n",
       "    .dataframe tbody tr th {\n",
       "        vertical-align: top;\n",
       "    }\n",
       "\n",
       "    .dataframe thead th {\n",
       "        text-align: right;\n",
       "    }\n",
       "</style>\n",
       "<table border=\"1\" class=\"dataframe\">\n",
       "  <thead>\n",
       "    <tr style=\"text-align: right;\">\n",
       "      <th></th>\n",
       "      <th>Item</th>\n",
       "      <th>country</th>\n",
       "      <th>description</th>\n",
       "      <th>designation</th>\n",
       "      <th>points</th>\n",
       "      <th>price</th>\n",
       "      <th>province</th>\n",
       "      <th>region_1</th>\n",
       "      <th>region_2</th>\n",
       "      <th>taster_name</th>\n",
       "      <th>taster_twitter</th>\n",
       "      <th>title</th>\n",
       "      <th>variety</th>\n",
       "      <th>winery</th>\n",
       "    </tr>\n",
       "  </thead>\n",
       "  <tbody>\n",
       "    <tr>\n",
       "      <th>90901</th>\n",
       "      <td>90901</td>\n",
       "      <td>Argentina</td>\n",
       "      <td>Odd aromas of bath soap and tropical fruits ar...</td>\n",
       "      <td>Valle Las Acequias Clase A</td>\n",
       "      <td>81</td>\n",
       "      <td>9.0</td>\n",
       "      <td>Mendoza Province</td>\n",
       "      <td>Mendoza</td>\n",
       "      <td>NaN</td>\n",
       "      <td>Michael Schachner</td>\n",
       "      <td>@wineschach</td>\n",
       "      <td>Luis Segundo Correas 2015 Valle Las Acequias C...</td>\n",
       "      <td>Chardonnay</td>\n",
       "      <td>Luis Segundo Correas</td>\n",
       "    </tr>\n",
       "    <tr>\n",
       "      <th>122372</th>\n",
       "      <td>122372</td>\n",
       "      <td>Argentina</td>\n",
       "      <td>Malty, earthy aromas of cassis and prune are t...</td>\n",
       "      <td>NaN</td>\n",
       "      <td>86</td>\n",
       "      <td>15.0</td>\n",
       "      <td>Mendoza Province</td>\n",
       "      <td>Mendoza</td>\n",
       "      <td>NaN</td>\n",
       "      <td>Michael Schachner</td>\n",
       "      <td>@wineschach</td>\n",
       "      <td>Bodega Familia Barberis 2010 Cabernet Sauvigno...</td>\n",
       "      <td>Cabernet Sauvignon</td>\n",
       "      <td>Bodega Familia Barberis</td>\n",
       "    </tr>\n",
       "    <tr>\n",
       "      <th>122374</th>\n",
       "      <td>122374</td>\n",
       "      <td>Argentina</td>\n",
       "      <td>This SB delivers citrus peel, grass and other ...</td>\n",
       "      <td>Ciclos Fume</td>\n",
       "      <td>86</td>\n",
       "      <td>28.0</td>\n",
       "      <td>Other</td>\n",
       "      <td>Cafayate</td>\n",
       "      <td>NaN</td>\n",
       "      <td>Michael Schachner</td>\n",
       "      <td>@wineschach</td>\n",
       "      <td>Michel Torino 2013 Ciclos Fume Sauvignon Blanc...</td>\n",
       "      <td>Sauvignon Blanc</td>\n",
       "      <td>Michel Torino</td>\n",
       "    </tr>\n",
       "    <tr>\n",
       "      <th>4814</th>\n",
       "      <td>4814</td>\n",
       "      <td>Argentina</td>\n",
       "      <td>Opens with aromas of tomato leaf, fresh salsa ...</td>\n",
       "      <td>Reserva</td>\n",
       "      <td>85</td>\n",
       "      <td>15.0</td>\n",
       "      <td>Other</td>\n",
       "      <td>Neuquén</td>\n",
       "      <td>NaN</td>\n",
       "      <td>Michael Schachner</td>\n",
       "      <td>@wineschach</td>\n",
       "      <td>Chaltén 2007 Reserva Pinot Noir (Neuquén)</td>\n",
       "      <td>Pinot Noir</td>\n",
       "      <td>Chaltén</td>\n",
       "    </tr>\n",
       "    <tr>\n",
       "      <th>4806</th>\n",
       "      <td>4806</td>\n",
       "      <td>Argentina</td>\n",
       "      <td>A heavy, dark and loud Malbec with bullish flo...</td>\n",
       "      <td>NaN</td>\n",
       "      <td>85</td>\n",
       "      <td>20.0</td>\n",
       "      <td>Mendoza Province</td>\n",
       "      <td>Uco Valley</td>\n",
       "      <td>NaN</td>\n",
       "      <td>Michael Schachner</td>\n",
       "      <td>@wineschach</td>\n",
       "      <td>DiamAndes 2010 Malbec (Uco Valley)</td>\n",
       "      <td>Malbec</td>\n",
       "      <td>DiamAndes</td>\n",
       "    </tr>\n",
       "    <tr>\n",
       "      <th>...</th>\n",
       "      <td>...</td>\n",
       "      <td>...</td>\n",
       "      <td>...</td>\n",
       "      <td>...</td>\n",
       "      <td>...</td>\n",
       "      <td>...</td>\n",
       "      <td>...</td>\n",
       "      <td>...</td>\n",
       "      <td>...</td>\n",
       "      <td>...</td>\n",
       "      <td>...</td>\n",
       "      <td>...</td>\n",
       "      <td>...</td>\n",
       "      <td>...</td>\n",
       "    </tr>\n",
       "    <tr>\n",
       "      <th>124176</th>\n",
       "      <td>124176</td>\n",
       "      <td>NaN</td>\n",
       "      <td>This Swiss red blend is composed of four varie...</td>\n",
       "      <td>Les Romaines</td>\n",
       "      <td>90</td>\n",
       "      <td>30.0</td>\n",
       "      <td>NaN</td>\n",
       "      <td>NaN</td>\n",
       "      <td>NaN</td>\n",
       "      <td>Jeff Jenssen</td>\n",
       "      <td>@worldwineguys</td>\n",
       "      <td>Les Frères Dutruy 2014 Les Romaines Red</td>\n",
       "      <td>Red Blend</td>\n",
       "      <td>Les Frères Dutruy</td>\n",
       "    </tr>\n",
       "    <tr>\n",
       "      <th>129407</th>\n",
       "      <td>129407</td>\n",
       "      <td>NaN</td>\n",
       "      <td>Dry spicy aromas of dusty plum and tomato add ...</td>\n",
       "      <td>Reserve</td>\n",
       "      <td>89</td>\n",
       "      <td>22.0</td>\n",
       "      <td>NaN</td>\n",
       "      <td>NaN</td>\n",
       "      <td>NaN</td>\n",
       "      <td>Michael Schachner</td>\n",
       "      <td>@wineschach</td>\n",
       "      <td>El Capricho 2015 Reserve Cabernet Sauvignon</td>\n",
       "      <td>Cabernet Sauvignon</td>\n",
       "      <td>El Capricho</td>\n",
       "    </tr>\n",
       "    <tr>\n",
       "      <th>129408</th>\n",
       "      <td>129408</td>\n",
       "      <td>NaN</td>\n",
       "      <td>El Capricho is one of Uruguay's more consisten...</td>\n",
       "      <td>Reserve</td>\n",
       "      <td>89</td>\n",
       "      <td>22.0</td>\n",
       "      <td>NaN</td>\n",
       "      <td>NaN</td>\n",
       "      <td>NaN</td>\n",
       "      <td>Michael Schachner</td>\n",
       "      <td>@wineschach</td>\n",
       "      <td>El Capricho 2015 Reserve Tempranillo</td>\n",
       "      <td>Tempranillo</td>\n",
       "      <td>El Capricho</td>\n",
       "    </tr>\n",
       "    <tr>\n",
       "      <th>129590</th>\n",
       "      <td>129590</td>\n",
       "      <td>NaN</td>\n",
       "      <td>A blend of 60% Syrah, 30% Cabernet Sauvignon a...</td>\n",
       "      <td>Shah</td>\n",
       "      <td>90</td>\n",
       "      <td>30.0</td>\n",
       "      <td>NaN</td>\n",
       "      <td>NaN</td>\n",
       "      <td>NaN</td>\n",
       "      <td>Mike DeSimone</td>\n",
       "      <td>@worldwineguys</td>\n",
       "      <td>Büyülübağ 2012 Shah Red</td>\n",
       "      <td>Red Blend</td>\n",
       "      <td>Büyülübağ</td>\n",
       "    </tr>\n",
       "    <tr>\n",
       "      <th>129900</th>\n",
       "      <td>129900</td>\n",
       "      <td>NaN</td>\n",
       "      <td>This wine offers a delightful bouquet of black...</td>\n",
       "      <td>NaN</td>\n",
       "      <td>91</td>\n",
       "      <td>32.0</td>\n",
       "      <td>NaN</td>\n",
       "      <td>NaN</td>\n",
       "      <td>NaN</td>\n",
       "      <td>Mike DeSimone</td>\n",
       "      <td>@worldwineguys</td>\n",
       "      <td>Psagot 2014 Merlot</td>\n",
       "      <td>Merlot</td>\n",
       "      <td>Psagot</td>\n",
       "    </tr>\n",
       "  </tbody>\n",
       "</table>\n",
       "<p>129971 rows × 14 columns</p>\n",
       "</div>"
      ],
      "text/plain": [
       "          Item    country                                        description  \\\n",
       "90901    90901  Argentina  Odd aromas of bath soap and tropical fruits ar...   \n",
       "122372  122372  Argentina  Malty, earthy aromas of cassis and prune are t...   \n",
       "122374  122374  Argentina  This SB delivers citrus peel, grass and other ...   \n",
       "4814      4814  Argentina  Opens with aromas of tomato leaf, fresh salsa ...   \n",
       "4806      4806  Argentina  A heavy, dark and loud Malbec with bullish flo...   \n",
       "...        ...        ...                                                ...   \n",
       "124176  124176        NaN  This Swiss red blend is composed of four varie...   \n",
       "129407  129407        NaN  Dry spicy aromas of dusty plum and tomato add ...   \n",
       "129408  129408        NaN  El Capricho is one of Uruguay's more consisten...   \n",
       "129590  129590        NaN  A blend of 60% Syrah, 30% Cabernet Sauvignon a...   \n",
       "129900  129900        NaN  This wine offers a delightful bouquet of black...   \n",
       "\n",
       "                       designation  points  price          province  \\\n",
       "90901   Valle Las Acequias Clase A      81    9.0  Mendoza Province   \n",
       "122372                         NaN      86   15.0  Mendoza Province   \n",
       "122374                 Ciclos Fume      86   28.0             Other   \n",
       "4814                       Reserva      85   15.0             Other   \n",
       "4806                           NaN      85   20.0  Mendoza Province   \n",
       "...                            ...     ...    ...               ...   \n",
       "124176                Les Romaines      90   30.0               NaN   \n",
       "129407                     Reserve      89   22.0               NaN   \n",
       "129408                     Reserve      89   22.0               NaN   \n",
       "129590                        Shah      90   30.0               NaN   \n",
       "129900                         NaN      91   32.0               NaN   \n",
       "\n",
       "          region_1 region_2        taster_name  taster_twitter  \\\n",
       "90901      Mendoza      NaN  Michael Schachner     @wineschach   \n",
       "122372     Mendoza      NaN  Michael Schachner     @wineschach   \n",
       "122374    Cafayate      NaN  Michael Schachner     @wineschach   \n",
       "4814       Neuquén      NaN  Michael Schachner     @wineschach   \n",
       "4806    Uco Valley      NaN  Michael Schachner     @wineschach   \n",
       "...            ...      ...                ...             ...   \n",
       "124176         NaN      NaN       Jeff Jenssen  @worldwineguys   \n",
       "129407         NaN      NaN  Michael Schachner     @wineschach   \n",
       "129408         NaN      NaN  Michael Schachner     @wineschach   \n",
       "129590         NaN      NaN      Mike DeSimone  @worldwineguys   \n",
       "129900         NaN      NaN      Mike DeSimone  @worldwineguys   \n",
       "\n",
       "                                                    title             variety  \\\n",
       "90901   Luis Segundo Correas 2015 Valle Las Acequias C...          Chardonnay   \n",
       "122372  Bodega Familia Barberis 2010 Cabernet Sauvigno...  Cabernet Sauvignon   \n",
       "122374  Michel Torino 2013 Ciclos Fume Sauvignon Blanc...     Sauvignon Blanc   \n",
       "4814            Chaltén 2007 Reserva Pinot Noir (Neuquén)          Pinot Noir   \n",
       "4806                   DiamAndes 2010 Malbec (Uco Valley)              Malbec   \n",
       "...                                                   ...                 ...   \n",
       "124176            Les Frères Dutruy 2014 Les Romaines Red           Red Blend   \n",
       "129407        El Capricho 2015 Reserve Cabernet Sauvignon  Cabernet Sauvignon   \n",
       "129408               El Capricho 2015 Reserve Tempranillo         Tempranillo   \n",
       "129590                            Büyülübağ 2012 Shah Red           Red Blend   \n",
       "129900                                 Psagot 2014 Merlot              Merlot   \n",
       "\n",
       "                         winery  \n",
       "90901      Luis Segundo Correas  \n",
       "122372  Bodega Familia Barberis  \n",
       "122374            Michel Torino  \n",
       "4814                    Chaltén  \n",
       "4806                  DiamAndes  \n",
       "...                         ...  \n",
       "124176        Les Frères Dutruy  \n",
       "129407              El Capricho  \n",
       "129408              El Capricho  \n",
       "129590                Büyülübağ  \n",
       "129900                   Psagot  \n",
       "\n",
       "[129971 rows x 14 columns]"
      ]
     },
     "execution_count": 11,
     "metadata": {},
     "output_type": "execute_result"
    }
   ],
   "source": [
    "nueva_base"
   ]
  },
  {
   "cell_type": "markdown",
   "id": "1fccd87b",
   "metadata": {},
   "source": [
    "Con la última impresión, podemos notar que los nombres de las columnas se han cambiado satisfactoriamente"
   ]
  },
  {
   "cell_type": "markdown",
   "id": "bd50b206",
   "metadata": {},
   "source": [
    "Una vez que los nombres de las columnas son correctos, se puede estudiar a los elementos de las columnas"
   ]
  },
  {
   "cell_type": "markdown",
   "id": "ee5f6794",
   "metadata": {},
   "source": [
    "+ Descripción básica de columnas"
   ]
  },
  {
   "cell_type": "markdown",
   "id": "31845027",
   "metadata": {},
   "source": [
    "Tipos de datos en las columnas:"
   ]
  },
  {
   "cell_type": "code",
   "execution_count": 12,
   "id": "0ca7ed2d",
   "metadata": {},
   "outputs": [
    {
     "data": {
      "text/plain": [
       "Item                int64\n",
       "country            object\n",
       "description        object\n",
       "designation        object\n",
       "points              int64\n",
       "price             float64\n",
       "province           object\n",
       "region_1           object\n",
       "region_2           object\n",
       "taster_name        object\n",
       "taster_twitter     object\n",
       "title              object\n",
       "variety            object\n",
       "winery             object\n",
       "dtype: object"
      ]
     },
     "execution_count": 12,
     "metadata": {},
     "output_type": "execute_result"
    }
   ],
   "source": [
    "nueva_base.dtypes"
   ]
  },
  {
   "cell_type": "markdown",
   "id": "f10ca963",
   "metadata": {},
   "source": [
    "Con esta función podemos analizar los tipos de datos que hay en cada columna. Para este caso, la mayoría son de tipo object, lo cual tiene sentido debido a que los únicos datos numericos son: número de item, puntos recibidos y precio de la botella. Por lo que los tipos de datos de las columnas son correctos"
   ]
  },
  {
   "cell_type": "markdown",
   "id": "e6ebc7c3",
   "metadata": {},
   "source": [
    "Si se requiere analizar a los elementos en cuestión de una columna, podemos hacer uso de la función \"unique\", la cual nos regresa los valores únicos que existen en la columna, es decir, sin repetición"
   ]
  },
  {
   "cell_type": "code",
   "execution_count": 13,
   "id": "7eff0717",
   "metadata": {},
   "outputs": [
    {
     "data": {
      "text/plain": [
       "array(['Argentina', 'Armenia', 'Australia', 'Austria',\n",
       "       'Bosnia and Herzegovina', 'Brazil', 'Bulgaria', 'Canada', 'Chile',\n",
       "       'China', 'Croatia', 'Cyprus', 'Czech Republic', 'Egypt', 'England',\n",
       "       'France', 'Georgia', 'Germany', 'Greece', 'Hungary', 'India',\n",
       "       'Israel', 'Italy', 'Lebanon', 'Luxembourg', 'Macedonia', 'Mexico',\n",
       "       'Moldova', 'Morocco', 'New Zealand', 'Peru', 'Portugal', 'Romania',\n",
       "       'Serbia', 'Slovakia', 'Slovenia', 'South Africa', 'Spain',\n",
       "       'Switzerland', 'Turkey', 'US', 'Ukraine', 'Uruguay', nan],\n",
       "      dtype=object)"
      ]
     },
     "execution_count": 13,
     "metadata": {},
     "output_type": "execute_result"
    }
   ],
   "source": [
    "nueva_base.country.unique()"
   ]
  },
  {
   "cell_type": "markdown",
   "id": "6e4c163d",
   "metadata": {},
   "source": [
    "En este último caso apreciamos a los países que aparecen en nuestra base de datos"
   ]
  },
  {
   "cell_type": "code",
   "execution_count": 14,
   "id": "b59bb0f0",
   "metadata": {},
   "outputs": [
    {
     "data": {
      "text/plain": [
       "array([ 81,  86,  85,  84,  83,  90,  82,  87,  89,  88,  91,  80,  93,\n",
       "        92,  95,  94,  97,  96,  99,  98, 100], dtype=int64)"
      ]
     },
     "execution_count": 14,
     "metadata": {},
     "output_type": "execute_result"
    }
   ],
   "source": [
    "nueva_base.points.unique()"
   ]
  },
  {
   "cell_type": "markdown",
   "id": "53a7acb4",
   "metadata": {},
   "source": [
    "Para este caso, observamos todas las calificaciones que fueron dadas a los vinos. Sin embargo, no por conocer todas las calificaciones que se dieron sabemos a quiénes se les dio esta calificación"
   ]
  },
  {
   "cell_type": "markdown",
   "id": "e6c4138c",
   "metadata": {},
   "source": [
    "También se tiene que tener cuidado al utilizar esta operación, debido a que no todas las columnas tienen elementos repetidos. En nuestra base, la columna \"Item\" no tiene elementos repetidos, por lo que tendríamos una serie de números enlistados del 1 hasta el elemento final de la base. Por lo que se debería usar cuando queremos agrupar datos o categorizarlos; o simplemente conocer los valores con los que contamos"
   ]
  },
  {
   "cell_type": "markdown",
   "id": "29418d6e",
   "metadata": {},
   "source": [
    "Aunado a esto, es de vital importancia conocer si nuestra base cuenta con datos nulos, por lo que podemos utilizar la siguiente función:"
   ]
  },
  {
   "cell_type": "code",
   "execution_count": 15,
   "id": "eeadc9fb",
   "metadata": {},
   "outputs": [
    {
     "data": {
      "text/plain": [
       "Item              False\n",
       "country            True\n",
       "description       False\n",
       "designation        True\n",
       "points            False\n",
       "price              True\n",
       "province           True\n",
       "region_1           True\n",
       "region_2           True\n",
       "taster_name        True\n",
       "taster_twitter     True\n",
       "title             False\n",
       "variety            True\n",
       "winery            False\n",
       "dtype: bool"
      ]
     },
     "execution_count": 15,
     "metadata": {},
     "output_type": "execute_result"
    }
   ],
   "source": [
    "nueva_base.isnull().any()"
   ]
  },
  {
   "cell_type": "markdown",
   "id": "6cca7393",
   "metadata": {},
   "source": [
    "La cual nos regresa \"False\" si la columna no tiene datos nulos, caso contrario, nos regresa \"True\" si la columna cuenta con datos nulos. Podemos observar que la mayoría de las columnas tiene por lo menos un dato nulo"
   ]
  },
  {
   "cell_type": "markdown",
   "id": "f93546e2",
   "metadata": {},
   "source": [
    "Otra forma de conocer con certeza los datos nulos en la base, es con la siguiente función:"
   ]
  },
  {
   "cell_type": "code",
   "execution_count": 16,
   "id": "cb7ed594",
   "metadata": {},
   "outputs": [
    {
     "data": {
      "text/plain": [
       "Item                  0\n",
       "country              63\n",
       "description           0\n",
       "designation       37465\n",
       "points                0\n",
       "price              8996\n",
       "province             63\n",
       "region_1          21247\n",
       "region_2          79460\n",
       "taster_name       26244\n",
       "taster_twitter    31213\n",
       "title                 0\n",
       "variety               1\n",
       "winery                0\n",
       "dtype: int64"
      ]
     },
     "execution_count": 16,
     "metadata": {},
     "output_type": "execute_result"
    }
   ],
   "source": [
    "nueva_base.isnull().sum()"
   ]
  },
  {
   "cell_type": "markdown",
   "id": "4a5171ba",
   "metadata": {},
   "source": [
    "Retorna el número de datos nulos que contiene cada columna. Esto ayuda mucho al momento de tomar decisiones, ya que se podría eliminar una columna que contenga más datos nulos que elementos en sí. Aquí se deben de tomar decisiones de qué es lo que se hará con los datos nulos"
   ]
  },
  {
   "cell_type": "markdown",
   "id": "5e7f48c1",
   "metadata": {},
   "source": [
    "Una de las decisiones que se debe de tomar es el de eliminar las columnas que no se vayan a utilizar, debido a que ocupan espacio al momento de la visualización y la memoria del equipo. Por lo que nos debemos plantear la incógnita de qué columnas necesitamos verdaderamente en base a nuestros objetivos. Para recordar las columnas que tenemos, haremos lo siguiente:"
   ]
  },
  {
   "cell_type": "code",
   "execution_count": 17,
   "id": "49168e10",
   "metadata": {},
   "outputs": [
    {
     "data": {
      "text/plain": [
       "Index(['Item', 'country', 'description', 'designation', 'points', 'price',\n",
       "       'province', 'region_1', 'region_2', 'taster_name', 'taster_twitter',\n",
       "       'title', 'variety', 'winery'],\n",
       "      dtype='object')"
      ]
     },
     "execution_count": 17,
     "metadata": {},
     "output_type": "execute_result"
    }
   ],
   "source": [
    "nueva_base.columns"
   ]
  },
  {
   "cell_type": "markdown",
   "id": "b385daa5",
   "metadata": {},
   "source": [
    "Si no se sabe cuáles columnas eliminar, se puede elaborar un análisis para conocer las más importantes o vitales para la investigación. En nuestro caso, la columna \"Item\" es importante porque nos permite la correcta indexación de la base; la columna \"country\" es importante porque nos cuenta el origen del vino; la columna \"points\" nos dice la calificación del vino; la columna \"price\" nos dice el precio del vino. Podríamos afirmar que estas columnas son de vital importancia."
   ]
  },
  {
   "cell_type": "markdown",
   "id": "c4f54ea5",
   "metadata": {},
   "source": [
    "En un segundo plano podrían estar las columnas \"taster_name\" debido a que nos dicta el nombre del crítico; \"title\" ya que nos da el nombre del vino; \"description\" porque dice una descripción de cómo es el vino y sus componentes. Así que podemos eliminar las columnas que no se mencionan, debido a que no se encuentra un serio uso a estas."
   ]
  },
  {
   "cell_type": "markdown",
   "id": "6431005c",
   "metadata": {},
   "source": [
    "+ Eliminación de columnas no deseadas"
   ]
  },
  {
   "cell_type": "code",
   "execution_count": 18,
   "id": "5cd8f42f",
   "metadata": {},
   "outputs": [],
   "source": [
    "edit_base = nueva_base.drop(['designation', 'province', 'region_1', 'region_2', 'taster_twitter', 'winery'], axis=1)"
   ]
  },
  {
   "cell_type": "code",
   "execution_count": 19,
   "id": "5a8f909b",
   "metadata": {},
   "outputs": [
    {
     "data": {
      "text/html": [
       "<div>\n",
       "<style scoped>\n",
       "    .dataframe tbody tr th:only-of-type {\n",
       "        vertical-align: middle;\n",
       "    }\n",
       "\n",
       "    .dataframe tbody tr th {\n",
       "        vertical-align: top;\n",
       "    }\n",
       "\n",
       "    .dataframe thead th {\n",
       "        text-align: right;\n",
       "    }\n",
       "</style>\n",
       "<table border=\"1\" class=\"dataframe\">\n",
       "  <thead>\n",
       "    <tr style=\"text-align: right;\">\n",
       "      <th></th>\n",
       "      <th>Item</th>\n",
       "      <th>country</th>\n",
       "      <th>description</th>\n",
       "      <th>points</th>\n",
       "      <th>price</th>\n",
       "      <th>taster_name</th>\n",
       "      <th>title</th>\n",
       "      <th>variety</th>\n",
       "    </tr>\n",
       "  </thead>\n",
       "  <tbody>\n",
       "    <tr>\n",
       "      <th>90901</th>\n",
       "      <td>90901</td>\n",
       "      <td>Argentina</td>\n",
       "      <td>Odd aromas of bath soap and tropical fruits ar...</td>\n",
       "      <td>81</td>\n",
       "      <td>9.0</td>\n",
       "      <td>Michael Schachner</td>\n",
       "      <td>Luis Segundo Correas 2015 Valle Las Acequias C...</td>\n",
       "      <td>Chardonnay</td>\n",
       "    </tr>\n",
       "    <tr>\n",
       "      <th>122372</th>\n",
       "      <td>122372</td>\n",
       "      <td>Argentina</td>\n",
       "      <td>Malty, earthy aromas of cassis and prune are t...</td>\n",
       "      <td>86</td>\n",
       "      <td>15.0</td>\n",
       "      <td>Michael Schachner</td>\n",
       "      <td>Bodega Familia Barberis 2010 Cabernet Sauvigno...</td>\n",
       "      <td>Cabernet Sauvignon</td>\n",
       "    </tr>\n",
       "    <tr>\n",
       "      <th>122374</th>\n",
       "      <td>122374</td>\n",
       "      <td>Argentina</td>\n",
       "      <td>This SB delivers citrus peel, grass and other ...</td>\n",
       "      <td>86</td>\n",
       "      <td>28.0</td>\n",
       "      <td>Michael Schachner</td>\n",
       "      <td>Michel Torino 2013 Ciclos Fume Sauvignon Blanc...</td>\n",
       "      <td>Sauvignon Blanc</td>\n",
       "    </tr>\n",
       "    <tr>\n",
       "      <th>4814</th>\n",
       "      <td>4814</td>\n",
       "      <td>Argentina</td>\n",
       "      <td>Opens with aromas of tomato leaf, fresh salsa ...</td>\n",
       "      <td>85</td>\n",
       "      <td>15.0</td>\n",
       "      <td>Michael Schachner</td>\n",
       "      <td>Chaltén 2007 Reserva Pinot Noir (Neuquén)</td>\n",
       "      <td>Pinot Noir</td>\n",
       "    </tr>\n",
       "    <tr>\n",
       "      <th>4806</th>\n",
       "      <td>4806</td>\n",
       "      <td>Argentina</td>\n",
       "      <td>A heavy, dark and loud Malbec with bullish flo...</td>\n",
       "      <td>85</td>\n",
       "      <td>20.0</td>\n",
       "      <td>Michael Schachner</td>\n",
       "      <td>DiamAndes 2010 Malbec (Uco Valley)</td>\n",
       "      <td>Malbec</td>\n",
       "    </tr>\n",
       "    <tr>\n",
       "      <th>...</th>\n",
       "      <td>...</td>\n",
       "      <td>...</td>\n",
       "      <td>...</td>\n",
       "      <td>...</td>\n",
       "      <td>...</td>\n",
       "      <td>...</td>\n",
       "      <td>...</td>\n",
       "      <td>...</td>\n",
       "    </tr>\n",
       "    <tr>\n",
       "      <th>124176</th>\n",
       "      <td>124176</td>\n",
       "      <td>NaN</td>\n",
       "      <td>This Swiss red blend is composed of four varie...</td>\n",
       "      <td>90</td>\n",
       "      <td>30.0</td>\n",
       "      <td>Jeff Jenssen</td>\n",
       "      <td>Les Frères Dutruy 2014 Les Romaines Red</td>\n",
       "      <td>Red Blend</td>\n",
       "    </tr>\n",
       "    <tr>\n",
       "      <th>129407</th>\n",
       "      <td>129407</td>\n",
       "      <td>NaN</td>\n",
       "      <td>Dry spicy aromas of dusty plum and tomato add ...</td>\n",
       "      <td>89</td>\n",
       "      <td>22.0</td>\n",
       "      <td>Michael Schachner</td>\n",
       "      <td>El Capricho 2015 Reserve Cabernet Sauvignon</td>\n",
       "      <td>Cabernet Sauvignon</td>\n",
       "    </tr>\n",
       "    <tr>\n",
       "      <th>129408</th>\n",
       "      <td>129408</td>\n",
       "      <td>NaN</td>\n",
       "      <td>El Capricho is one of Uruguay's more consisten...</td>\n",
       "      <td>89</td>\n",
       "      <td>22.0</td>\n",
       "      <td>Michael Schachner</td>\n",
       "      <td>El Capricho 2015 Reserve Tempranillo</td>\n",
       "      <td>Tempranillo</td>\n",
       "    </tr>\n",
       "    <tr>\n",
       "      <th>129590</th>\n",
       "      <td>129590</td>\n",
       "      <td>NaN</td>\n",
       "      <td>A blend of 60% Syrah, 30% Cabernet Sauvignon a...</td>\n",
       "      <td>90</td>\n",
       "      <td>30.0</td>\n",
       "      <td>Mike DeSimone</td>\n",
       "      <td>Büyülübağ 2012 Shah Red</td>\n",
       "      <td>Red Blend</td>\n",
       "    </tr>\n",
       "    <tr>\n",
       "      <th>129900</th>\n",
       "      <td>129900</td>\n",
       "      <td>NaN</td>\n",
       "      <td>This wine offers a delightful bouquet of black...</td>\n",
       "      <td>91</td>\n",
       "      <td>32.0</td>\n",
       "      <td>Mike DeSimone</td>\n",
       "      <td>Psagot 2014 Merlot</td>\n",
       "      <td>Merlot</td>\n",
       "    </tr>\n",
       "  </tbody>\n",
       "</table>\n",
       "<p>129971 rows × 8 columns</p>\n",
       "</div>"
      ],
      "text/plain": [
       "          Item    country                                        description  \\\n",
       "90901    90901  Argentina  Odd aromas of bath soap and tropical fruits ar...   \n",
       "122372  122372  Argentina  Malty, earthy aromas of cassis and prune are t...   \n",
       "122374  122374  Argentina  This SB delivers citrus peel, grass and other ...   \n",
       "4814      4814  Argentina  Opens with aromas of tomato leaf, fresh salsa ...   \n",
       "4806      4806  Argentina  A heavy, dark and loud Malbec with bullish flo...   \n",
       "...        ...        ...                                                ...   \n",
       "124176  124176        NaN  This Swiss red blend is composed of four varie...   \n",
       "129407  129407        NaN  Dry spicy aromas of dusty plum and tomato add ...   \n",
       "129408  129408        NaN  El Capricho is one of Uruguay's more consisten...   \n",
       "129590  129590        NaN  A blend of 60% Syrah, 30% Cabernet Sauvignon a...   \n",
       "129900  129900        NaN  This wine offers a delightful bouquet of black...   \n",
       "\n",
       "        points  price        taster_name  \\\n",
       "90901       81    9.0  Michael Schachner   \n",
       "122372      86   15.0  Michael Schachner   \n",
       "122374      86   28.0  Michael Schachner   \n",
       "4814        85   15.0  Michael Schachner   \n",
       "4806        85   20.0  Michael Schachner   \n",
       "...        ...    ...                ...   \n",
       "124176      90   30.0       Jeff Jenssen   \n",
       "129407      89   22.0  Michael Schachner   \n",
       "129408      89   22.0  Michael Schachner   \n",
       "129590      90   30.0      Mike DeSimone   \n",
       "129900      91   32.0      Mike DeSimone   \n",
       "\n",
       "                                                    title             variety  \n",
       "90901   Luis Segundo Correas 2015 Valle Las Acequias C...          Chardonnay  \n",
       "122372  Bodega Familia Barberis 2010 Cabernet Sauvigno...  Cabernet Sauvignon  \n",
       "122374  Michel Torino 2013 Ciclos Fume Sauvignon Blanc...     Sauvignon Blanc  \n",
       "4814            Chaltén 2007 Reserva Pinot Noir (Neuquén)          Pinot Noir  \n",
       "4806                   DiamAndes 2010 Malbec (Uco Valley)              Malbec  \n",
       "...                                                   ...                 ...  \n",
       "124176            Les Frères Dutruy 2014 Les Romaines Red           Red Blend  \n",
       "129407        El Capricho 2015 Reserve Cabernet Sauvignon  Cabernet Sauvignon  \n",
       "129408               El Capricho 2015 Reserve Tempranillo         Tempranillo  \n",
       "129590                            Büyülübağ 2012 Shah Red           Red Blend  \n",
       "129900                                 Psagot 2014 Merlot              Merlot  \n",
       "\n",
       "[129971 rows x 8 columns]"
      ]
     },
     "execution_count": 19,
     "metadata": {},
     "output_type": "execute_result"
    }
   ],
   "source": [
    "edit_base"
   ]
  },
  {
   "cell_type": "markdown",
   "id": "fce878a2",
   "metadata": {},
   "source": [
    "Podemos ver que las columnas se han eliminado satisfactoriamente"
   ]
  },
  {
   "cell_type": "markdown",
   "id": "5a9ef9bd",
   "metadata": {},
   "source": [
    "Una vez que tenemos solamente las columnas que tenemos, nos preguntamos: ¿Qué haremos con los datos nulos que quedaron?. Para responder esto, hay que estudiar los datos que tenemos. De nueva cuenta veremos los datos nulos que tenemos."
   ]
  },
  {
   "cell_type": "code",
   "execution_count": 20,
   "id": "fc8c54c6",
   "metadata": {},
   "outputs": [
    {
     "data": {
      "text/plain": [
       "Item               0\n",
       "country           63\n",
       "description        0\n",
       "points             0\n",
       "price           8996\n",
       "taster_name    26244\n",
       "title              0\n",
       "variety            1\n",
       "dtype: int64"
      ]
     },
     "execution_count": 20,
     "metadata": {},
     "output_type": "execute_result"
    }
   ],
   "source": [
    "edit_base.isnull().sum()"
   ]
  },
  {
   "cell_type": "markdown",
   "id": "78445df4",
   "metadata": {},
   "source": [
    "Sin duda alguna, al enfocar nuestro trabajo en la variable \"price\", es un elemento vital. Por lo que se optará por eliminar todas las filas que en la columna \"price\" tengan un dato nulo, debido a que pueden interferir con el estudio que se desea hacer. Por obvias razones, no se les puede rellenar con 0, ya que estaríamos diciendo que el precio de la botella de vino es de cero, cuando no lo es"
   ]
  },
  {
   "cell_type": "markdown",
   "id": "2e01c39b",
   "metadata": {},
   "source": [
    "Sin duda alguna, ya que nuestro trabajo se enfoca en la variable \"price\", debemos eliminar aquellas filas cuyo valor en \"price\" sea nulo. Primero llenaremos los datos nulos con 0, para posteriormente filtrar de acuerdo a este elemento y no contemplar los items que su valor en \"price\" sea 0, ya que sabremos que proviene de un dato nulo o que, en dado caso, no puede ser posible"
   ]
  },
  {
   "cell_type": "code",
   "execution_count": 21,
   "id": "b48b0b24",
   "metadata": {},
   "outputs": [],
   "source": [
    "df = edit_base.fillna(0)"
   ]
  },
  {
   "cell_type": "code",
   "execution_count": 22,
   "id": "f343cb79",
   "metadata": {
    "scrolled": true
   },
   "outputs": [
    {
     "data": {
      "text/plain": [
       "Item           0\n",
       "country        0\n",
       "description    0\n",
       "points         0\n",
       "price          0\n",
       "taster_name    0\n",
       "title          0\n",
       "variety        0\n",
       "dtype: int64"
      ]
     },
     "execution_count": 22,
     "metadata": {},
     "output_type": "execute_result"
    }
   ],
   "source": [
    "df.isnull().sum()"
   ]
  },
  {
   "cell_type": "markdown",
   "id": "2a21cc55",
   "metadata": {},
   "source": [
    "Ya no tenemos datos nulos, han sido rellenados con cero. Procedemos a filtrar por este valor"
   ]
  },
  {
   "cell_type": "code",
   "execution_count": 23,
   "id": "4296b2f3",
   "metadata": {},
   "outputs": [],
   "source": [
    "base_resultante = df[df['price'] != 0]"
   ]
  },
  {
   "cell_type": "code",
   "execution_count": 24,
   "id": "f34f4f55",
   "metadata": {},
   "outputs": [
    {
     "data": {
      "text/plain": [
       "Item           0\n",
       "country        0\n",
       "description    0\n",
       "points         0\n",
       "price          0\n",
       "taster_name    0\n",
       "title          0\n",
       "variety        0\n",
       "dtype: int64"
      ]
     },
     "execution_count": 24,
     "metadata": {},
     "output_type": "execute_result"
    }
   ],
   "source": [
    "base_resultante.isnull().sum()"
   ]
  },
  {
   "cell_type": "markdown",
   "id": "551017aa",
   "metadata": {},
   "source": [
    "Podemos notar que al eliminar los datos nulos en la columna de precio, nos quedamos sin datos nulos en toda la demás base. Pero, ¿con cuántos elementos contamos ahora?"
   ]
  },
  {
   "cell_type": "code",
   "execution_count": 25,
   "id": "2153c0fb",
   "metadata": {},
   "outputs": [
    {
     "data": {
      "text/plain": [
       "(120975, 8)"
      ]
     },
     "execution_count": 25,
     "metadata": {},
     "output_type": "execute_result"
    }
   ],
   "source": [
    "base_resultante.shape"
   ]
  },
  {
   "cell_type": "markdown",
   "id": "94894176",
   "metadata": {},
   "source": [
    "Aún contamos con 120975 datos, los cuales son un buen número para continuar."
   ]
  },
  {
   "cell_type": "markdown",
   "id": "7cdb47f6",
   "metadata": {},
   "source": [
    "Para una mejor compresión de los datos que tenemos, podemos agrupar los datos de acuerdo a categorías. Si recordamos bien, la base tiene una columna llamada \"country\" por lo que es una buena opción agrupar los datos por país."
   ]
  },
  {
   "cell_type": "code",
   "execution_count": 26,
   "id": "e97cc744",
   "metadata": {},
   "outputs": [
    {
     "data": {
      "text/plain": [
       "array(['Argentina', 'Armenia', 'Australia', 'Austria',\n",
       "       'Bosnia and Herzegovina', 'Brazil', 'Bulgaria', 'Canada', 'Chile',\n",
       "       'China', 'Croatia', 'Cyprus', 'Czech Republic', 'England',\n",
       "       'France', 'Georgia', 'Germany', 'Greece', 'Hungary', 'India',\n",
       "       'Israel', 'Italy', 'Lebanon', 'Luxembourg', 'Macedonia', 'Mexico',\n",
       "       'Moldova', 'Morocco', 'New Zealand', 'Peru', 'Portugal', 'Romania',\n",
       "       'Serbia', 'Slovakia', 'Slovenia', 'South Africa', 'Spain',\n",
       "       'Switzerland', 'Turkey', 'US', 'Ukraine', 'Uruguay', 0],\n",
       "      dtype=object)"
      ]
     },
     "execution_count": 26,
     "metadata": {},
     "output_type": "execute_result"
    }
   ],
   "source": [
    "base_resultante.country.unique()"
   ]
  },
  {
   "cell_type": "code",
   "execution_count": 27,
   "id": "0ca9bcd4",
   "metadata": {},
   "outputs": [],
   "source": [
    "# Si agrupamos por Estados Unidos\n",
    "EUA = base_resultante[base_resultante['country']=='US']\n",
    "\n",
    "EUA.to_csv('Solo_EUA.csv', index=False, sep = ',')"
   ]
  },
  {
   "cell_type": "code",
   "execution_count": 28,
   "id": "ebc29c6a",
   "metadata": {},
   "outputs": [],
   "source": [
    "# Si agrupamos por España\n",
    "Espania = base_resultante[base_resultante['country']=='Spain']\n",
    "\n",
    "Espania.to_csv('Solo_Espania.csv', index=False, sep = ',')"
   ]
  },
  {
   "cell_type": "code",
   "execution_count": 29,
   "id": "de60d070",
   "metadata": {},
   "outputs": [],
   "source": [
    "# Si agrupamos por Italia\n",
    "Italia = base_resultante[base_resultante['country']=='Italy']\n",
    "\n",
    "Italia.to_csv('Solo_Italia.csv', index=False, sep = ',')"
   ]
  },
  {
   "cell_type": "markdown",
   "id": "df641f79",
   "metadata": {},
   "source": [
    "De esta misma manera, podríamos agrupar en base a los puntos obtenidos. Los cuales son:"
   ]
  },
  {
   "cell_type": "code",
   "execution_count": 30,
   "id": "5adeff67",
   "metadata": {},
   "outputs": [
    {
     "data": {
      "text/plain": [
       "array([ 81,  86,  85,  84,  83,  90,  82,  87,  89,  88,  91,  80,  93,\n",
       "        92,  95,  94,  97,  96,  99,  98, 100], dtype=int64)"
      ]
     },
     "execution_count": 30,
     "metadata": {},
     "output_type": "execute_result"
    }
   ],
   "source": [
    "base_resultante.points.unique()"
   ]
  },
  {
   "cell_type": "code",
   "execution_count": 31,
   "id": "d6b2b213",
   "metadata": {},
   "outputs": [],
   "source": [
    "# Agrupando por puntos obtenidos\n",
    "# Si agrupamos por España\n",
    "Vinos_100 = base_resultante[base_resultante['points']== 100]\n",
    "\n",
    "Vinos_100.to_csv('Solo_Vinos_100.csv', index=False, sep = ',')"
   ]
  },
  {
   "cell_type": "markdown",
   "id": "3500337f",
   "metadata": {},
   "source": [
    "## Preguntas de interés"
   ]
  },
  {
   "cell_type": "markdown",
   "id": "2b84e02f",
   "metadata": {},
   "source": [
    "+ ¿Para qué me puede servir estas agrupaciones para la práctica siguiente?"
   ]
  },
  {
   "cell_type": "markdown",
   "id": "8235083c",
   "metadata": {},
   "source": [
    "**R:** La categorización de los elementos nos ayuda a identificar características de ellos más fácilmente, así mismo, nos permite establecer relaciones entre los datos para poder predecir comportamientos o patrones entre ellos. También, al agrupar, podemos darnos cuenta de los datos que quedan sin agrupar, y aquí se podría tomar la decisión de incluirlos o no en nuestra investigación.  \n",
    "El equipo trabajará con una base de datos que cuenta con una columna con los nombres de los países, así que si quisieramos establecer relaciones, primero deberíamos voltear a ver a los países por separado, por lo que preveemos que las agrupaciones de datos nos serán de utilidad en nuestros futuros trabajos."
   ]
  },
  {
   "cell_type": "markdown",
   "id": "5168f6de",
   "metadata": {},
   "source": [
    "\n",
    "\n",
    "+ Importancia del análisis previo de los datos antes de iniciar las modificaciones"
   ]
  },
  {
   "cell_type": "markdown",
   "id": "c797a15c",
   "metadata": {},
   "source": [
    "**R:** Es importante analizar los datos de nuestra base antes de comenzar con las modificaciones del dataframe, debido a que debemos conocer a la perfección cómo es que están conformados; es decir, con qué variables contamos, qué tipo de datos tenemos, qué podemos hacer con los datos, entre otras preguntas que hay que contestar antes de empezar a trabajarlos. Es de vital importancia conocer nuestras limitaciones para poder enfocar nuestro tiempo en las cosas que sí podemos hacer. De la misma manera, saber cuáles son nuestras variables nos ayuda a establecer objetivos preeliminares antes de comenzar, para no empezar sin un rumbo e ir encaminados hacia algo. Es importante tener en mente lo que deseamos hacer con la base o nuestro objeto de estudio, para, de primera mano, poder descartar elementos que no nos ayudarán a alcanzar los objetivos. Conocer la naturaleza de los datos también es importante, ya que debemos considerarlos al momento de realizar las modificaciones, así que primero deberíamos saber cómo están conformados nuestros datos."
   ]
  },
  {
   "cell_type": "markdown",
   "id": "470f33a4",
   "metadata": {},
   "source": [
    "## Tareas extras:"
   ]
  },
  {
   "cell_type": "markdown",
   "id": "1828519d",
   "metadata": {},
   "source": [
    "+ Investigar los siguientes comandos: ?df.dropna() ?df.astype"
   ]
  },
  {
   "cell_type": "markdown",
   "id": "49842d17",
   "metadata": {},
   "source": [
    "**df.dropna()**\n"
   ]
  },
  {
   "cell_type": "markdown",
   "id": "0fd49087",
   "metadata": {},
   "source": [
    "Función que se utiliza para eliminar renglones y columnas que contengan elementos nulos.\n",
    "La sintaxis completa de esta función queda de la siguiente manera:  \n",
    "dataframe.dropna(axis=0, how = 'any', thresh = None, subset = None, inplace = False)  \n",
    "Donde:\n",
    "+ **axis**: Acepta los valores de 0 o 1 (dependiendo el caso). Con 0 se eliminan los renglones que contengan valores nulos; con 1, elimina las columnas que contengan valores nulos. Por default es 0.   \n",
    "+ **how**: Acepta {'any', 'all'}. Con 'any' eliminará todas las columnas (o renglones) que tengan al menos un elemento nulo. Por otro lado, 'all' eliminará las columnas (o renglones) que tengan todos sus elementos nulos. Por default es 'any'.  \n",
    "+ **thresh**: Valor entero, opcional. Se menciona al menos cuántos elementos no nulos debe tener una columna (o renglón) para mantenerse.  \n",
    "+ **subset**: Arreglo, opcional. Se mencionan las columnas (o renglones) en los cuales se desea buscar información. Si tú estás eliminando renglones, este arreglo será de nombres de columnas y viceversa.  \n",
    "+ **inplace**: booleano, default False. Si es verdadero, hace una operación en su lugar.\n",
    "\n",
    "Para mejor comprensión de la función se realizará una serie de ejemplos:"
   ]
  },
  {
   "cell_type": "code",
   "execution_count": 32,
   "id": "34f7232a",
   "metadata": {},
   "outputs": [
    {
     "data": {
      "text/html": [
       "<div>\n",
       "<style scoped>\n",
       "    .dataframe tbody tr th:only-of-type {\n",
       "        vertical-align: middle;\n",
       "    }\n",
       "\n",
       "    .dataframe tbody tr th {\n",
       "        vertical-align: top;\n",
       "    }\n",
       "\n",
       "    .dataframe thead th {\n",
       "        text-align: right;\n",
       "    }\n",
       "</style>\n",
       "<table border=\"1\" class=\"dataframe\">\n",
       "  <thead>\n",
       "    <tr style=\"text-align: right;\">\n",
       "      <th></th>\n",
       "      <th>nombre</th>\n",
       "      <th>edad</th>\n",
       "      <th>calificacion</th>\n",
       "    </tr>\n",
       "  </thead>\n",
       "  <tbody>\n",
       "    <tr>\n",
       "      <th>0</th>\n",
       "      <td>Alfonso</td>\n",
       "      <td>20.0</td>\n",
       "      <td>NaN</td>\n",
       "    </tr>\n",
       "    <tr>\n",
       "      <th>1</th>\n",
       "      <td>Angela</td>\n",
       "      <td>NaN</td>\n",
       "      <td>98.0</td>\n",
       "    </tr>\n",
       "    <tr>\n",
       "      <th>2</th>\n",
       "      <td>Jose</td>\n",
       "      <td>19.0</td>\n",
       "      <td>100.0</td>\n",
       "    </tr>\n",
       "    <tr>\n",
       "      <th>3</th>\n",
       "      <td>Isabel</td>\n",
       "      <td>20.0</td>\n",
       "      <td>99.0</td>\n",
       "    </tr>\n",
       "    <tr>\n",
       "      <th>4</th>\n",
       "      <td>Manuel</td>\n",
       "      <td>NaN</td>\n",
       "      <td>97.0</td>\n",
       "    </tr>\n",
       "  </tbody>\n",
       "</table>\n",
       "</div>"
      ],
      "text/plain": [
       "    nombre  edad  calificacion\n",
       "0  Alfonso  20.0           NaN\n",
       "1   Angela   NaN          98.0\n",
       "2     Jose  19.0         100.0\n",
       "3   Isabel  20.0          99.0\n",
       "4   Manuel   NaN          97.0"
      ]
     },
     "execution_count": 32,
     "metadata": {},
     "output_type": "execute_result"
    }
   ],
   "source": [
    "# se crea un dataframe:\n",
    "dataf = pd.DataFrame({\"nombre\": ['Alfonso', 'Angela', 'Jose', 'Isabel', 'Manuel'],\n",
    "                      \"edad\": [20, np.nan, 19, 20, np.nan],\n",
    "                      \"calificacion\": [np.nan, 98, 100, 99, 97]})\n",
    "dataf"
   ]
  },
  {
   "cell_type": "code",
   "execution_count": 33,
   "id": "2e868ff2",
   "metadata": {},
   "outputs": [
    {
     "data": {
      "text/html": [
       "<div>\n",
       "<style scoped>\n",
       "    .dataframe tbody tr th:only-of-type {\n",
       "        vertical-align: middle;\n",
       "    }\n",
       "\n",
       "    .dataframe tbody tr th {\n",
       "        vertical-align: top;\n",
       "    }\n",
       "\n",
       "    .dataframe thead th {\n",
       "        text-align: right;\n",
       "    }\n",
       "</style>\n",
       "<table border=\"1\" class=\"dataframe\">\n",
       "  <thead>\n",
       "    <tr style=\"text-align: right;\">\n",
       "      <th></th>\n",
       "      <th>nombre</th>\n",
       "      <th>edad</th>\n",
       "      <th>calificacion</th>\n",
       "    </tr>\n",
       "  </thead>\n",
       "  <tbody>\n",
       "    <tr>\n",
       "      <th>2</th>\n",
       "      <td>Jose</td>\n",
       "      <td>19.0</td>\n",
       "      <td>100.0</td>\n",
       "    </tr>\n",
       "    <tr>\n",
       "      <th>3</th>\n",
       "      <td>Isabel</td>\n",
       "      <td>20.0</td>\n",
       "      <td>99.0</td>\n",
       "    </tr>\n",
       "  </tbody>\n",
       "</table>\n",
       "</div>"
      ],
      "text/plain": [
       "   nombre  edad  calificacion\n",
       "2    Jose  19.0         100.0\n",
       "3  Isabel  20.0          99.0"
      ]
     },
     "execution_count": 33,
     "metadata": {},
     "output_type": "execute_result"
    }
   ],
   "source": [
    "# eliminar los renglones donde al menos un elemento falta\n",
    "dataf.dropna()"
   ]
  },
  {
   "cell_type": "code",
   "execution_count": 34,
   "id": "80e197df",
   "metadata": {
    "scrolled": true
   },
   "outputs": [
    {
     "data": {
      "text/html": [
       "<div>\n",
       "<style scoped>\n",
       "    .dataframe tbody tr th:only-of-type {\n",
       "        vertical-align: middle;\n",
       "    }\n",
       "\n",
       "    .dataframe tbody tr th {\n",
       "        vertical-align: top;\n",
       "    }\n",
       "\n",
       "    .dataframe thead th {\n",
       "        text-align: right;\n",
       "    }\n",
       "</style>\n",
       "<table border=\"1\" class=\"dataframe\">\n",
       "  <thead>\n",
       "    <tr style=\"text-align: right;\">\n",
       "      <th></th>\n",
       "      <th>nombre</th>\n",
       "    </tr>\n",
       "  </thead>\n",
       "  <tbody>\n",
       "    <tr>\n",
       "      <th>0</th>\n",
       "      <td>Alfonso</td>\n",
       "    </tr>\n",
       "    <tr>\n",
       "      <th>1</th>\n",
       "      <td>Angela</td>\n",
       "    </tr>\n",
       "    <tr>\n",
       "      <th>2</th>\n",
       "      <td>Jose</td>\n",
       "    </tr>\n",
       "    <tr>\n",
       "      <th>3</th>\n",
       "      <td>Isabel</td>\n",
       "    </tr>\n",
       "    <tr>\n",
       "      <th>4</th>\n",
       "      <td>Manuel</td>\n",
       "    </tr>\n",
       "  </tbody>\n",
       "</table>\n",
       "</div>"
      ],
      "text/plain": [
       "    nombre\n",
       "0  Alfonso\n",
       "1   Angela\n",
       "2     Jose\n",
       "3   Isabel\n",
       "4   Manuel"
      ]
     },
     "execution_count": 34,
     "metadata": {},
     "output_type": "execute_result"
    }
   ],
   "source": [
    "# eliminar las columnas donde al menos un elemento falta\n",
    "dataf.dropna(axis='columns')"
   ]
  },
  {
   "cell_type": "code",
   "execution_count": 35,
   "id": "6a3cabcc",
   "metadata": {},
   "outputs": [
    {
     "data": {
      "text/html": [
       "<div>\n",
       "<style scoped>\n",
       "    .dataframe tbody tr th:only-of-type {\n",
       "        vertical-align: middle;\n",
       "    }\n",
       "\n",
       "    .dataframe tbody tr th {\n",
       "        vertical-align: top;\n",
       "    }\n",
       "\n",
       "    .dataframe thead th {\n",
       "        text-align: right;\n",
       "    }\n",
       "</style>\n",
       "<table border=\"1\" class=\"dataframe\">\n",
       "  <thead>\n",
       "    <tr style=\"text-align: right;\">\n",
       "      <th></th>\n",
       "      <th>nombre</th>\n",
       "      <th>edad</th>\n",
       "      <th>calificacion</th>\n",
       "    </tr>\n",
       "  </thead>\n",
       "  <tbody>\n",
       "    <tr>\n",
       "      <th>0</th>\n",
       "      <td>Alfonso</td>\n",
       "      <td>20.0</td>\n",
       "      <td>NaN</td>\n",
       "    </tr>\n",
       "    <tr>\n",
       "      <th>1</th>\n",
       "      <td>Angela</td>\n",
       "      <td>NaN</td>\n",
       "      <td>98.0</td>\n",
       "    </tr>\n",
       "    <tr>\n",
       "      <th>2</th>\n",
       "      <td>Jose</td>\n",
       "      <td>19.0</td>\n",
       "      <td>100.0</td>\n",
       "    </tr>\n",
       "    <tr>\n",
       "      <th>3</th>\n",
       "      <td>Isabel</td>\n",
       "      <td>20.0</td>\n",
       "      <td>99.0</td>\n",
       "    </tr>\n",
       "    <tr>\n",
       "      <th>4</th>\n",
       "      <td>Manuel</td>\n",
       "      <td>NaN</td>\n",
       "      <td>97.0</td>\n",
       "    </tr>\n",
       "  </tbody>\n",
       "</table>\n",
       "</div>"
      ],
      "text/plain": [
       "    nombre  edad  calificacion\n",
       "0  Alfonso  20.0           NaN\n",
       "1   Angela   NaN          98.0\n",
       "2     Jose  19.0         100.0\n",
       "3   Isabel  20.0          99.0\n",
       "4   Manuel   NaN          97.0"
      ]
     },
     "execution_count": 35,
     "metadata": {},
     "output_type": "execute_result"
    }
   ],
   "source": [
    "# eliminar los renglones donde todos los elementos faltan\n",
    "dataf.dropna(how = 'all')"
   ]
  },
  {
   "cell_type": "code",
   "execution_count": 36,
   "id": "5dbc592f",
   "metadata": {},
   "outputs": [
    {
     "data": {
      "text/html": [
       "<div>\n",
       "<style scoped>\n",
       "    .dataframe tbody tr th:only-of-type {\n",
       "        vertical-align: middle;\n",
       "    }\n",
       "\n",
       "    .dataframe tbody tr th {\n",
       "        vertical-align: top;\n",
       "    }\n",
       "\n",
       "    .dataframe thead th {\n",
       "        text-align: right;\n",
       "    }\n",
       "</style>\n",
       "<table border=\"1\" class=\"dataframe\">\n",
       "  <thead>\n",
       "    <tr style=\"text-align: right;\">\n",
       "      <th></th>\n",
       "      <th>nombre</th>\n",
       "      <th>edad</th>\n",
       "      <th>calificacion</th>\n",
       "    </tr>\n",
       "  </thead>\n",
       "  <tbody>\n",
       "    <tr>\n",
       "      <th>0</th>\n",
       "      <td>Alfonso</td>\n",
       "      <td>20.0</td>\n",
       "      <td>NaN</td>\n",
       "    </tr>\n",
       "    <tr>\n",
       "      <th>1</th>\n",
       "      <td>Angela</td>\n",
       "      <td>NaN</td>\n",
       "      <td>98.0</td>\n",
       "    </tr>\n",
       "    <tr>\n",
       "      <th>2</th>\n",
       "      <td>Jose</td>\n",
       "      <td>19.0</td>\n",
       "      <td>100.0</td>\n",
       "    </tr>\n",
       "    <tr>\n",
       "      <th>3</th>\n",
       "      <td>Isabel</td>\n",
       "      <td>20.0</td>\n",
       "      <td>99.0</td>\n",
       "    </tr>\n",
       "    <tr>\n",
       "      <th>4</th>\n",
       "      <td>Manuel</td>\n",
       "      <td>NaN</td>\n",
       "      <td>97.0</td>\n",
       "    </tr>\n",
       "  </tbody>\n",
       "</table>\n",
       "</div>"
      ],
      "text/plain": [
       "    nombre  edad  calificacion\n",
       "0  Alfonso  20.0           NaN\n",
       "1   Angela   NaN          98.0\n",
       "2     Jose  19.0         100.0\n",
       "3   Isabel  20.0          99.0\n",
       "4   Manuel   NaN          97.0"
      ]
     },
     "execution_count": 36,
     "metadata": {},
     "output_type": "execute_result"
    }
   ],
   "source": [
    "# Quédese solo con los renglones con al menos 2 elementos no nulos\n",
    "dataf.dropna(thresh = 2)"
   ]
  },
  {
   "cell_type": "markdown",
   "id": "49a8606e",
   "metadata": {},
   "source": [
    "**Fuente consultada**: [recurso utilizado](https://pandas.pydata.org/docs/reference/api/pandas.DataFrame.dropna.html)"
   ]
  },
  {
   "cell_type": "markdown",
   "id": "ce072950",
   "metadata": {},
   "source": [
    "**df.astype()**"
   ]
  },
  {
   "cell_type": "markdown",
   "id": "dd459a0b",
   "metadata": {},
   "source": [
    "Función utilizada para cambiar el tipo de dato de las columnas, se puede cambiar una o varias a la vez (se necesita un diccionario para esto). La sintaxis completa queda de la siguiente manera:\n",
    "dataframe.astype(dtype, copy = True, errors = 'raise')  \n",
    "Donde:  \n",
    "+ **dtype**: Tipo de datos que queremos asignar a nuestro objeto.\n",
    "+ **copy**: Un parámetro booleano. Devuelve una copia cuando tenemos True.\n",
    "+ **errors**: Controla el lanzamiento de excepciones sobre datos no válidos para el tipo de datos proporcionado. Tiene dos opciones:\n",
    "     + raise: permite que se levanten las excepciones\n",
    "     + inore: suprime las excepciones. Si existe un error, entonces devuelve el objeto original.    \n",
    "     \n",
    "Para comprensión del tema, se elaborarán ejemplos sencillos del uso de la función."
   ]
  },
  {
   "cell_type": "code",
   "execution_count": 37,
   "id": "ac677ce6",
   "metadata": {},
   "outputs": [
    {
     "data": {
      "text/html": [
       "<div>\n",
       "<style scoped>\n",
       "    .dataframe tbody tr th:only-of-type {\n",
       "        vertical-align: middle;\n",
       "    }\n",
       "\n",
       "    .dataframe tbody tr th {\n",
       "        vertical-align: top;\n",
       "    }\n",
       "\n",
       "    .dataframe thead th {\n",
       "        text-align: right;\n",
       "    }\n",
       "</style>\n",
       "<table border=\"1\" class=\"dataframe\">\n",
       "  <thead>\n",
       "    <tr style=\"text-align: right;\">\n",
       "      <th></th>\n",
       "      <th>Asistencia</th>\n",
       "      <th>Nombre</th>\n",
       "      <th>Marcas obtenidas</th>\n",
       "    </tr>\n",
       "  </thead>\n",
       "  <tbody>\n",
       "    <tr>\n",
       "      <th>0</th>\n",
       "      <td>60</td>\n",
       "      <td>Olivia</td>\n",
       "      <td>90</td>\n",
       "    </tr>\n",
       "    <tr>\n",
       "      <th>1</th>\n",
       "      <td>100</td>\n",
       "      <td>John</td>\n",
       "      <td>75</td>\n",
       "    </tr>\n",
       "    <tr>\n",
       "      <th>2</th>\n",
       "      <td>80</td>\n",
       "      <td>Laura</td>\n",
       "      <td>82</td>\n",
       "    </tr>\n",
       "    <tr>\n",
       "      <th>3</th>\n",
       "      <td>78</td>\n",
       "      <td>Ben</td>\n",
       "      <td>64</td>\n",
       "    </tr>\n",
       "    <tr>\n",
       "      <th>4</th>\n",
       "      <td>95</td>\n",
       "      <td>Kevin</td>\n",
       "      <td>45</td>\n",
       "    </tr>\n",
       "  </tbody>\n",
       "</table>\n",
       "</div>"
      ],
      "text/plain": [
       "   Asistencia  Nombre  Marcas obtenidas\n",
       "0          60  Olivia                90\n",
       "1         100    John                75\n",
       "2          80   Laura                82\n",
       "3          78     Ben                64\n",
       "4          95   Kevin                45"
      ]
     },
     "execution_count": 37,
     "metadata": {},
     "output_type": "execute_result"
    }
   ],
   "source": [
    "import pandas as pd\n",
    "\n",
    "dataframe=pd.DataFrame({'Asistencia': {0: 60, 1: 100, 2: 80,3: 78,4: 95},\n",
    "                        'Nombre': {0: 'Olivia', 1: 'John', 2: 'Laura',3: 'Ben',4: 'Kevin'},\n",
    "                        'Marcas obtenidas': {0: 90, 1: 75, 2: 82, 3: 64, 4: 45}})\n",
    "\n",
    "# Vemos nuestro dataframe\n",
    "dataframe"
   ]
  },
  {
   "cell_type": "code",
   "execution_count": 38,
   "id": "c4946ea7",
   "metadata": {
    "scrolled": true
   },
   "outputs": [
    {
     "name": "stdout",
     "output_type": "stream",
     "text": [
      "Los tipos originales de los datos de nuestro data frome son: \n",
      " \n",
      "Asistencia           int64\n",
      "Nombre              object\n",
      "Marcas obtenidas     int64\n",
      "dtype: object\n"
     ]
    }
   ],
   "source": [
    "print(\"Los tipos originales de los datos de nuestro data frome son: \\n \")\n",
    "print(dataframe.dtypes)"
   ]
  },
  {
   "cell_type": "code",
   "execution_count": 39,
   "id": "ecc517fb",
   "metadata": {},
   "outputs": [
    {
     "name": "stdout",
     "output_type": "stream",
     "text": [
      "Los tipos de datos de nuestro dataframe modificado son: \n",
      "\n",
      "Asistencia           int32\n",
      "Nombre              object\n",
      "Marcas obtenidas     int64\n",
      "dtype: object\n"
     ]
    }
   ],
   "source": [
    "# Ahora utilizaremos la función para cambiar el tipo de datos de la columna de asistencia\n",
    "\n",
    "dataframe1 = dataframe.astype({'Asistencia': 'int32'})\n",
    "print(\"Los tipos de datos de nuestro dataframe modificado son: \\n\")\n",
    "print(dataframe1.dtypes)"
   ]
  },
  {
   "cell_type": "code",
   "execution_count": 40,
   "id": "19edeadb",
   "metadata": {},
   "outputs": [
    {
     "name": "stdout",
     "output_type": "stream",
     "text": [
      "Los tipos de datos de nuestro dataframe modificado completamente son: \n",
      "\n",
      "Asistencia          object\n",
      "Nombre              object\n",
      "Marcas obtenidas    object\n",
      "dtype: object\n"
     ]
    }
   ],
   "source": [
    "# Ahora se cambiarán los tipos de datos de todas las columnas del dataframe\n",
    "dataframe2 = dataframe.astype('object')\n",
    "print(\"Los tipos de datos de nuestro dataframe modificado completamente son: \\n\")\n",
    "print(dataframe2.dtypes)"
   ]
  },
  {
   "cell_type": "code",
   "execution_count": 41,
   "id": "c9a973ef",
   "metadata": {},
   "outputs": [
    {
     "name": "stdout",
     "output_type": "stream",
     "text": [
      "Los tipos de datos de nuestro dataframe modificado completamente son: \n",
      "\n",
      "Asistencia           int64\n",
      "Nombre              object\n",
      "Marcas obtenidas    object\n",
      "dtype: object\n"
     ]
    }
   ],
   "source": [
    "# Cambiaremos el tipo de datos de la columna 'Marcas obtenidas' a tipo string\n",
    "dataframe3 = dataframe.astype({'Marcas obtenidas': 'str'})\n",
    "print(\"Los tipos de datos de nuestro dataframe modificado completamente son: \\n\")\n",
    "print(dataframe3.dtypes)"
   ]
  },
  {
   "cell_type": "markdown",
   "id": "2069369f",
   "metadata": {},
   "source": [
    "**Fuente consultada:** [recurso utilizado](https://www.delftstack.com/es/api/python-pandas/pandas-dataframe-dataframe.astype-function/)"
   ]
  },
  {
   "cell_type": "markdown",
   "id": "151ced33",
   "metadata": {},
   "source": [
    "\n",
    "\n",
    "+ Realizar una tarea de preprocesamiento no mencionada en esta práctica."
   ]
  },
  {
   "cell_type": "markdown",
   "id": "58d71a01",
   "metadata": {},
   "source": [
    "## Otra función para agrupar"
   ]
  },
  {
   "cell_type": "markdown",
   "id": "c34239a5",
   "metadata": {},
   "source": [
    "Otra función que sirve para agrupar los datos que tenemos, es groupby. Groupby agrupa nuestros datos de acuerdo a las categorias que queremos. Del ejemplo anterior, pudimos notar que los paises son los que más se repiten, por lo que agrupar por país serviría para visualizar los datos de una mejor manera. Groupby se utiliza de la siguiente manera:"
   ]
  },
  {
   "cell_type": "code",
   "execution_count": 42,
   "id": "f3a95af3",
   "metadata": {},
   "outputs": [],
   "source": [
    "base_agrupada = base_resultante.groupby('country')"
   ]
  },
  {
   "cell_type": "code",
   "execution_count": 43,
   "id": "6bb7bbee",
   "metadata": {},
   "outputs": [
    {
     "name": "stdout",
     "output_type": "stream",
     "text": [
      "country\n",
      "0                         24.593220\n",
      "Argentina                 24.510117\n",
      "Armenia                   14.500000\n",
      "Australia                 35.437663\n",
      "Austria                   30.762772\n",
      "Bosnia and Herzegovina    12.500000\n",
      "Brazil                    23.765957\n",
      "Bulgaria                  14.645390\n",
      "Canada                    35.712598\n",
      "Chile                     20.786458\n",
      "China                     18.000000\n",
      "Croatia                   25.450704\n",
      "Cyprus                    16.272727\n",
      "Czech Republic            24.250000\n",
      "England                   51.681159\n",
      "France                    41.139120\n",
      "Georgia                   19.321429\n",
      "Germany                   42.257547\n",
      "Greece                    22.364425\n",
      "Hungary                   40.648276\n",
      "India                     13.333333\n",
      "Israel                    31.768916\n",
      "Italy                     39.663770\n",
      "Lebanon                   30.685714\n",
      "Luxembourg                23.333333\n",
      "Macedonia                 15.583333\n",
      "Mexico                    26.785714\n",
      "Moldova                   16.745763\n",
      "Morocco                   19.500000\n",
      "New Zealand               26.931785\n",
      "Peru                      18.062500\n",
      "Portugal                  26.218256\n",
      "Romania                   15.241667\n",
      "Serbia                    24.500000\n",
      "Slovakia                  16.000000\n",
      "Slovenia                  24.812500\n",
      "South Africa              24.668987\n",
      "Spain                     28.215275\n",
      "Switzerland               85.285714\n",
      "Turkey                    24.633333\n",
      "US                        36.573464\n",
      "Ukraine                    9.214286\n",
      "Uruguay                   26.403670\n",
      "Name: price, dtype: float64\n"
     ]
    }
   ],
   "source": [
    "print(base_agrupada['price'].mean())"
   ]
  },
  {
   "cell_type": "markdown",
   "id": "4c03064d",
   "metadata": {},
   "source": [
    "De esta manera, contabilizamos de una manera más rápida caracteristicas básicas de los elementos de nuestra base. Además de su promedio, se puede ver el valor mínimo, máximo, su desviación estandar, entre otras operaciones. Podemos notar que es una operación sencilla y eficiente"
   ]
  },
  {
   "cell_type": "code",
   "execution_count": 44,
   "id": "2a420ef2",
   "metadata": {},
   "outputs": [
    {
     "name": "stdout",
     "output_type": "stream",
     "text": [
      "country\n",
      "0                           50.0\n",
      "Argentina                  230.0\n",
      "Armenia                     15.0\n",
      "Australia                  850.0\n",
      "Austria                   1100.0\n",
      "Bosnia and Herzegovina      13.0\n",
      "Brazil                      60.0\n",
      "Bulgaria                   100.0\n",
      "Canada                     120.0\n",
      "Chile                      400.0\n",
      "China                       18.0\n",
      "Croatia                     65.0\n",
      "Cyprus                      21.0\n",
      "Czech Republic              45.0\n",
      "England                     95.0\n",
      "France                    3300.0\n",
      "Georgia                     40.0\n",
      "Germany                    775.0\n",
      "Greece                      79.0\n",
      "Hungary                    764.0\n",
      "India                       20.0\n",
      "Israel                     150.0\n",
      "Italy                      900.0\n",
      "Lebanon                     75.0\n",
      "Luxembourg                  30.0\n",
      "Macedonia                   20.0\n",
      "Mexico                     108.0\n",
      "Moldova                     42.0\n",
      "Morocco                     40.0\n",
      "New Zealand                130.0\n",
      "Peru                        68.0\n",
      "Portugal                  1000.0\n",
      "Romania                    320.0\n",
      "Serbia                      42.0\n",
      "Slovakia                    16.0\n",
      "Slovenia                    90.0\n",
      "South Africa               330.0\n",
      "Spain                      770.0\n",
      "Switzerland                160.0\n",
      "Turkey                     120.0\n",
      "US                        2013.0\n",
      "Ukraine                     13.0\n",
      "Uruguay                    130.0\n",
      "Name: price, dtype: float64\n"
     ]
    }
   ],
   "source": [
    "print(base_agrupada['price'].max())"
   ]
  },
  {
   "cell_type": "code",
   "execution_count": 45,
   "id": "5ea3610c",
   "metadata": {},
   "outputs": [
    {
     "name": "stdout",
     "output_type": "stream",
     "text": [
      "country\n",
      "0                          6.0\n",
      "Argentina                  4.0\n",
      "Armenia                   14.0\n",
      "Australia                  5.0\n",
      "Austria                    7.0\n",
      "Bosnia and Herzegovina    12.0\n",
      "Brazil                    10.0\n",
      "Bulgaria                   8.0\n",
      "Canada                    12.0\n",
      "Chile                      5.0\n",
      "China                     18.0\n",
      "Croatia                   12.0\n",
      "Cyprus                    11.0\n",
      "Czech Republic            15.0\n",
      "England                   25.0\n",
      "France                     5.0\n",
      "Georgia                    9.0\n",
      "Germany                    5.0\n",
      "Greece                     8.0\n",
      "Hungary                   10.0\n",
      "India                     10.0\n",
      "Israel                     8.0\n",
      "Italy                      5.0\n",
      "Lebanon                   13.0\n",
      "Luxembourg                16.0\n",
      "Macedonia                 15.0\n",
      "Mexico                     8.0\n",
      "Moldova                    8.0\n",
      "Morocco                   14.0\n",
      "New Zealand                7.0\n",
      "Peru                      10.0\n",
      "Portugal                   5.0\n",
      "Romania                    4.0\n",
      "Serbia                    15.0\n",
      "Slovakia                  16.0\n",
      "Slovenia                   7.0\n",
      "South Africa               5.0\n",
      "Spain                      4.0\n",
      "Switzerland               21.0\n",
      "Turkey                    14.0\n",
      "US                         4.0\n",
      "Ukraine                    6.0\n",
      "Uruguay                   10.0\n",
      "Name: price, dtype: float64\n"
     ]
    }
   ],
   "source": [
    "print(base_agrupada['price'].min())"
   ]
  }
 ],
 "metadata": {
  "kernelspec": {
   "display_name": "Python 3",
   "language": "python",
   "name": "python3"
  },
  "language_info": {
   "codemirror_mode": {
    "name": "ipython",
    "version": 3
   },
   "file_extension": ".py",
   "mimetype": "text/x-python",
   "name": "python",
   "nbconvert_exporter": "python",
   "pygments_lexer": "ipython3",
   "version": "3.8.8"
  }
 },
 "nbformat": 4,
 "nbformat_minor": 5
}
