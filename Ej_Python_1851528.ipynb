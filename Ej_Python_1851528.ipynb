{
 "cells": [
  {
   "cell_type": "markdown",
   "id": "5095cccb",
   "metadata": {},
   "source": [
    "#### Ejercicio 1\n",
    "\n",
    "Realiza una variable con tu matricula y realiza una secuencia de imprimir con tu nombre y tu matricula concatenados."
   ]
  },
  {
   "cell_type": "code",
   "execution_count": 2,
   "id": "aaebc3d0",
   "metadata": {
    "collapsed": true
   },
   "outputs": [
    {
     "name": "stdout",
     "output_type": "stream",
     "text": [
      "Jose Manuel Romero Banda con matricula 1851528\n"
     ]
    }
   ],
   "source": [
    "matricula = 1851528\n",
    "print(\"Jose Manuel Romero Banda con matricula\",matricula)"
   ]
  },
  {
   "cell_type": "markdown",
   "id": "8a61f8ca",
   "metadata": {},
   "source": [
    "#### Ejercicio 2\n",
    "\n",
    "Pidiendo el input del usuario pide dos números y crea una pequeña calculadora con los operadores básicos de suma, resta, multiplicación, división, y exponente."
   ]
  },
  {
   "cell_type": "code",
   "execution_count": 26,
   "id": "079f7747",
   "metadata": {
    "collapsed": true
   },
   "outputs": [
    {
     "name": "stdout",
     "output_type": "stream",
     "text": [
      "Escoge una opción de la calculadora:\n",
      "a)Suma\n",
      "b)Resta\n",
      "c)Multiplicación\n",
      "d)División\n",
      "e)Exponente\n",
      "Opción e\n",
      "Ingrese primer número 5\n",
      "Ingrese segundo número 5\n",
      "El resultado de la operación es: 3125\n"
     ]
    }
   ],
   "source": [
    "print(\"Escoge una opción de la calculadora:\"\n",
    "      \"\\na)Suma\"\n",
    "      \"\\nb)Resta\"\n",
    "      \"\\nc)Multiplicación\"\n",
    "      \"\\nd)División\"\n",
    "      \"\\ne)Exponente\")\n",
    "opcion=str(input(\"Opción: \"))\n",
    "if opcion==\"a\":\n",
    "    pri=int(input(\"Ingrese primer número: \"))\n",
    "    seg=int(input(\"Ingrese segundo número: \"))\n",
    "    res=pri+seg\n",
    "    print(\"El resultado de la operación es:\",res)\n",
    "elif opcion==\"b\":\n",
    "    pri=int(input(\"Ingrese primer número: \"))\n",
    "    seg=int(input(\"Ingrese segundo número: \"))\n",
    "    res=pri-seg\n",
    "    print(\"El resultado de la operación es:\",res)\n",
    "elif opcion==\"c\":\n",
    "    pri=int(input(\"Ingrese primer número: \"))\n",
    "    seg=int(input(\"Ingrese segundo número: \"))\n",
    "    res=pri*seg\n",
    "    print(\"El resultado de la operación es:\",res)\n",
    "elif opcion==\"d\":\n",
    "    pri=int(input(\"Ingrese número del dividendo: \"))\n",
    "    seg=int(input(\"Ingrese número del divisor: \"))\n",
    "    res=pri/seg\n",
    "    print(\"El resultado de la operación es:\",res)\n",
    "elif opcion==\"e\":\n",
    "    pri=int(input(\"Ingrese número base: \"))\n",
    "    seg=int(input(\"Ingrese número de exponente: \"))\n",
    "    res=pri**seg\n",
    "    print(\"El resultado de la operación es:\",res)\n",
    "else:\n",
    "    print(\"La opción introducida es erronea!!\")"
   ]
  },
  {
   "cell_type": "markdown",
   "id": "389cbae1",
   "metadata": {},
   "source": [
    "#### Ejercicio 3\n",
    "\n",
    "Con loop while o for, realiza una lista de 10 numeros multiplos de 3, y después realiza una función de loop que sume todos los números dentro del arreglo."
   ]
  },
  {
   "cell_type": "code",
   "execution_count": 74,
   "id": "a9d3e26d",
   "metadata": {
    "collapsed": true
   },
   "outputs": [
    {
     "name": "stdout",
     "output_type": "stream",
     "text": [
      "Ingrese un numero multiplo de 3: 3\n",
      "Ingrese un numero multiplo de 3: 6\n",
      "Ingrese un numero multiplo de 3: 9\n",
      "Ingrese un numero multiplo de 3: 12\n",
      "Ingrese un numero multiplo de 3: 15\n",
      "Ingrese un numero multiplo de 3: 18\n",
      "Ingrese un numero multiplo de 3: 21\n",
      "Ingrese un numero multiplo de 3: 24\n",
      "Ingrese un numero multiplo de 3: 30\n",
      "Ingrese un numero multiplo de 3: 33\n",
      "El resultado de la suma de todos los numeros introducidos es: 171\n"
     ]
    }
   ],
   "source": [
    "lista=[0,0,0,0,0,0,0,0,0,0]\n",
    "comprobacion=[0,0,0,0,0,0,0,0,0,0]\n",
    "for i in range(0,10):\n",
    "    lista[i]=int(input(\"Ingrese un numero multiplo de 3: \"))\n",
    "    comprobacion[i]=lista[i]%3\n",
    "num_comp=0\n",
    "for i in range(0,10):\n",
    "    if comprobacion[i]!=0:\n",
    "        print(\"ERROR, el numero %d ingresado no es multiplo de 3\"%(lista[i]))\n",
    "        num_comp=1\n",
    "if num_comp==1:\n",
    "    print(\"Intente de nuevo\")\n",
    "else:\n",
    "    suma=0\n",
    "    for i in range(0,10):\n",
    "        suma=suma+lista[i]\n",
    "    print(\"El resultado de la suma de todos los numeros introducidos es:\",suma)"
   ]
  },
  {
   "cell_type": "markdown",
   "id": "8cd7423e",
   "metadata": {},
   "source": [
    "#### Ejercicio 4\n",
    "\n",
    "* Con una función de if else, revisar si un número es par o es impar.  \n",
    "* Con una función de if else, revisar si un número es primo o no."
   ]
  },
  {
   "cell_type": "code",
   "execution_count": 78,
   "id": "f3ee211b",
   "metadata": {
    "collapsed": true
   },
   "outputs": [
    {
     "name": "stdout",
     "output_type": "stream",
     "text": [
      "Introduzca un numero cualquiera: 90\n",
      "El numero 90 es par\n"
     ]
    }
   ],
   "source": [
    "# Revisando si un numero es par o impar\n",
    "num=int(input(\"Introduzca un numero cualquiera: \"))\n",
    "compro=num%2\n",
    "if compro==0:\n",
    "    print(\"El numero %d es par\"%(num))\n",
    "else:\n",
    "    print(\"El numero %d es impar\"%(num))"
   ]
  },
  {
   "cell_type": "code",
   "execution_count": 104,
   "id": "043542a3",
   "metadata": {
    "collapsed": true
   },
   "outputs": [
    {
     "name": "stdout",
     "output_type": "stream",
     "text": [
      "Introduzca un numero cualquiera: 409\n",
      "El número 409 es primo\n"
     ]
    }
   ],
   "source": [
    "# Revisando si un numero es primo o no\n",
    "num=int(input(\"Introduzca un numero cualquiera: \"))\n",
    "j=0\n",
    "for i in range(2,(num+1)):   # Comenzamos en 2 porque todos sabemos que cualquier numero se puede dividir entre 1 \n",
    "    comp=num%i\n",
    "    if comp==0:\n",
    "        j=j+1\n",
    "if j==1:\n",
    "    print(\"El número %d es primo\"%(num))\n",
    "else: \n",
    "    print(\"El número %d no es primo\"%(num))"
   ]
  },
  {
   "cell_type": "markdown",
   "id": "daa7702b",
   "metadata": {},
   "source": [
    "#### Ejercicio 5\n",
    "\n",
    "Utilizando diferentes clases en python, crea una calculadora con los operadores básicos de suma, resta, multiplicación, división, y exponente."
   ]
  },
  {
   "cell_type": "code",
   "execution_count": 125,
   "id": "ac982a37",
   "metadata": {
    "collapsed": true
   },
   "outputs": [
    {
     "name": "stdout",
     "output_type": "stream",
     "text": [
      "Escoge una opción de la calculadora:\n",
      "a)Suma\n",
      "b)Resta\n",
      "c)Multiplicación\n",
      "d)División\n",
      "e)Exponente\n",
      "Opción d\n",
      "Ingrese número del dividendo: 10000\n",
      "Ingrese número del divisor: 5\n",
      "El resultado de la operación es: 2000.0\n"
     ]
    }
   ],
   "source": [
    "import math as m\n",
    "print(\"Escoge una opción de la calculadora:\"\n",
    "      \"\\na)Suma\"\n",
    "      \"\\nb)Resta\"\n",
    "      \"\\nc)Multiplicación\"\n",
    "      \"\\nd)División\"\n",
    "      \"\\ne)Exponente\")\n",
    "opcion=str(input(\"Opción \"))\n",
    "if opcion==\"a\":\n",
    "    pri=int(input(\"Ingrese primer número: \"))\n",
    "    seg=int(input(\"Ingrese segundo número: \"))\n",
    "    res=m.fsum([pri,seg])\n",
    "    print(\"El resultado de la operación es:\",res)\n",
    "elif opcion==\"b\":\n",
    "    pri=int(input(\"Ingrese primer número: \"))\n",
    "    seg=int(input(\"Ingrese segundo número: \"))\n",
    "    segundo=seg*-1\n",
    "    res=m.fsum([pri,segundo])\n",
    "    print(\"El resultado de la operación es:\",res)\n",
    "elif opcion==\"c\":\n",
    "    pri=int(input(\"Ingrese primer número: \"))\n",
    "    seg=int(input(\"Ingrese segundo número: \"))\n",
    "    res=m.prod([pri,seg])\n",
    "    print(\"El resultado de la operación es:\",res)\n",
    "elif opcion==\"d\":\n",
    "    pri=int(input(\"Ingrese número del dividendo: \"))\n",
    "    seg=int(input(\"Ingrese número del divisor: \"))\n",
    "    segundo=seg**-1\n",
    "    res=m.prod([pri,segundo])\n",
    "    print(\"El resultado de la operación es:\",res)\n",
    "elif opcion==\"e\":\n",
    "    pri=int(input(\"Ingrese número base: \"))\n",
    "    seg=int(input(\"Ingrese número de exponente: \"))\n",
    "    res=m.pow(pri,seg)\n",
    "    print(\"El resultado de la operación es:\",res)\n",
    "else:\n",
    "    print(\"La opción introducida es erronea!!\")"
   ]
  },
  {
   "cell_type": "markdown",
   "id": "aeea6dbd",
   "metadata": {},
   "source": [
    "### Ejercicios con estructuras básicas de python"
   ]
  },
  {
   "cell_type": "markdown",
   "id": "12dcc489",
   "metadata": {},
   "source": [
    "#### Tuplas\n",
    "\n",
    "* Crear una variable flotante, integer, boleana y compleja e imprimir el tipo de variable que es.  \n",
    "* Crear una tupla con valores enteros imprimir el primer y ultimo valor.  \n",
    "* Añadir 3 valores de string a la tupla.  \n",
    "* Verificar si una variable existe dentro de la tupla."
   ]
  },
  {
   "cell_type": "code",
   "execution_count": 47,
   "id": "a807ee1d",
   "metadata": {
    "collapsed": true
   },
   "outputs": [
    {
     "name": "stdout",
     "output_type": "stream",
     "text": [
      "El dato 3.141592 pertenece al tipo: <class 'float'>\n",
      "El dato 21 pertenece al tipo: <class 'int'>\n",
      "El dato True pertenece al tipo: <class 'bool'>\n",
      "El dato (1+6j) pertenece al tipo: <class 'complex'>\n"
     ]
    }
   ],
   "source": [
    "# Crear variables\n",
    "flotante=3.141592\n",
    "print('El dato %f pertenece al tipo:'%flotante,type(flotante))\n",
    "integer=21\n",
    "print('El dato %d pertenece al tipo:'%integer,type(integer))\n",
    "boleana=True\n",
    "print('El dato %s pertenece al tipo:'%boleana,type(boleana))\n",
    "compleja=1+6j\n",
    "print('El dato %s pertenece al tipo:'%compleja,type(compleja))"
   ]
  },
  {
   "cell_type": "code",
   "execution_count": 70,
   "id": "f69b6818",
   "metadata": {
    "collapsed": true
   },
   "outputs": [
    {
     "name": "stdout",
     "output_type": "stream",
     "text": [
      "Primer elemento de la tupla: 12\n",
      "Ultimo elemento de la tupla: 46\n"
     ]
    }
   ],
   "source": [
    "# Crear tupla\n",
    "tupla=(12,54,998,45,46)\n",
    "print(\"Primer elemento de la tupla:\",tupla[0])\n",
    "print(\"Ultimo elemento de la tupla:\",tupla[-1])"
   ]
  },
  {
   "cell_type": "code",
   "execution_count": 71,
   "id": "5acbf346",
   "metadata": {
    "collapsed": true
   },
   "outputs": [
    {
     "name": "stdout",
     "output_type": "stream",
     "text": [
      "Tupla nueva:  (12, 54, 998, 45, 46, 'Hola', 'Mundo', 'De nuevo')\n"
     ]
    }
   ],
   "source": [
    "# Añadir valores string\n",
    "tupla = tupla.__add__(('Hola','Mundo','De nuevo'))\n",
    "print(\"Tupla nueva: \", tupla)"
   ]
  },
  {
   "cell_type": "code",
   "execution_count": 73,
   "id": "10b09c16",
   "metadata": {
    "collapsed": true
   },
   "outputs": [
    {
     "name": "stdout",
     "output_type": "stream",
     "text": [
      "La variable existe dentro del tupla\n",
      "La variable no existe dentro del tupla\n"
     ]
    }
   ],
   "source": [
    "# Verificar si eiste una variable en tupla\n",
    "varia='De nuevo'\n",
    "if varia in tupla:\n",
    "    print(\"La variable existe dentro del tupla\")\n",
    "else:\n",
    "    print(\"La variable no existe dentro del tupla\")\n",
    "\n",
    "varia='Monterrey loko'\n",
    "if varia in tupla:\n",
    "    print(\"La variable existe dentro del tupla\")\n",
    "else:\n",
    "    print(\"La variable no existe dentro del tupla\")"
   ]
  },
  {
   "cell_type": "markdown",
   "id": "77e04d6c",
   "metadata": {},
   "source": [
    "#### Listas\n",
    "\n",
    "* Crear una lista con 40 elementos aleatorios enteros.  \n",
    "* Con una funcion (def) crear dos listas nuevas a partir de la lista creada por numeros aleatorios, en la cual en una esten los elementos pares, y en la otra los elementos impares.  \n",
    "* Crear dos variables con la longitud de ambas listas nuevas e imprimir las variables.  \n",
    "* Ordenar los elementos de la lista par de mayor a menor, y los de la lista impar de menor a mayor.  \n",
    "* Utilizar al menos cuatro de las funciones de listas en python en la lista original de 40 elementos."
   ]
  },
  {
   "cell_type": "code",
   "execution_count": 177,
   "id": "7fa670ec",
   "metadata": {
    "collapsed": true
   },
   "outputs": [
    {
     "name": "stdout",
     "output_type": "stream",
     "text": [
      "[11, 72, 20, 100, 100, 43, 19, 1, 35, 23, 70, 11, 47, 38, 37, 1, 36, 83, 53, 37, 36, 47, 84, 53, 4, 12, 77, 64, 63, 46, 43, 25, 56, 37, 4, 48, 37, 2, 32, 36]\n"
     ]
    }
   ],
   "source": [
    "# Lista con 40 elementos aleatorios\n",
    "import random as r\n",
    "Lista=[0]*40\n",
    "for i in range(0,40):\n",
    "    Lista[i]=r.randint(1, 100)\n",
    "print(Lista)"
   ]
  },
  {
   "cell_type": "code",
   "execution_count": 179,
   "id": "907e07e3",
   "metadata": {
    "collapsed": true
   },
   "outputs": [
    {
     "name": "stdout",
     "output_type": "stream",
     "text": [
      "Lista con elementos pares: \n",
      "[72, 20, 100, 100, 70, 38, 36, 36, 84, 4, 12, 64, 46, 56, 4, 48, 2, 32, 36]\n",
      "Lista con elementos impares: \n",
      "[11, 43, 19, 1, 35, 23, 11, 47, 37, 1, 83, 53, 37, 47, 53, 77, 63, 43, 25, 37, 37]\n"
     ]
    }
   ],
   "source": [
    "# Funcion para distinguir entre elementos pares o impares\n",
    "def SepLis(a):\n",
    "    Lista1=[]      # Al escoger una lista con 10 datos es solo por el ejemplo\n",
    "    Lista2=[]\n",
    "    i=0\n",
    "    for i in range(0,40):\n",
    "        comp=a[i]%2\n",
    "        if comp==0:\n",
    "            Lista1.append(a[i]) \n",
    "        else:\n",
    "            Lista2.append(a[i]) \n",
    "    return Lista1,Lista2  \n",
    " \n",
    "(ListaPar,ListaImpar)=SepLis(Lista)\n",
    "print(\"Lista con elementos pares: \")\n",
    "print(ListaPar)\n",
    "print(\"Lista con elementos impares: \")\n",
    "print(ListaImpar)"
   ]
  },
  {
   "cell_type": "code",
   "execution_count": 183,
   "id": "7adabce0",
   "metadata": {
    "collapsed": true
   },
   "outputs": [
    {
     "name": "stdout",
     "output_type": "stream",
     "text": [
      "La cantidad de datos de la lista par es de:  19\n",
      "La cantidad de datos de la lista impar es de:  21\n"
     ]
    }
   ],
   "source": [
    "# Longitud de ambas listas\n",
    "Long_Lis1=len(ListaPar)\n",
    "Long_Lis2=len(ListaImpar)\n",
    "print(\"La cantidad de datos de la lista par es de: \",Long_Lis1)\n",
    "print(\"La cantidad de datos de la lista impar es de: \",Long_Lis2)"
   ]
  },
  {
   "cell_type": "code",
   "execution_count": 185,
   "id": "b195a002",
   "metadata": {
    "collapsed": true
   },
   "outputs": [
    {
     "name": "stdout",
     "output_type": "stream",
     "text": [
      "[100, 100, 84, 72, 70, 64, 56, 48, 46, 38, 36, 36, 36, 32, 20, 12, 4, 4, 2]\n",
      "[1, 1, 11, 11, 19, 23, 25, 35, 37, 37, 37, 37, 43, 43, 47, 47, 53, 53, 63, 77, 83]\n"
     ]
    }
   ],
   "source": [
    "# Ordenas los elementos\n",
    "ListaPar.sort(reverse = True)\n",
    "print(ListaPar)\n",
    "ListaImpar.sort()\n",
    "print(ListaImpar)"
   ]
  },
  {
   "cell_type": "code",
   "execution_count": 216,
   "id": "d6c147cb",
   "metadata": {
    "collapsed": true
   },
   "outputs": [
    {
     "name": "stdout",
     "output_type": "stream",
     "text": [
      "['Hola', 'Hola', 'Hola', 11, 72, 20, 100, 100, 43, 19, 1, 35, 23, 70, 11, 47, 38, 37, 1, 36, 83, 53, 37, 36, 47, 84, 53, 4, 12, 77, 64, 63, 46, 43, 25, 56, 37, 4, 48, 37, 2, 32, 36]\n",
      "['Hola', 11, 72, 20, 100, 100, 43, 19, 1, 35, 23, 70, 11, 47, 38, 37, 1, 36, 83, 53, 37, 36, 47, 84, 53, 4, 12, 77, 64, 63, 46, 43, 25, 56, 37, 4, 48, 37, 2, 32, 36]\n",
      "4\n",
      "[36, 32, 2, 37, 48, 4, 37, 56, 25, 43, 46, 63, 64, 77, 12, 4, 53, 84, 47, 36, 37, 53, 83, 36, 1, 37, 38, 47, 11, 70, 23, 35, 1, 19, 43, 100, 100, 20, 72, 11, 'Hola']\n"
     ]
    }
   ],
   "source": [
    "# Funciones en listas de python\n",
    "\n",
    "# Primera funcion\n",
    "Lista.insert(0,\"Hola\")\n",
    "print(Lista)             # Por error se pico mas de las necesarias, sin embargo funcionara como excusa para la sig. funcion\n",
    "\n",
    "# Segunda funcion\n",
    "Lista.pop(0)             # Funcion para eliminar dato segun posicion\n",
    "Lista.pop(1)\n",
    "print(Lista)\n",
    "\n",
    "# Tercera funcion\n",
    "Lista.index(100)         # Podemos observar que te regresa la posicion del primer elemento que encuentre\n",
    "print(Lista.index(100))\n",
    "\n",
    "# Cuarta funcion\n",
    "Lista.reverse()          # Invierte el orden de una lista\n",
    "print(Lista)"
   ]
  },
  {
   "cell_type": "markdown",
   "id": "3d18201a",
   "metadata": {},
   "source": [
    "#### Diccionarios\n",
    "\n",
    "* Crear un diccionario de 6 personas que conozcas con su primer nombre y su edad.  \n",
    "* Crear una lista con los valores de la edad y reacomodar la lista de menor a mayor valor.  \n",
    "* Usando el diccionario y un loop, imprimir solo los nombres.  \n",
    "* Añadir dos personas nuevas a tu diccionario, incluyendo edad."
   ]
  },
  {
   "cell_type": "code",
   "execution_count": 22,
   "id": "c32e83b1",
   "metadata": {
    "collapsed": true
   },
   "outputs": [
    {
     "data": {
      "text/plain": [
       "{'Nombre': ['Jose', 'Diana', 'Susana', 'Kevin', 'Zuria', 'Isabel'],\n",
       " 'Edad': [19, 20, 19, 17, 11, 20]}"
      ]
     },
     "execution_count": 22,
     "metadata": {},
     "output_type": "execute_result"
    }
   ],
   "source": [
    "# Creando diccionario\n",
    "Dic={'Nombre':['Jose','Diana','Susana','Kevin','Zuria','Isabel'],\n",
    "     'Edad':[19,20,19,17,11,20]}\n",
    "Dic"
   ]
  },
  {
   "cell_type": "code",
   "execution_count": 7,
   "id": "1717813e",
   "metadata": {
    "collapsed": true
   },
   "outputs": [
    {
     "name": "stdout",
     "output_type": "stream",
     "text": [
      "['11', '17', '19', '19', '20', '20']\n"
     ]
    }
   ],
   "source": [
    "# Creando Lista\n",
    "Lista=Dic['Edad']\n",
    "Lista.sort()\n",
    "print(Lista)"
   ]
  },
  {
   "cell_type": "code",
   "execution_count": 23,
   "id": "d4aef871",
   "metadata": {
    "collapsed": true
   },
   "outputs": [
    {
     "name": "stdout",
     "output_type": "stream",
     "text": [
      "Nombre:  Jose\n",
      "Nombre:  Diana\n",
      "Nombre:  Susana\n",
      "Nombre:  Kevin\n",
      "Nombre:  Zuria\n",
      "Nombre:  Isabel\n"
     ]
    }
   ],
   "source": [
    "# Imprimir solo nombres\n",
    "for i in range(0,6):\n",
    "    print(\"Nombre: \",Dic['Nombre'][i])"
   ]
  },
  {
   "cell_type": "code",
   "execution_count": 21,
   "id": "299fe89c",
   "metadata": {
    "collapsed": true
   },
   "outputs": [
    {
     "data": {
      "text/plain": [
       "{'Nombre': ['Karla',\n",
       "  'Brandon',\n",
       "  'Jose',\n",
       "  'Diana',\n",
       "  'Susana',\n",
       "  'Kevin',\n",
       "  'Zuria',\n",
       "  'Isabel'],\n",
       " 'Edad': [18, 22, 19, 20, 19, 17, 11, 20]}"
      ]
     },
     "execution_count": 21,
     "metadata": {},
     "output_type": "execute_result"
    }
   ],
   "source": [
    "# Añadir dos personas\n",
    "Dic['Nombre'].insert(0,'Karla')\n",
    "Dic['Edad'].insert(0,18)\n",
    "Dic['Nombre'].insert(1,'Brandon')\n",
    "Dic['Edad'].insert(1,22)\n",
    "Dic"
   ]
  },
  {
   "cell_type": "markdown",
   "id": "8a9c968a",
   "metadata": {},
   "source": [
    "#### Sets\n",
    "\n",
    "* Crea un set con 100 numeros aleatorios enteros del 1 al 25.  \n",
    "* Comprueba la longitud de tu set.  \n",
    "* Crea una lista de 5 numeros aleatorios del 1 al 10 y comprueba si cada valor aparece en el set inicial."
   ]
  },
  {
   "cell_type": "code",
   "execution_count": 14,
   "id": "ab9a7cab",
   "metadata": {},
   "outputs": [
    {
     "name": "stdout",
     "output_type": "stream",
     "text": [
      "{1, 2, 3, 4, 5, 6, 7, 8, 10, 11, 12, 13, 14, 15, 16, 17, 18, 19, 20, 21, 22, 23, 24, 25}\n"
     ]
    }
   ],
   "source": [
    "# Creando un sets\n",
    "import random as r\n",
    "set2 = set()\n",
    "i=0\n",
    "for i in range(0,100):\n",
    "    set2.add(r.randint(1, 25))\n",
    "print(set2)"
   ]
  },
  {
   "cell_type": "code",
   "execution_count": 15,
   "id": "8901a5a3",
   "metadata": {
    "collapsed": true
   },
   "outputs": [
    {
     "data": {
      "text/plain": [
       "24"
      ]
     },
     "execution_count": 15,
     "metadata": {},
     "output_type": "execute_result"
    }
   ],
   "source": [
    "# Longitud del set\n",
    "len(set2) # a set consists of unique elements"
   ]
  },
  {
   "cell_type": "code",
   "execution_count": 19,
   "id": "093cc4c9",
   "metadata": {
    "collapsed": true
   },
   "outputs": [
    {
     "name": "stdout",
     "output_type": "stream",
     "text": [
      "La lista creada es la siguiente:  [10, 8, 4, 5, 1]\n",
      "El numero 10 se encuentra en el sets\n",
      "El numero 8 se encuentra en el sets\n",
      "El numero 4 se encuentra en el sets\n",
      "El numero 5 se encuentra en el sets\n",
      "El numero 1 se encuentra en el sets\n"
     ]
    }
   ],
   "source": [
    "Lista=[0]*5\n",
    "for i in range(0,5):\n",
    "    Lista[i]=r.randint(1,10)\n",
    "print('La lista creada es la siguiente: ',Lista)\n",
    "for i in range(0,5):\n",
    "    if Lista[i] in set2:\n",
    "        print(\"El numero %d se encuentra en el sets\"%(Lista[i]))"
   ]
  }
 ],
 "metadata": {
  "kernelspec": {
   "display_name": "Python 3",
   "language": "python",
   "name": "python3"
  },
  "language_info": {
   "codemirror_mode": {
    "name": "ipython",
    "version": 3
   },
   "file_extension": ".py",
   "mimetype": "text/x-python",
   "name": "python",
   "nbconvert_exporter": "python",
   "pygments_lexer": "ipython3",
   "version": "3.8.8"
  }
 },
 "nbformat": 4,
 "nbformat_minor": 5
}
