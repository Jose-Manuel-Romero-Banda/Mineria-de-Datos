{
 "cells": [
  {
   "cell_type": "markdown",
   "id": "c69adeac",
   "metadata": {},
   "source": [
    "# Equipo 1\n",
    "## Grupo: 001 (Lunes 7:00 - 10:00 pm)\n",
    "### Integrantes:\n",
    "+ 1848655 - Rangel Vallejo Isabel Alejandra \n",
    "+ 1851167 - Aguilar Sánchez José Antonio\n",
    "+ 1851124 - Cerecero Peña Angela Scarlett\n",
    "+ 1851528 - Romero Banda José Manuel\n",
    "+ 1853849 - García Gutiérrez Alfonso de Jesús "
   ]
  },
  {
   "cell_type": "markdown",
   "id": "b8a8f780",
   "metadata": {},
   "source": [
    "# CO2 Emission by Vehicles"
   ]
  },
  {
   "cell_type": "markdown",
   "id": "aa941810",
   "metadata": {},
   "source": [
    "**1) Título de la base de datos**  \n",
    "a) Nombre con el que se encuentra en la página: **\"CO2 Emission by Vehicles\"**  \n",
    "b) Url de la página: [CO2 Emission](https://www.kaggle.com/debajyotipodder/co2-emission-by-vehicles) "
   ]
  },
  {
   "cell_type": "markdown",
   "id": "579dbe2a",
   "metadata": {},
   "source": [
    "**2) Introducción general**"
   ]
  },
  {
   "cell_type": "markdown",
   "id": "271775dd",
   "metadata": {},
   "source": [
    "<div style=\"text-align: justify\">El CO2 (dióxido de carbono) es un compuesto de carbono y oxígeno que existe como gas incoloro en condiciones de temperatura y presión estándar. Es uno de los gases que conforman al efecto invernadero, las principales consecuencias del efecto invernadero son: Aumento de la temperatura media de la Tierra, reducción de la superficie de glaciares y, como consecuencia, elevación del nivel del agua de los mares y océanos.\n",
    "<div style=\"text-align: justify\">\n",
    "Las emisiones excesivas de este gas son una de las principales causas del calentamiento global. Un problema causado por la actividad humana y agravado por la larga pervivencia del CO2 en la atmósfera. Los automóviles particulares generan el 18% de las emisiones de CO2.      \n",
    "<div style=\"text-align: justify\">\n",
    "Una herramienta capaz de cuantificar los datos relevantes a las emisiones de CO2 producidas por automóviles ayudaría en gran medida a la humanidad a poder combatir este fenómeno que está agraviando cada vez más la situación del mundo. Al difundir las causas, características o patrones de las emisiones de este gas se estaría contribuyendo a disminuir su emisión. </div>"
   ]
  },
  {
   "cell_type": "markdown",
   "id": "cecab66d",
   "metadata": {},
   "source": [
    "**3) Descripción de los datos**"
   ]
  },
  {
   "cell_type": "markdown",
   "id": "b514ce03",
   "metadata": {},
   "source": [
    "Los datos que se obtuvieron se recopilaron a partir de una tabla que señala las distintas características que pudieran contribuir a las emisiones de CO2 hechas por automóviles. La tabla muestra la información de manera completa."
   ]
  },
  {
   "cell_type": "markdown",
   "id": "df0d2a7b",
   "metadata": {},
   "source": [
    "La tabla consta de 12 columnas, estas son: \n",
    "+ **Make** - Marca del vehículo (ejemplo: ACURA, ASTON MARTIN, etc.). \n",
    "+ **Modelo** - Modelo del automóvil (ejemplo: ILX, V8 VANTAGE, etc.). \n",
    "+ **Vehicle Class** - Clase del vehículo (ejemplo: COMPACT, MINIVAN, etc.). \n",
    "+ **Engine Size(L)** - Tamaño del motor del automóvil, viene representado en litros e indican la cantidad de gasolina que utiliza un coche cuando sus cilindros están llenos.\n",
    "+ **Cylinders** - Cantidad de cilindros que tiene el vehículo. \n",
    "+ **Transmission** - Tipo de transmisión del automóvil. Se clasifica en:\n",
    "    + A = Automático\n",
    "    + AM = Automated manual\n",
    "    + AS = Automatic with select shift\n",
    "    + AV = Continuously variable\n",
    "    + M = Manual\n",
    "+ **Fuel Type** - Tipo de gasolina que usa el vehículo. Las cuales son:\n",
    "    + X = Gasolina Regular \n",
    "    + Z = Gasolina Premium\n",
    "    + D = Diesel\n",
    "    + E = Etanol (E85)\n",
    "    + N =Gas natural \n",
    "    + Número de marchas del automóvil:  de 3 a 10.\n",
    "+ **Fuel Consumption City (L/100 km)** -  Consumo de combustible en la ciudad; se muestra en litros por cada 100 kilómetros (L / 100 km).\n",
    "+ **Fuel Consumption Hwy (L/100 km)** - Consumo de combustible en la autopista; se muestra en litros por cada 100 kilómetros (L / 100 km).\n",
    "+ **Fuel Consumption Comb (L/100 km)** - Consumo de combustible combinada (55% en la ciudad y 45% en la carretera); se muestra en litros por cada 100 kilómetros (L / 100 km).\n",
    "+ **Fuel Consumption Comb (mpg)** - Consumo de combustible combinada (55% en la ciudad y 45% en la carretera); se muestra en millas por galón (mpg)\n",
    "+ **CO2 Emissions(g/km)** - Emisiones de dióxido de carbono del tubo de escape (en gramos por kilómetro) de una conducción combinada en ciudad y carretera."
   ]
  },
  {
   "cell_type": "markdown",
   "id": "2e47a53a",
   "metadata": {},
   "source": [
    "**4) Justificación del uso de datos**  "
   ]
  },
  {
   "cell_type": "markdown",
   "id": "18dc9935",
   "metadata": {},
   "source": [
    "<div style=\"text-align: justify\">Como se mencionó anteriormente, el calentamiento global es detonado por las emisiones de CO2 provocadas por las actividades humanas. Se sabe que los automóviles son responsables de esto en un 18%. Teniendo en cuenta esto último, esta base es un complemento espectacular para combatir dicho problema debido a que se puede identificar las cualidades, patrones o características que un vehículo debe poseer para emitir cierto nivel de CO2.</div>\n",
    "<div style=\"text-align: justify\">\n",
    "De la misma manera, se podría estudiar si el rendimiento que un automóvil tiene (en ciudad o carretera) contribuye a este problema. Juntando todo esto, resulta sencillo resaltar que la motivación de trabajar con estos datos es la gama tan amplia que se tiene al momento de estudiar el fenómeno en cuestión. Así mismo, se obtiene un beneficio al conocer los resultados arrojados por la investigación; por ejemplo, al saber qué compañías fabrican los vehículos que contaminan más que otros, se puede lograr una conciencia al momento de adquirir un automóvil y, de esta manera, ayudar al ambiente.</div>"
   ]
  },
  {
   "cell_type": "markdown",
   "id": "569dd521",
   "metadata": {},
   "source": [
    "**5) Objetivo final**"
   ]
  },
  {
   "cell_type": "markdown",
   "id": "d69c30fb",
   "metadata": {},
   "source": [
    "Objetivo principal:  \n",
    "+ Predecir las emisiones de CO2 (g/km) de los automóviles"
   ]
  },
  {
   "cell_type": "markdown",
   "id": "d336b6de",
   "metadata": {},
   "source": [
    "Objetivos secundarios:\n",
    "+ Establecer si el tipo de gasolina influye en las emisiones producidas\n",
    "+ Determinar las armadoras que tienen menor índice de emisiones"
   ]
  },
  {
   "cell_type": "markdown",
   "id": "5b6fe1cb",
   "metadata": {},
   "source": [
    "**6) Mencionar preguntas de interés**\n",
    "+ ¿Qué clases de vehículo representan un mayor riesgo al ambiente?\n",
    "+ ¿La transmisión del automóvil hace una diferencia al momento de emitir CO2?"
   ]
  },
  {
   "cell_type": "markdown",
   "id": "c6de961b",
   "metadata": {},
   "source": [
    "**7) Parte de programación**"
   ]
  },
  {
   "cell_type": "markdown",
   "id": "757e3a70",
   "metadata": {},
   "source": [
    "## Limpieza de datos de la base principal: \"CO2 Emission by Vehicles\""
   ]
  },
  {
   "cell_type": "markdown",
   "id": "d0623a6a",
   "metadata": {},
   "source": [
    "Empezaremos con la importación de las librerías que se utilizarán"
   ]
  },
  {
   "cell_type": "code",
   "execution_count": 1,
   "id": "6648b43e",
   "metadata": {},
   "outputs": [],
   "source": [
    "import pandas as pd\n",
    "import numpy as np"
   ]
  },
  {
   "cell_type": "markdown",
   "id": "a630240d",
   "metadata": {},
   "source": [
    "Continuaremos con la lectura de nuestra base de datos que previamente fue descargada de la página web mencionada anteriormente"
   ]
  },
  {
   "cell_type": "code",
   "execution_count": 2,
   "id": "daab1ac3",
   "metadata": {},
   "outputs": [],
   "source": [
    "baseCO2 = pd.read_csv('CO2.csv')"
   ]
  },
  {
   "cell_type": "markdown",
   "id": "ed94a4db",
   "metadata": {},
   "source": [
    "La base de datos está guardada en la variable \"baseCO2\""
   ]
  },
  {
   "cell_type": "markdown",
   "id": "d4f1b83a",
   "metadata": {},
   "source": [
    "## Visualización"
   ]
  },
  {
   "cell_type": "markdown",
   "id": "b12061d6",
   "metadata": {},
   "source": [
    "Una vez que la base se ha leído correctamente, se procede a analizar la estructura de la misma de manera completa"
   ]
  },
  {
   "cell_type": "code",
   "execution_count": 3,
   "id": "acf9ed2d",
   "metadata": {},
   "outputs": [
    {
     "data": {
      "text/html": [
       "<div>\n",
       "<style scoped>\n",
       "    .dataframe tbody tr th:only-of-type {\n",
       "        vertical-align: middle;\n",
       "    }\n",
       "\n",
       "    .dataframe tbody tr th {\n",
       "        vertical-align: top;\n",
       "    }\n",
       "\n",
       "    .dataframe thead th {\n",
       "        text-align: right;\n",
       "    }\n",
       "</style>\n",
       "<table border=\"1\" class=\"dataframe\">\n",
       "  <thead>\n",
       "    <tr style=\"text-align: right;\">\n",
       "      <th></th>\n",
       "      <th>Make</th>\n",
       "      <th>Model</th>\n",
       "      <th>Vehicle Class</th>\n",
       "      <th>Engine Size(L)</th>\n",
       "      <th>Cylinders</th>\n",
       "      <th>Transmission</th>\n",
       "      <th>Fuel Type</th>\n",
       "      <th>Fuel Consumption City (L/100 km)</th>\n",
       "      <th>Fuel Consumption Hwy (L/100 km)</th>\n",
       "      <th>Fuel Consumption Comb (L/100 km)</th>\n",
       "      <th>Fuel Consumption Comb (mpg)</th>\n",
       "      <th>CO2 Emissions(g/km)</th>\n",
       "    </tr>\n",
       "  </thead>\n",
       "  <tbody>\n",
       "    <tr>\n",
       "      <th>0</th>\n",
       "      <td>ACURA</td>\n",
       "      <td>ILX</td>\n",
       "      <td>COMPACT</td>\n",
       "      <td>2.0</td>\n",
       "      <td>4</td>\n",
       "      <td>AS5</td>\n",
       "      <td>Z</td>\n",
       "      <td>9.9</td>\n",
       "      <td>6.7</td>\n",
       "      <td>8.5</td>\n",
       "      <td>33</td>\n",
       "      <td>196</td>\n",
       "    </tr>\n",
       "    <tr>\n",
       "      <th>1</th>\n",
       "      <td>ACURA</td>\n",
       "      <td>ILX</td>\n",
       "      <td>COMPACT</td>\n",
       "      <td>2.4</td>\n",
       "      <td>4</td>\n",
       "      <td>M6</td>\n",
       "      <td>Z</td>\n",
       "      <td>11.2</td>\n",
       "      <td>7.7</td>\n",
       "      <td>9.6</td>\n",
       "      <td>29</td>\n",
       "      <td>221</td>\n",
       "    </tr>\n",
       "    <tr>\n",
       "      <th>2</th>\n",
       "      <td>ACURA</td>\n",
       "      <td>ILX HYBRID</td>\n",
       "      <td>COMPACT</td>\n",
       "      <td>1.5</td>\n",
       "      <td>4</td>\n",
       "      <td>AV7</td>\n",
       "      <td>Z</td>\n",
       "      <td>6.0</td>\n",
       "      <td>5.8</td>\n",
       "      <td>5.9</td>\n",
       "      <td>48</td>\n",
       "      <td>136</td>\n",
       "    </tr>\n",
       "    <tr>\n",
       "      <th>3</th>\n",
       "      <td>ACURA</td>\n",
       "      <td>MDX 4WD</td>\n",
       "      <td>SUV - SMALL</td>\n",
       "      <td>3.5</td>\n",
       "      <td>6</td>\n",
       "      <td>AS6</td>\n",
       "      <td>Z</td>\n",
       "      <td>12.7</td>\n",
       "      <td>9.1</td>\n",
       "      <td>11.1</td>\n",
       "      <td>25</td>\n",
       "      <td>255</td>\n",
       "    </tr>\n",
       "    <tr>\n",
       "      <th>4</th>\n",
       "      <td>ACURA</td>\n",
       "      <td>RDX AWD</td>\n",
       "      <td>SUV - SMALL</td>\n",
       "      <td>3.5</td>\n",
       "      <td>6</td>\n",
       "      <td>AS6</td>\n",
       "      <td>Z</td>\n",
       "      <td>12.1</td>\n",
       "      <td>8.7</td>\n",
       "      <td>10.6</td>\n",
       "      <td>27</td>\n",
       "      <td>244</td>\n",
       "    </tr>\n",
       "    <tr>\n",
       "      <th>...</th>\n",
       "      <td>...</td>\n",
       "      <td>...</td>\n",
       "      <td>...</td>\n",
       "      <td>...</td>\n",
       "      <td>...</td>\n",
       "      <td>...</td>\n",
       "      <td>...</td>\n",
       "      <td>...</td>\n",
       "      <td>...</td>\n",
       "      <td>...</td>\n",
       "      <td>...</td>\n",
       "      <td>...</td>\n",
       "    </tr>\n",
       "    <tr>\n",
       "      <th>7380</th>\n",
       "      <td>VOLVO</td>\n",
       "      <td>XC40 T5 AWD</td>\n",
       "      <td>SUV - SMALL</td>\n",
       "      <td>2.0</td>\n",
       "      <td>4</td>\n",
       "      <td>AS8</td>\n",
       "      <td>Z</td>\n",
       "      <td>10.7</td>\n",
       "      <td>7.7</td>\n",
       "      <td>9.4</td>\n",
       "      <td>30</td>\n",
       "      <td>219</td>\n",
       "    </tr>\n",
       "    <tr>\n",
       "      <th>7381</th>\n",
       "      <td>VOLVO</td>\n",
       "      <td>XC60 T5 AWD</td>\n",
       "      <td>SUV - SMALL</td>\n",
       "      <td>2.0</td>\n",
       "      <td>4</td>\n",
       "      <td>AS8</td>\n",
       "      <td>Z</td>\n",
       "      <td>11.2</td>\n",
       "      <td>8.3</td>\n",
       "      <td>9.9</td>\n",
       "      <td>29</td>\n",
       "      <td>232</td>\n",
       "    </tr>\n",
       "    <tr>\n",
       "      <th>7382</th>\n",
       "      <td>VOLVO</td>\n",
       "      <td>XC60 T6 AWD</td>\n",
       "      <td>SUV - SMALL</td>\n",
       "      <td>2.0</td>\n",
       "      <td>4</td>\n",
       "      <td>AS8</td>\n",
       "      <td>Z</td>\n",
       "      <td>11.7</td>\n",
       "      <td>8.6</td>\n",
       "      <td>10.3</td>\n",
       "      <td>27</td>\n",
       "      <td>240</td>\n",
       "    </tr>\n",
       "    <tr>\n",
       "      <th>7383</th>\n",
       "      <td>VOLVO</td>\n",
       "      <td>XC90 T5 AWD</td>\n",
       "      <td>SUV - STANDARD</td>\n",
       "      <td>2.0</td>\n",
       "      <td>4</td>\n",
       "      <td>AS8</td>\n",
       "      <td>Z</td>\n",
       "      <td>11.2</td>\n",
       "      <td>8.3</td>\n",
       "      <td>9.9</td>\n",
       "      <td>29</td>\n",
       "      <td>232</td>\n",
       "    </tr>\n",
       "    <tr>\n",
       "      <th>7384</th>\n",
       "      <td>VOLVO</td>\n",
       "      <td>XC90 T6 AWD</td>\n",
       "      <td>SUV - STANDARD</td>\n",
       "      <td>2.0</td>\n",
       "      <td>4</td>\n",
       "      <td>AS8</td>\n",
       "      <td>Z</td>\n",
       "      <td>12.2</td>\n",
       "      <td>8.7</td>\n",
       "      <td>10.7</td>\n",
       "      <td>26</td>\n",
       "      <td>248</td>\n",
       "    </tr>\n",
       "  </tbody>\n",
       "</table>\n",
       "<p>7385 rows × 12 columns</p>\n",
       "</div>"
      ],
      "text/plain": [
       "       Make        Model   Vehicle Class  Engine Size(L)  Cylinders  \\\n",
       "0     ACURA          ILX         COMPACT             2.0          4   \n",
       "1     ACURA          ILX         COMPACT             2.4          4   \n",
       "2     ACURA   ILX HYBRID         COMPACT             1.5          4   \n",
       "3     ACURA      MDX 4WD     SUV - SMALL             3.5          6   \n",
       "4     ACURA      RDX AWD     SUV - SMALL             3.5          6   \n",
       "...     ...          ...             ...             ...        ...   \n",
       "7380  VOLVO  XC40 T5 AWD     SUV - SMALL             2.0          4   \n",
       "7381  VOLVO  XC60 T5 AWD     SUV - SMALL             2.0          4   \n",
       "7382  VOLVO  XC60 T6 AWD     SUV - SMALL             2.0          4   \n",
       "7383  VOLVO  XC90 T5 AWD  SUV - STANDARD             2.0          4   \n",
       "7384  VOLVO  XC90 T6 AWD  SUV - STANDARD             2.0          4   \n",
       "\n",
       "     Transmission Fuel Type  Fuel Consumption City (L/100 km)  \\\n",
       "0             AS5         Z                               9.9   \n",
       "1              M6         Z                              11.2   \n",
       "2             AV7         Z                               6.0   \n",
       "3             AS6         Z                              12.7   \n",
       "4             AS6         Z                              12.1   \n",
       "...           ...       ...                               ...   \n",
       "7380          AS8         Z                              10.7   \n",
       "7381          AS8         Z                              11.2   \n",
       "7382          AS8         Z                              11.7   \n",
       "7383          AS8         Z                              11.2   \n",
       "7384          AS8         Z                              12.2   \n",
       "\n",
       "      Fuel Consumption Hwy (L/100 km)  Fuel Consumption Comb (L/100 km)  \\\n",
       "0                                 6.7                               8.5   \n",
       "1                                 7.7                               9.6   \n",
       "2                                 5.8                               5.9   \n",
       "3                                 9.1                              11.1   \n",
       "4                                 8.7                              10.6   \n",
       "...                               ...                               ...   \n",
       "7380                              7.7                               9.4   \n",
       "7381                              8.3                               9.9   \n",
       "7382                              8.6                              10.3   \n",
       "7383                              8.3                               9.9   \n",
       "7384                              8.7                              10.7   \n",
       "\n",
       "      Fuel Consumption Comb (mpg)  CO2 Emissions(g/km)  \n",
       "0                              33                  196  \n",
       "1                              29                  221  \n",
       "2                              48                  136  \n",
       "3                              25                  255  \n",
       "4                              27                  244  \n",
       "...                           ...                  ...  \n",
       "7380                           30                  219  \n",
       "7381                           29                  232  \n",
       "7382                           27                  240  \n",
       "7383                           29                  232  \n",
       "7384                           26                  248  \n",
       "\n",
       "[7385 rows x 12 columns]"
      ]
     },
     "execution_count": 3,
     "metadata": {},
     "output_type": "execute_result"
    }
   ],
   "source": [
    "baseCO2"
   ]
  },
  {
   "cell_type": "markdown",
   "id": "a575c7d3",
   "metadata": {},
   "source": [
    "Se puede observar que la base ha cargado y muestra algunos de los elementos que contiene"
   ]
  },
  {
   "cell_type": "markdown",
   "id": "9beb2e13",
   "metadata": {},
   "source": [
    "En ocasiones se desea ver algunos pocos elementos de la base y los nombres de la columna para empezar a estar familizarizados con la base, por lo que es muy útil emplear la función siguiente"
   ]
  },
  {
   "cell_type": "code",
   "execution_count": 4,
   "id": "3b5cd6a9",
   "metadata": {
    "scrolled": true
   },
   "outputs": [
    {
     "data": {
      "text/html": [
       "<div>\n",
       "<style scoped>\n",
       "    .dataframe tbody tr th:only-of-type {\n",
       "        vertical-align: middle;\n",
       "    }\n",
       "\n",
       "    .dataframe tbody tr th {\n",
       "        vertical-align: top;\n",
       "    }\n",
       "\n",
       "    .dataframe thead th {\n",
       "        text-align: right;\n",
       "    }\n",
       "</style>\n",
       "<table border=\"1\" class=\"dataframe\">\n",
       "  <thead>\n",
       "    <tr style=\"text-align: right;\">\n",
       "      <th></th>\n",
       "      <th>Make</th>\n",
       "      <th>Model</th>\n",
       "      <th>Vehicle Class</th>\n",
       "      <th>Engine Size(L)</th>\n",
       "      <th>Cylinders</th>\n",
       "      <th>Transmission</th>\n",
       "      <th>Fuel Type</th>\n",
       "      <th>Fuel Consumption City (L/100 km)</th>\n",
       "      <th>Fuel Consumption Hwy (L/100 km)</th>\n",
       "      <th>Fuel Consumption Comb (L/100 km)</th>\n",
       "      <th>Fuel Consumption Comb (mpg)</th>\n",
       "      <th>CO2 Emissions(g/km)</th>\n",
       "    </tr>\n",
       "  </thead>\n",
       "  <tbody>\n",
       "    <tr>\n",
       "      <th>0</th>\n",
       "      <td>ACURA</td>\n",
       "      <td>ILX</td>\n",
       "      <td>COMPACT</td>\n",
       "      <td>2.0</td>\n",
       "      <td>4</td>\n",
       "      <td>AS5</td>\n",
       "      <td>Z</td>\n",
       "      <td>9.9</td>\n",
       "      <td>6.7</td>\n",
       "      <td>8.5</td>\n",
       "      <td>33</td>\n",
       "      <td>196</td>\n",
       "    </tr>\n",
       "    <tr>\n",
       "      <th>1</th>\n",
       "      <td>ACURA</td>\n",
       "      <td>ILX</td>\n",
       "      <td>COMPACT</td>\n",
       "      <td>2.4</td>\n",
       "      <td>4</td>\n",
       "      <td>M6</td>\n",
       "      <td>Z</td>\n",
       "      <td>11.2</td>\n",
       "      <td>7.7</td>\n",
       "      <td>9.6</td>\n",
       "      <td>29</td>\n",
       "      <td>221</td>\n",
       "    </tr>\n",
       "    <tr>\n",
       "      <th>2</th>\n",
       "      <td>ACURA</td>\n",
       "      <td>ILX HYBRID</td>\n",
       "      <td>COMPACT</td>\n",
       "      <td>1.5</td>\n",
       "      <td>4</td>\n",
       "      <td>AV7</td>\n",
       "      <td>Z</td>\n",
       "      <td>6.0</td>\n",
       "      <td>5.8</td>\n",
       "      <td>5.9</td>\n",
       "      <td>48</td>\n",
       "      <td>136</td>\n",
       "    </tr>\n",
       "  </tbody>\n",
       "</table>\n",
       "</div>"
      ],
      "text/plain": [
       "    Make       Model Vehicle Class  Engine Size(L)  Cylinders Transmission  \\\n",
       "0  ACURA         ILX       COMPACT             2.0          4          AS5   \n",
       "1  ACURA         ILX       COMPACT             2.4          4           M6   \n",
       "2  ACURA  ILX HYBRID       COMPACT             1.5          4          AV7   \n",
       "\n",
       "  Fuel Type  Fuel Consumption City (L/100 km)  \\\n",
       "0         Z                               9.9   \n",
       "1         Z                              11.2   \n",
       "2         Z                               6.0   \n",
       "\n",
       "   Fuel Consumption Hwy (L/100 km)  Fuel Consumption Comb (L/100 km)  \\\n",
       "0                              6.7                               8.5   \n",
       "1                              7.7                               9.6   \n",
       "2                              5.8                               5.9   \n",
       "\n",
       "   Fuel Consumption Comb (mpg)  CO2 Emissions(g/km)  \n",
       "0                           33                  196  \n",
       "1                           29                  221  \n",
       "2                           48                  136  "
      ]
     },
     "execution_count": 4,
     "metadata": {},
     "output_type": "execute_result"
    }
   ],
   "source": [
    "baseCO2.head(3)"
   ]
  },
  {
   "cell_type": "markdown",
   "id": "d6a493ac",
   "metadata": {},
   "source": [
    "Así, podemos tener una idea de cómo está compuesta nuestra base"
   ]
  },
  {
   "cell_type": "markdown",
   "id": "becbd2f7",
   "metadata": {},
   "source": [
    "<div style=\"text-align: justify\">Para tener organizada nuestra base, podemos ordenarla por alguna característica que nos sea relevante. En este caso, optaremos por ordenarla de acuerdo a la armadora, la cual es la columna \"Make\". Haciendo esto lograremos ordenar nuestros datos de A-Z.</div>"
   ]
  },
  {
   "cell_type": "code",
   "execution_count": 5,
   "id": "2c42f9bb",
   "metadata": {
    "scrolled": false
   },
   "outputs": [
    {
     "data": {
      "text/html": [
       "<div>\n",
       "<style scoped>\n",
       "    .dataframe tbody tr th:only-of-type {\n",
       "        vertical-align: middle;\n",
       "    }\n",
       "\n",
       "    .dataframe tbody tr th {\n",
       "        vertical-align: top;\n",
       "    }\n",
       "\n",
       "    .dataframe thead th {\n",
       "        text-align: right;\n",
       "    }\n",
       "</style>\n",
       "<table border=\"1\" class=\"dataframe\">\n",
       "  <thead>\n",
       "    <tr style=\"text-align: right;\">\n",
       "      <th></th>\n",
       "      <th>Make</th>\n",
       "      <th>Model</th>\n",
       "      <th>Vehicle Class</th>\n",
       "      <th>Engine Size(L)</th>\n",
       "      <th>Cylinders</th>\n",
       "      <th>Transmission</th>\n",
       "      <th>Fuel Type</th>\n",
       "      <th>Fuel Consumption City (L/100 km)</th>\n",
       "      <th>Fuel Consumption Hwy (L/100 km)</th>\n",
       "      <th>Fuel Consumption Comb (L/100 km)</th>\n",
       "      <th>Fuel Consumption Comb (mpg)</th>\n",
       "      <th>CO2 Emissions(g/km)</th>\n",
       "    </tr>\n",
       "  </thead>\n",
       "  <tbody>\n",
       "    <tr>\n",
       "      <th>0</th>\n",
       "      <td>ACURA</td>\n",
       "      <td>ILX</td>\n",
       "      <td>COMPACT</td>\n",
       "      <td>2.0</td>\n",
       "      <td>4</td>\n",
       "      <td>AS5</td>\n",
       "      <td>Z</td>\n",
       "      <td>9.9</td>\n",
       "      <td>6.7</td>\n",
       "      <td>8.5</td>\n",
       "      <td>33</td>\n",
       "      <td>196</td>\n",
       "    </tr>\n",
       "    <tr>\n",
       "      <th>4373</th>\n",
       "      <td>ACURA</td>\n",
       "      <td>MDX SH-AWD ELITE</td>\n",
       "      <td>SUV - SMALL</td>\n",
       "      <td>3.5</td>\n",
       "      <td>6</td>\n",
       "      <td>AS9</td>\n",
       "      <td>Z</td>\n",
       "      <td>12.2</td>\n",
       "      <td>9.0</td>\n",
       "      <td>10.7</td>\n",
       "      <td>26</td>\n",
       "      <td>251</td>\n",
       "    </tr>\n",
       "    <tr>\n",
       "      <th>4372</th>\n",
       "      <td>ACURA</td>\n",
       "      <td>MDX SH-AWD</td>\n",
       "      <td>SUV - SMALL</td>\n",
       "      <td>3.5</td>\n",
       "      <td>6</td>\n",
       "      <td>AS9</td>\n",
       "      <td>Z</td>\n",
       "      <td>12.6</td>\n",
       "      <td>9.0</td>\n",
       "      <td>11.0</td>\n",
       "      <td>26</td>\n",
       "      <td>259</td>\n",
       "    </tr>\n",
       "    <tr>\n",
       "      <th>4371</th>\n",
       "      <td>ACURA</td>\n",
       "      <td>ILX</td>\n",
       "      <td>COMPACT</td>\n",
       "      <td>2.4</td>\n",
       "      <td>4</td>\n",
       "      <td>AM8</td>\n",
       "      <td>Z</td>\n",
       "      <td>9.4</td>\n",
       "      <td>6.8</td>\n",
       "      <td>8.2</td>\n",
       "      <td>34</td>\n",
       "      <td>192</td>\n",
       "    </tr>\n",
       "    <tr>\n",
       "      <th>5454</th>\n",
       "      <td>ACURA</td>\n",
       "      <td>ILX</td>\n",
       "      <td>COMPACT</td>\n",
       "      <td>2.4</td>\n",
       "      <td>4</td>\n",
       "      <td>AM8</td>\n",
       "      <td>Z</td>\n",
       "      <td>9.9</td>\n",
       "      <td>7.0</td>\n",
       "      <td>8.6</td>\n",
       "      <td>33</td>\n",
       "      <td>199</td>\n",
       "    </tr>\n",
       "    <tr>\n",
       "      <th>...</th>\n",
       "      <td>...</td>\n",
       "      <td>...</td>\n",
       "      <td>...</td>\n",
       "      <td>...</td>\n",
       "      <td>...</td>\n",
       "      <td>...</td>\n",
       "      <td>...</td>\n",
       "      <td>...</td>\n",
       "      <td>...</td>\n",
       "      <td>...</td>\n",
       "      <td>...</td>\n",
       "      <td>...</td>\n",
       "    </tr>\n",
       "    <tr>\n",
       "      <th>5442</th>\n",
       "      <td>VOLVO</td>\n",
       "      <td>S90 T6 AWD</td>\n",
       "      <td>MID-SIZE</td>\n",
       "      <td>2.0</td>\n",
       "      <td>4</td>\n",
       "      <td>AS8</td>\n",
       "      <td>Z</td>\n",
       "      <td>10.6</td>\n",
       "      <td>7.6</td>\n",
       "      <td>9.3</td>\n",
       "      <td>30</td>\n",
       "      <td>216</td>\n",
       "    </tr>\n",
       "    <tr>\n",
       "      <th>5441</th>\n",
       "      <td>VOLVO</td>\n",
       "      <td>S90 T5 AWD</td>\n",
       "      <td>MID-SIZE</td>\n",
       "      <td>2.0</td>\n",
       "      <td>4</td>\n",
       "      <td>AS8</td>\n",
       "      <td>Z</td>\n",
       "      <td>10.1</td>\n",
       "      <td>7.4</td>\n",
       "      <td>8.8</td>\n",
       "      <td>32</td>\n",
       "      <td>206</td>\n",
       "    </tr>\n",
       "    <tr>\n",
       "      <th>5440</th>\n",
       "      <td>VOLVO</td>\n",
       "      <td>S60 CC T5 AWD</td>\n",
       "      <td>COMPACT</td>\n",
       "      <td>2.0</td>\n",
       "      <td>4</td>\n",
       "      <td>AS8</td>\n",
       "      <td>X</td>\n",
       "      <td>10.8</td>\n",
       "      <td>7.8</td>\n",
       "      <td>9.4</td>\n",
       "      <td>30</td>\n",
       "      <td>220</td>\n",
       "    </tr>\n",
       "    <tr>\n",
       "      <th>5438</th>\n",
       "      <td>VOLVO</td>\n",
       "      <td>S60 T6 AWD</td>\n",
       "      <td>COMPACT</td>\n",
       "      <td>2.0</td>\n",
       "      <td>4</td>\n",
       "      <td>AS8</td>\n",
       "      <td>Z</td>\n",
       "      <td>10.9</td>\n",
       "      <td>7.7</td>\n",
       "      <td>9.4</td>\n",
       "      <td>30</td>\n",
       "      <td>221</td>\n",
       "    </tr>\n",
       "    <tr>\n",
       "      <th>7384</th>\n",
       "      <td>VOLVO</td>\n",
       "      <td>XC90 T6 AWD</td>\n",
       "      <td>SUV - STANDARD</td>\n",
       "      <td>2.0</td>\n",
       "      <td>4</td>\n",
       "      <td>AS8</td>\n",
       "      <td>Z</td>\n",
       "      <td>12.2</td>\n",
       "      <td>8.7</td>\n",
       "      <td>10.7</td>\n",
       "      <td>26</td>\n",
       "      <td>248</td>\n",
       "    </tr>\n",
       "  </tbody>\n",
       "</table>\n",
       "<p>7385 rows × 12 columns</p>\n",
       "</div>"
      ],
      "text/plain": [
       "       Make             Model   Vehicle Class  Engine Size(L)  Cylinders  \\\n",
       "0     ACURA               ILX         COMPACT             2.0          4   \n",
       "4373  ACURA  MDX SH-AWD ELITE     SUV - SMALL             3.5          6   \n",
       "4372  ACURA        MDX SH-AWD     SUV - SMALL             3.5          6   \n",
       "4371  ACURA               ILX         COMPACT             2.4          4   \n",
       "5454  ACURA               ILX         COMPACT             2.4          4   \n",
       "...     ...               ...             ...             ...        ...   \n",
       "5442  VOLVO        S90 T6 AWD        MID-SIZE             2.0          4   \n",
       "5441  VOLVO        S90 T5 AWD        MID-SIZE             2.0          4   \n",
       "5440  VOLVO     S60 CC T5 AWD         COMPACT             2.0          4   \n",
       "5438  VOLVO        S60 T6 AWD         COMPACT             2.0          4   \n",
       "7384  VOLVO       XC90 T6 AWD  SUV - STANDARD             2.0          4   \n",
       "\n",
       "     Transmission Fuel Type  Fuel Consumption City (L/100 km)  \\\n",
       "0             AS5         Z                               9.9   \n",
       "4373          AS9         Z                              12.2   \n",
       "4372          AS9         Z                              12.6   \n",
       "4371          AM8         Z                               9.4   \n",
       "5454          AM8         Z                               9.9   \n",
       "...           ...       ...                               ...   \n",
       "5442          AS8         Z                              10.6   \n",
       "5441          AS8         Z                              10.1   \n",
       "5440          AS8         X                              10.8   \n",
       "5438          AS8         Z                              10.9   \n",
       "7384          AS8         Z                              12.2   \n",
       "\n",
       "      Fuel Consumption Hwy (L/100 km)  Fuel Consumption Comb (L/100 km)  \\\n",
       "0                                 6.7                               8.5   \n",
       "4373                              9.0                              10.7   \n",
       "4372                              9.0                              11.0   \n",
       "4371                              6.8                               8.2   \n",
       "5454                              7.0                               8.6   \n",
       "...                               ...                               ...   \n",
       "5442                              7.6                               9.3   \n",
       "5441                              7.4                               8.8   \n",
       "5440                              7.8                               9.4   \n",
       "5438                              7.7                               9.4   \n",
       "7384                              8.7                              10.7   \n",
       "\n",
       "      Fuel Consumption Comb (mpg)  CO2 Emissions(g/km)  \n",
       "0                              33                  196  \n",
       "4373                           26                  251  \n",
       "4372                           26                  259  \n",
       "4371                           34                  192  \n",
       "5454                           33                  199  \n",
       "...                           ...                  ...  \n",
       "5442                           30                  216  \n",
       "5441                           32                  206  \n",
       "5440                           30                  220  \n",
       "5438                           30                  221  \n",
       "7384                           26                  248  \n",
       "\n",
       "[7385 rows x 12 columns]"
      ]
     },
     "execution_count": 5,
     "metadata": {},
     "output_type": "execute_result"
    }
   ],
   "source": [
    "baseCO2 = baseCO2.sort_values('Make')\n",
    "baseCO2"
   ]
  },
  {
   "cell_type": "markdown",
   "id": "800e6a86",
   "metadata": {},
   "source": [
    "<div style=\"text-align: justify\">A simple vista pareciera haber quedado igual que como se tenía, sin embargo, no podemos estar seguros de eso, ya que no mostraba la base de manera completa. Haciendo esto nos aseguramos de que esté organizada.</div>"
   ]
  },
  {
   "cell_type": "markdown",
   "id": "b8acdef7",
   "metadata": {},
   "source": [
    "## Características de la base de datos"
   ]
  },
  {
   "cell_type": "markdown",
   "id": "8fa577d7",
   "metadata": {},
   "source": [
    "Con el objetivo de hacer un análisis profundo sobre la base, se estudiarán las características que esta tiene.  \n",
    "Comenzaremos con el número de filas y columnas"
   ]
  },
  {
   "cell_type": "code",
   "execution_count": 6,
   "id": "d8ff19ee",
   "metadata": {},
   "outputs": [
    {
     "data": {
      "text/plain": [
       "(7385, 12)"
      ]
     },
     "execution_count": 6,
     "metadata": {},
     "output_type": "execute_result"
    }
   ],
   "source": [
    "baseCO2.shape"
   ]
  },
  {
   "cell_type": "markdown",
   "id": "e6ec70a1",
   "metadata": {},
   "source": [
    "Tiene 7385 filas y 12 columnas. Se puede interpretar como una base de datos amplia, ya que tiene muchos elementos que la conforman"
   ]
  },
  {
   "cell_type": "markdown",
   "id": "a7c3a5e7",
   "metadata": {},
   "source": [
    "<div style=\"text-align: justify\">Ahora que sabemos la cantidad de filas y columnas que tiene nuestra base, podemos estudiar las características de las columnas a fondo, comenzando por el nombre de las mismas</div>"
   ]
  },
  {
   "cell_type": "code",
   "execution_count": 7,
   "id": "22a8c68d",
   "metadata": {},
   "outputs": [
    {
     "data": {
      "text/plain": [
       "Index(['Make', 'Model', 'Vehicle Class', 'Engine Size(L)', 'Cylinders',\n",
       "       'Transmission', 'Fuel Type', 'Fuel Consumption City (L/100 km)',\n",
       "       'Fuel Consumption Hwy (L/100 km)', 'Fuel Consumption Comb (L/100 km)',\n",
       "       'Fuel Consumption Comb (mpg)', 'CO2 Emissions(g/km)'],\n",
       "      dtype='object')"
      ]
     },
     "execution_count": 7,
     "metadata": {},
     "output_type": "execute_result"
    }
   ],
   "source": [
    "baseCO2.columns"
   ]
  },
  {
   "cell_type": "markdown",
   "id": "e1943b3d",
   "metadata": {},
   "source": [
    "Los nombres de las columnas son los elementos que se han impreso. Podemos notar a simple vista que estos elementos están en inglés."
   ]
  },
  {
   "cell_type": "markdown",
   "id": "1b91aa34",
   "metadata": {},
   "source": [
    "<div style=\"text-align: justify\">Algunos de estos nombres no son lo suficientemente claros para hacer referencia a los elementos que contiene cada columna, de la misma manera, algunos nombres tienen espacios entre palabras, lo que podría generar un problema al momento de querer referenciar elementos que pertenezcan a dicha columna.</div>"
   ]
  },
  {
   "cell_type": "markdown",
   "id": "165e09e0",
   "metadata": {},
   "source": [
    "Por esto último, se opta por cambiar los nombres de algunas columnas, con el fin de facilitar el manejo de los datos"
   ]
  },
  {
   "cell_type": "code",
   "execution_count": 8,
   "id": "b7d9fbd1",
   "metadata": {},
   "outputs": [],
   "source": [
    "# se crea nueva base con las modificaciones de los nombres de columnas\n",
    "\n",
    "base_nueva = baseCO2.rename(columns = {'Vehicle Class':'Vehicle_Class','Engine Size(L)':'Engine_Size(L)',\n",
    "                                       'Fuel Type':'Fuel_Type','Fuel Consumption City (L/100 km)':'Fuel_Consumption_City(L/100 km)',\n",
    "                                       'Fuel Consumption Hwy (L/100 km)':'Fuel_Consumption_Hwy(L/100 km)',\n",
    "                                        'Fuel Consumption Comb (mpg)':'Fuel_Consumption_Comb(mpg)',\n",
    "                                       'CO2 Emissions(g/km)':'CO2_Emissions(g/km)'})"
   ]
  },
  {
   "cell_type": "markdown",
   "id": "0ba41a05",
   "metadata": {},
   "source": [
    "Corroboramos que el cambio se haya realizado:"
   ]
  },
  {
   "cell_type": "code",
   "execution_count": 9,
   "id": "b323c758",
   "metadata": {},
   "outputs": [
    {
     "data": {
      "text/plain": [
       "Index(['Make', 'Model', 'Vehicle_Class', 'Engine_Size(L)', 'Cylinders',\n",
       "       'Transmission', 'Fuel_Type', 'Fuel_Consumption_City(L/100 km)',\n",
       "       'Fuel_Consumption_Hwy(L/100 km)', 'Fuel Consumption Comb (L/100 km)',\n",
       "       'Fuel_Consumption_Comb(mpg)', 'CO2_Emissions(g/km)'],\n",
       "      dtype='object')"
      ]
     },
     "execution_count": 9,
     "metadata": {},
     "output_type": "execute_result"
    }
   ],
   "source": [
    "base_nueva.columns"
   ]
  },
  {
   "cell_type": "markdown",
   "id": "b246fd4f",
   "metadata": {},
   "source": [
    "Vemos que todos nuestros cambios se han hecho correctamente"
   ]
  },
  {
   "cell_type": "markdown",
   "id": "07c37d0f",
   "metadata": {},
   "source": [
    "Otro problema que se pudiera presentar es en los tipos de datos. Necesitamos ver que nuestros datos estén guardados correctamente. Es decir, si son números, que sean valores numéricos y no de texto, entre otros. Para esto utilizamos la función dtypes"
   ]
  },
  {
   "cell_type": "code",
   "execution_count": 10,
   "id": "8d66257f",
   "metadata": {},
   "outputs": [
    {
     "data": {
      "text/plain": [
       "Make                                 object\n",
       "Model                                object\n",
       "Vehicle_Class                        object\n",
       "Engine_Size(L)                      float64\n",
       "Cylinders                             int64\n",
       "Transmission                         object\n",
       "Fuel_Type                            object\n",
       "Fuel_Consumption_City(L/100 km)     float64\n",
       "Fuel_Consumption_Hwy(L/100 km)      float64\n",
       "Fuel Consumption Comb (L/100 km)    float64\n",
       "Fuel_Consumption_Comb(mpg)            int64\n",
       "CO2_Emissions(g/km)                   int64\n",
       "dtype: object"
      ]
     },
     "execution_count": 10,
     "metadata": {},
     "output_type": "execute_result"
    }
   ],
   "source": [
    "base_nueva.dtypes"
   ]
  },
  {
   "cell_type": "markdown",
   "id": "39106953",
   "metadata": {},
   "source": [
    "<div style=\"text-align: justify\">Vemos que el nombre de las armadoras, los modelos, las clases de vehículos, transmisiones y el tipo de gasolina son de tipo objeto, lo cual es bueno, ya que estos elementos son string que nos ayudan a categorizar, los cuales no presentan problema. Ahora bien, el tamaño del motor y los consumos de gasolina están dados como flotantes, lo que de nueva cuenta no representa inconveniente alguno. Por último, los cilindros y las emisiones de C02 son valores enteros, lo cual también está bien para nuestro análisis.</div>"
   ]
  },
  {
   "cell_type": "markdown",
   "id": "0fe3ffa3",
   "metadata": {},
   "source": [
    "Podemos concluir finalmente que nuestros datos no presentan problemas con su tipo de datos."
   ]
  },
  {
   "cell_type": "markdown",
   "id": "a740adc7",
   "metadata": {},
   "source": [
    "Otra característica importante a revisar es la composición de las columnas. Contestar las preguntas: ¿Qué elementos tiene?, ¿Cuántos elementos distintos hay? son cosas que se pueden hacer"
   ]
  },
  {
   "cell_type": "code",
   "execution_count": 11,
   "id": "6a0197f0",
   "metadata": {},
   "outputs": [
    {
     "data": {
      "text/plain": [
       "0       ACURA\n",
       "4373    ACURA\n",
       "4372    ACURA\n",
       "4371    ACURA\n",
       "5454    ACURA\n",
       "        ...  \n",
       "5442    VOLVO\n",
       "5441    VOLVO\n",
       "5440    VOLVO\n",
       "5438    VOLVO\n",
       "7384    VOLVO\n",
       "Name: Make, Length: 7385, dtype: object"
      ]
     },
     "execution_count": 11,
     "metadata": {},
     "output_type": "execute_result"
    }
   ],
   "source": [
    "# Revisando los elementos de una columna\n",
    "base_nueva['Make']"
   ]
  },
  {
   "cell_type": "markdown",
   "id": "58d83c5e",
   "metadata": {},
   "source": [
    "Podemos oobtener todos los elementos de la columna \"Make\", sin embargo, no vemos cuántos distintos hay, por esto se usa la siguiente función"
   ]
  },
  {
   "cell_type": "code",
   "execution_count": 12,
   "id": "d7dc6c51",
   "metadata": {},
   "outputs": [
    {
     "data": {
      "text/plain": [
       "array(['ACURA', 'ALFA ROMEO', 'ASTON MARTIN', 'AUDI', 'BENTLEY', 'BMW',\n",
       "       'BUGATTI', 'BUICK', 'CADILLAC', 'CHEVROLET', 'CHRYSLER', 'DODGE',\n",
       "       'FIAT', 'FORD', 'GENESIS', 'GMC', 'HONDA', 'HYUNDAI', 'INFINITI',\n",
       "       'JAGUAR', 'JEEP', 'KIA', 'LAMBORGHINI', 'LAND ROVER', 'LEXUS',\n",
       "       'LINCOLN', 'MASERATI', 'MAZDA', 'MERCEDES-BENZ', 'MINI',\n",
       "       'MITSUBISHI', 'NISSAN', 'PORSCHE', 'RAM', 'ROLLS-ROYCE', 'SCION',\n",
       "       'SMART', 'SRT', 'SUBARU', 'TOYOTA', 'VOLKSWAGEN', 'VOLVO'],\n",
       "      dtype=object)"
      ]
     },
     "execution_count": 12,
     "metadata": {},
     "output_type": "execute_result"
    }
   ],
   "source": [
    "base_nueva['Make'].unique()"
   ]
  },
  {
   "cell_type": "markdown",
   "id": "72626d81",
   "metadata": {},
   "source": [
    "Con esto obtenemos todos los valores distintos que se encuentran en la columna \"Make\""
   ]
  },
  {
   "cell_type": "markdown",
   "id": "bb6366b0",
   "metadata": {},
   "source": [
    "Resulta interesante hacerlo con las columnas \"Model\" y \"Vehicle_Class\""
   ]
  },
  {
   "cell_type": "code",
   "execution_count": 13,
   "id": "0b4d1c1b",
   "metadata": {},
   "outputs": [
    {
     "data": {
      "text/plain": [
       "array(['ILX', 'MDX SH-AWD ELITE', 'MDX SH-AWD', ..., 'S60 T6',\n",
       "       'XC70 T5 AWD', 'V90 CC T5 AWD'], dtype=object)"
      ]
     },
     "execution_count": 13,
     "metadata": {},
     "output_type": "execute_result"
    }
   ],
   "source": [
    "base_nueva['Model'].unique()"
   ]
  },
  {
   "cell_type": "code",
   "execution_count": 14,
   "id": "7e2479de",
   "metadata": {},
   "outputs": [
    {
     "data": {
      "text/plain": [
       "array(['COMPACT', 'SUV - SMALL', 'MID-SIZE', 'TWO-SEATER', 'MINICOMPACT',\n",
       "       'SUBCOMPACT', 'FULL-SIZE', 'STATION WAGON - SMALL',\n",
       "       'SUV - STANDARD', 'PICKUP TRUCK - SMALL',\n",
       "       'SPECIAL PURPOSE VEHICLE', 'PICKUP TRUCK - STANDARD',\n",
       "       'VAN - PASSENGER', 'VAN - CARGO', 'MINIVAN',\n",
       "       'STATION WAGON - MID-SIZE'], dtype=object)"
      ]
     },
     "execution_count": 14,
     "metadata": {},
     "output_type": "execute_result"
    }
   ],
   "source": [
    "base_nueva['Vehicle_Class'].unique()"
   ]
  },
  {
   "cell_type": "markdown",
   "id": "9dd83bc1",
   "metadata": {},
   "source": [
    "## Valores nulos"
   ]
  },
  {
   "cell_type": "markdown",
   "id": "3a767187",
   "metadata": {},
   "source": [
    "<div style=\"text-align: justify\">Continuando con el análisis de los datos, debemos observar a fondo los elementos que componen al dataframe. En vista de que tenemos un dataframe muy grande, resulta complicado visualizar toda la base en una sola exhibición, por lo que el estudio se realizará solo para encontrar valores nulos.</div>"
   ]
  },
  {
   "cell_type": "markdown",
   "id": "c8f1346e",
   "metadata": {},
   "source": [
    "Para esto se utiliza la siguiente función que retorna 'True' en la columna si esta contiene algún elemento nulo, o bien, 'False' si no contiene ninguno"
   ]
  },
  {
   "cell_type": "code",
   "execution_count": 15,
   "id": "5fba3e82",
   "metadata": {},
   "outputs": [
    {
     "data": {
      "text/plain": [
       "Make                                False\n",
       "Model                               False\n",
       "Vehicle_Class                       False\n",
       "Engine_Size(L)                      False\n",
       "Cylinders                           False\n",
       "Transmission                        False\n",
       "Fuel_Type                           False\n",
       "Fuel_Consumption_City(L/100 km)     False\n",
       "Fuel_Consumption_Hwy(L/100 km)      False\n",
       "Fuel Consumption Comb (L/100 km)    False\n",
       "Fuel_Consumption_Comb(mpg)          False\n",
       "CO2_Emissions(g/km)                 False\n",
       "dtype: bool"
      ]
     },
     "execution_count": 15,
     "metadata": {},
     "output_type": "execute_result"
    }
   ],
   "source": [
    "base_nueva.isnull().any()"
   ]
  },
  {
   "cell_type": "markdown",
   "id": "ae8028ff",
   "metadata": {},
   "source": [
    "Con este resultado podemos decir que nuestra base de datos no contiene valores nulos. Para estar seguros, podemos revisar otra función que retorna el número de elementos nulos que contiene cada columna"
   ]
  },
  {
   "cell_type": "code",
   "execution_count": 16,
   "id": "933ebbfa",
   "metadata": {},
   "outputs": [
    {
     "data": {
      "text/plain": [
       "Make                                0\n",
       "Model                               0\n",
       "Vehicle_Class                       0\n",
       "Engine_Size(L)                      0\n",
       "Cylinders                           0\n",
       "Transmission                        0\n",
       "Fuel_Type                           0\n",
       "Fuel_Consumption_City(L/100 km)     0\n",
       "Fuel_Consumption_Hwy(L/100 km)      0\n",
       "Fuel Consumption Comb (L/100 km)    0\n",
       "Fuel_Consumption_Comb(mpg)          0\n",
       "CO2_Emissions(g/km)                 0\n",
       "dtype: int64"
      ]
     },
     "execution_count": 16,
     "metadata": {},
     "output_type": "execute_result"
    }
   ],
   "source": [
    "base_nueva.isnull().sum()"
   ]
  },
  {
   "cell_type": "markdown",
   "id": "590f3068",
   "metadata": {},
   "source": [
    "Dado que obtuvimos 0 en todas las columnas, podemos afirmar que nuestra base no contiene elementos nulos"
   ]
  },
  {
   "cell_type": "markdown",
   "id": "9f01f43c",
   "metadata": {},
   "source": [
    "## Eliminación de columnas"
   ]
  },
  {
   "cell_type": "markdown",
   "id": "29eb2af9",
   "metadata": {},
   "source": [
    "Antes de eliminar columnas del dataframe, debemos analizar los objetivos que se tienen en mente al trabajar con esta base para no eliminar datos que se pudieran requerir"
   ]
  },
  {
   "cell_type": "markdown",
   "id": "1b0100dd",
   "metadata": {},
   "source": [
    "**Recordando...**  \n",
    "Objetivo principal:  \n",
    "+ Predecir las emisiones de CO2 (g/km) de los automóviles\n",
    "\n",
    "Objetivos secundarios y preguntas de interés:\n",
    "+ Establecer si el tipo de gasolina utilizada influye en las emisiones producidas\n",
    "+ Determinar las armadoras que tienen menor índice de emisiones\n",
    "+ ¿Qué clases de vehículo representan un mayor riesgo al ambiente?\n",
    "+ ¿La transmisión del automóvil hace una diferencia al momento de emitir CO2?"
   ]
  },
  {
   "cell_type": "markdown",
   "id": "f5a9231b",
   "metadata": {},
   "source": [
    "**Recordando las columnas...**"
   ]
  },
  {
   "cell_type": "code",
   "execution_count": 17,
   "id": "db5d5eb2",
   "metadata": {},
   "outputs": [
    {
     "data": {
      "text/plain": [
       "Index(['Make', 'Model', 'Vehicle_Class', 'Engine_Size(L)', 'Cylinders',\n",
       "       'Transmission', 'Fuel_Type', 'Fuel_Consumption_City(L/100 km)',\n",
       "       'Fuel_Consumption_Hwy(L/100 km)', 'Fuel Consumption Comb (L/100 km)',\n",
       "       'Fuel_Consumption_Comb(mpg)', 'CO2_Emissions(g/km)'],\n",
       "      dtype='object')"
      ]
     },
     "execution_count": 17,
     "metadata": {},
     "output_type": "execute_result"
    }
   ],
   "source": [
    "base_nueva.columns"
   ]
  },
  {
   "cell_type": "markdown",
   "id": "8c5d69f0",
   "metadata": {},
   "source": [
    "<div style=\"text-align: justify\">Podemos notar de primera mano que, los consumos de gasolina, el tamaño del motor, los cilindros y las emisiones de CO2 se podrían utilizar para predecir las emisiones de CO2. Así como ocupamos a las armadoras, las clases de vehículo, el tipo de gasolina que se usa y la transmisión para algunas preguntas de interés y objetivos secundarios. Por lo que solo resta el modelo de los automóviles que es el que, a primera impresión, no se ha utilizado.</div>"
   ]
  },
  {
   "cell_type": "markdown",
   "id": "f4edf0e5",
   "metadata": {},
   "source": [
    "<div style=\"text-align: justify\">Sin embargo, esto no quiere decir que no se vaya a emplear en el trabajo. Como sabemos, el vehículo es el responsable de emitir el CO2, por lo que va relacionado directamente con este. Así mismo, podría emplearse en alguna gráfica que indice los modelos de vehículos con mayor emisión de CO2, entre otras posibles alternativas.</div>"
   ]
  },
  {
   "cell_type": "markdown",
   "id": "8684ec82",
   "metadata": {},
   "source": [
    "Tomando todo esto en cuenta, se conluye que no se eliminará ninguna columna dado que en algún punto del trabajo podrían llegar a emplearse. Y, como sabemos, la información no se podría recuperar en caso de ser eliminada."
   ]
  },
  {
   "cell_type": "markdown",
   "id": "51f34232",
   "metadata": {},
   "source": [
    "## Guardar un nuevo archivo"
   ]
  },
  {
   "cell_type": "markdown",
   "id": "6ee820b4",
   "metadata": {},
   "source": [
    "Para finalizar, se puede crear un nuevo archivo con todos los cambios que se han realizado, para que, cuando se vuelva a necesitar la base, no se tengan que realizar todos los cambios nuevamente."
   ]
  },
  {
   "cell_type": "code",
   "execution_count": 18,
   "id": "1a625b37",
   "metadata": {},
   "outputs": [],
   "source": [
    "base_nueva.to_csv('Emision_CO2_automoviles.csv', index=False, sep = ',')\n",
    "# se crea un archivo csv separado o delimitado por comas"
   ]
  },
  {
   "cell_type": "markdown",
   "id": "f7f19667",
   "metadata": {},
   "source": [
    "**----------------------------------------------------------------------------------------------------------------------------------------------------------------------------------------------------**"
   ]
  },
  {
   "cell_type": "markdown",
   "id": "9ce84ef3",
   "metadata": {},
   "source": [
    "# MOVIES DATASET FOR FEATURE EXTRACION, PREDICTION"
   ]
  },
  {
   "cell_type": "markdown",
   "id": "999cada3",
   "metadata": {},
   "source": [
    "**1) Título de la base de datos**  \n",
    "a) Nombre con el que se encuentra en la página: **\"MOVIES DATASET FOR FEATURE EXTRACION ,PREDICTION\"**  \n",
    "b) Url de la página: [MOVIES DATASET](https://www.kaggle.com/bharatnatrayn/movies-dataset-for-feature-extracion-prediction) "
   ]
  },
  {
   "cell_type": "markdown",
   "id": "142c5e16",
   "metadata": {},
   "source": [
    "**2) Introducción general**"
   ]
  },
  {
   "cell_type": "markdown",
   "id": "6d494601",
   "metadata": {},
   "source": [
    "<div style=\"text-align: justify\">La base de datos contiene información de distintas series y películas que se pueden encontrar en distintas plataformas como Netflix y Prime Video, estas aplicaciones cuentan con un catálogo muy variado de películas, series y documentales al que puedes acceder pagando una suscripción mensual o anual, a lo largo de los años se han hecho más reconocidos estos servicios de streaming y entretenimiento ya que la gente los empezó a consumir más por su gran contenido diverso con el que nunca te aburres y que, además, lo puedes ver y repetir las veces que quieras a diferencia de los canales de televisión.  \n",
    "<div style=\"text-align: justify\">\n",
    "Una herramienta para explorar todos los datos que nos brinda una serie o película de cualquier plataforma serviría mucho a la hora de tomar decisiones que se deben hacer para la mejor administración de la empresa, ya que como se sabe, el contenido publicado en las aplicaciones se va actualizando y cambiando con el tiempo.</div>"
   ]
  },
  {
   "cell_type": "markdown",
   "id": "75c3b1ed",
   "metadata": {},
   "source": [
    "**3) Descripción de los datos**"
   ]
  },
  {
   "cell_type": "markdown",
   "id": "e6780daa",
   "metadata": {},
   "source": [
    "Los datos que se obtuvieron se encuentran en una tabla que muestra distintos aspectos de las series y películas.\n",
    "\n",
    "La tabla consta de 9 columnas, estas son: \n",
    "+ **MOVIES** - Nombre de la serie o película. Compuesta en una cadena de texto.\n",
    "+ **YEAR** - Año en el cual empezó su transmisión hasta la fecha que terminó en caso de series y en caso de películas el año en que se estrenó. Compuesta en cadena de texto.\n",
    "+ **GENRE** - Género al que pertenece el programa o película. Cadena de texto.\n",
    "+ **RATING** - Rating que tiene la serie o película. Número flotante.\n",
    "+ **ONE-LINE** - Muestra un párrafo con una breve descripción de la serie/película.\n",
    "+ **STARS** - Aparece el casting que participa en la grabación.\n",
    "+ **VOTES** - Calificación de los votos que han dado las personas.\n",
    "+ **RunTime** - Muestra el número entero de minutos que dura la película o serie.\n",
    "+ **Gross** - Cantidad de dinero total en millones de dólares que se ganó con esta grabación."
   ]
  },
  {
   "cell_type": "markdown",
   "id": "6618ce48",
   "metadata": {},
   "source": [
    "**4) Justificación del uso de datos**  "
   ]
  },
  {
   "cell_type": "markdown",
   "id": "b0fd3376",
   "metadata": {},
   "source": [
    "Al analizar las variables y los datos proporcionados, nos llamó la atención las siguientes características:  \n",
    "+ **La gran cantidad de datos:** al momento de examinar la base observamos que la cantidad de películas/series que se nos proporcionaba es de 9,999, entonces lo podemos tomar como que existe una gran variedad entre los datos.\n",
    "+ **La variables:** al observarlas pudimos deducir que iban a ser fácil manejarlas y por lo tanto trabajar fácilmente con ellas, ya que al conocer un poco sobre el tema podemos razonar mejor al momento de plantear un objetivo y las posibles problemáticas.  \n",
    "\n",
    "Algunos de los beneficios que podemos obtener al trabajar con esta base, como ya mencionamos es la accesibilidad de manejar las variables y los datos proporcionados, los géneros pertenecientes a las películas/series están muy detallados y nos gustó que se proporcionará la cantidad de votos obtenidos."
   ]
  },
  {
   "cell_type": "markdown",
   "id": "633b77a4",
   "metadata": {},
   "source": [
    "**5) Objetivo final**"
   ]
  },
  {
   "cell_type": "markdown",
   "id": "3f36d609",
   "metadata": {},
   "source": [
    "Objetivo principal:  \n",
    "+ Predecir el rating de una película/serie agregada al catálogo recientemente"
   ]
  },
  {
   "cell_type": "markdown",
   "id": "d3ff5e07",
   "metadata": {},
   "source": [
    "**6) Mencionar preguntas de interés**\n",
    "+ ¿Cuáles son los géneros preferidos?\n",
    "+ ¿El rating de las películas/series se ve afectado por la duración?"
   ]
  },
  {
   "cell_type": "markdown",
   "id": "180fe08c",
   "metadata": {},
   "source": [
    "## Limpieza de datos de la base principal: \"MOVIES DATASET FOR FEATURE EXTRACION, PREDICTION\""
   ]
  },
  {
   "cell_type": "markdown",
   "id": "71bb1b70",
   "metadata": {},
   "source": [
    "Empezaremos con la importación de librerías, leyendo nuestro archivo y con una visualización no completa de nuestra base."
   ]
  },
  {
   "cell_type": "code",
   "execution_count": 19,
   "id": "1da1be30",
   "metadata": {},
   "outputs": [
    {
     "data": {
      "text/html": [
       "<div>\n",
       "<style scoped>\n",
       "    .dataframe tbody tr th:only-of-type {\n",
       "        vertical-align: middle;\n",
       "    }\n",
       "\n",
       "    .dataframe tbody tr th {\n",
       "        vertical-align: top;\n",
       "    }\n",
       "\n",
       "    .dataframe thead th {\n",
       "        text-align: right;\n",
       "    }\n",
       "</style>\n",
       "<table border=\"1\" class=\"dataframe\">\n",
       "  <thead>\n",
       "    <tr style=\"text-align: right;\">\n",
       "      <th></th>\n",
       "      <th>MOVIES</th>\n",
       "      <th>YEAR</th>\n",
       "      <th>GENRE</th>\n",
       "      <th>RATING</th>\n",
       "      <th>ONE-LINE</th>\n",
       "      <th>STARS</th>\n",
       "      <th>VOTES</th>\n",
       "      <th>RunTime</th>\n",
       "      <th>Gross</th>\n",
       "    </tr>\n",
       "  </thead>\n",
       "  <tbody>\n",
       "    <tr>\n",
       "      <th>0</th>\n",
       "      <td>Blood Red Sky</td>\n",
       "      <td>-2021</td>\n",
       "      <td>\\nAction, Horror, Thriller</td>\n",
       "      <td>6.1</td>\n",
       "      <td>\\nA woman with a mysterious illness is forced ...</td>\n",
       "      <td>\\n    Director:\\nPeter Thorwarth\\n| \\n    Star...</td>\n",
       "      <td>21062.0</td>\n",
       "      <td>121.0</td>\n",
       "      <td>NaN</td>\n",
       "    </tr>\n",
       "    <tr>\n",
       "      <th>1</th>\n",
       "      <td>Masters of the Universe: Revelation</td>\n",
       "      <td>(2021– )</td>\n",
       "      <td>\\nAnimation, Action, Adventure</td>\n",
       "      <td>5.0</td>\n",
       "      <td>\\nThe war for Eternia begins again in what may...</td>\n",
       "      <td>\\n            \\n    Stars:\\nChris Wood, \\nSara...</td>\n",
       "      <td>17870.0</td>\n",
       "      <td>25.0</td>\n",
       "      <td>NaN</td>\n",
       "    </tr>\n",
       "    <tr>\n",
       "      <th>2</th>\n",
       "      <td>The Walking Dead</td>\n",
       "      <td>(2010–2022)</td>\n",
       "      <td>\\nDrama, Horror, Thriller</td>\n",
       "      <td>8.2</td>\n",
       "      <td>\\nSheriff Deputy Rick Grimes wakes up from a c...</td>\n",
       "      <td>\\n            \\n    Stars:\\nAndrew Lincoln, \\n...</td>\n",
       "      <td>885805.0</td>\n",
       "      <td>44.0</td>\n",
       "      <td>NaN</td>\n",
       "    </tr>\n",
       "    <tr>\n",
       "      <th>3</th>\n",
       "      <td>Rick and Morty</td>\n",
       "      <td>(2013– )</td>\n",
       "      <td>\\nAnimation, Adventure, Comedy</td>\n",
       "      <td>9.2</td>\n",
       "      <td>\\nAn animated series that follows the exploits...</td>\n",
       "      <td>\\n            \\n    Stars:\\nJustin Roiland, \\n...</td>\n",
       "      <td>414849.0</td>\n",
       "      <td>23.0</td>\n",
       "      <td>NaN</td>\n",
       "    </tr>\n",
       "    <tr>\n",
       "      <th>4</th>\n",
       "      <td>Army of Thieves</td>\n",
       "      <td>-2021</td>\n",
       "      <td>\\nAction, Crime, Horror</td>\n",
       "      <td>NaN</td>\n",
       "      <td>\\nA prequel, set before the events of Army of ...</td>\n",
       "      <td>\\n    Director:\\nMatthias Schweighöfer\\n| \\n  ...</td>\n",
       "      <td>NaN</td>\n",
       "      <td>NaN</td>\n",
       "      <td>NaN</td>\n",
       "    </tr>\n",
       "    <tr>\n",
       "      <th>...</th>\n",
       "      <td>...</td>\n",
       "      <td>...</td>\n",
       "      <td>...</td>\n",
       "      <td>...</td>\n",
       "      <td>...</td>\n",
       "      <td>...</td>\n",
       "      <td>...</td>\n",
       "      <td>...</td>\n",
       "      <td>...</td>\n",
       "    </tr>\n",
       "    <tr>\n",
       "      <th>9994</th>\n",
       "      <td>The Imperfects</td>\n",
       "      <td>(2021– )</td>\n",
       "      <td>\\nAdventure, Drama, Fantasy</td>\n",
       "      <td>NaN</td>\n",
       "      <td>\\nAdd a Plot\\n</td>\n",
       "      <td>\\n            \\n    Stars:\\nMorgan Taylor Camp...</td>\n",
       "      <td>NaN</td>\n",
       "      <td>NaN</td>\n",
       "      <td>NaN</td>\n",
       "    </tr>\n",
       "    <tr>\n",
       "      <th>9995</th>\n",
       "      <td>Arcane</td>\n",
       "      <td>(2021– )</td>\n",
       "      <td>\\nAnimation, Action, Adventure</td>\n",
       "      <td>NaN</td>\n",
       "      <td>\\nAdd a Plot\\n</td>\n",
       "      <td>\\n</td>\n",
       "      <td>NaN</td>\n",
       "      <td>NaN</td>\n",
       "      <td>NaN</td>\n",
       "    </tr>\n",
       "    <tr>\n",
       "      <th>9996</th>\n",
       "      <td>Heart of Invictus</td>\n",
       "      <td>(2022– )</td>\n",
       "      <td>\\nDocumentary, Sport</td>\n",
       "      <td>NaN</td>\n",
       "      <td>\\nAdd a Plot\\n</td>\n",
       "      <td>\\n    Director:\\nOrlando von Einsiedel\\n| \\n  ...</td>\n",
       "      <td>NaN</td>\n",
       "      <td>NaN</td>\n",
       "      <td>NaN</td>\n",
       "    </tr>\n",
       "    <tr>\n",
       "      <th>9997</th>\n",
       "      <td>The Imperfects</td>\n",
       "      <td>(2021– )</td>\n",
       "      <td>\\nAdventure, Drama, Fantasy</td>\n",
       "      <td>NaN</td>\n",
       "      <td>\\nAdd a Plot\\n</td>\n",
       "      <td>\\n    Director:\\nJovanka Vuckovic\\n| \\n    Sta...</td>\n",
       "      <td>NaN</td>\n",
       "      <td>NaN</td>\n",
       "      <td>NaN</td>\n",
       "    </tr>\n",
       "    <tr>\n",
       "      <th>9998</th>\n",
       "      <td>The Imperfects</td>\n",
       "      <td>(2021– )</td>\n",
       "      <td>\\nAdventure, Drama, Fantasy</td>\n",
       "      <td>NaN</td>\n",
       "      <td>\\nAdd a Plot\\n</td>\n",
       "      <td>\\n    Director:\\nJovanka Vuckovic\\n| \\n    Sta...</td>\n",
       "      <td>NaN</td>\n",
       "      <td>NaN</td>\n",
       "      <td>NaN</td>\n",
       "    </tr>\n",
       "  </tbody>\n",
       "</table>\n",
       "<p>9999 rows × 9 columns</p>\n",
       "</div>"
      ],
      "text/plain": [
       "                                   MOVIES         YEAR  \\\n",
       "0                           Blood Red Sky        -2021   \n",
       "1     Masters of the Universe: Revelation     (2021– )   \n",
       "2                        The Walking Dead  (2010–2022)   \n",
       "3                          Rick and Morty     (2013– )   \n",
       "4                         Army of Thieves        -2021   \n",
       "...                                   ...          ...   \n",
       "9994                       The Imperfects     (2021– )   \n",
       "9995                               Arcane     (2021– )   \n",
       "9996                    Heart of Invictus     (2022– )   \n",
       "9997                       The Imperfects     (2021– )   \n",
       "9998                       The Imperfects     (2021– )   \n",
       "\n",
       "                                           GENRE  RATING  \\\n",
       "0         \\nAction, Horror, Thriller                 6.1   \n",
       "1     \\nAnimation, Action, Adventure                 5.0   \n",
       "2          \\nDrama, Horror, Thriller                 8.2   \n",
       "3     \\nAnimation, Adventure, Comedy                 9.2   \n",
       "4            \\nAction, Crime, Horror                 NaN   \n",
       "...                                          ...     ...   \n",
       "9994     \\nAdventure, Drama, Fantasy                 NaN   \n",
       "9995  \\nAnimation, Action, Adventure                 NaN   \n",
       "9996            \\nDocumentary, Sport                 NaN   \n",
       "9997     \\nAdventure, Drama, Fantasy                 NaN   \n",
       "9998     \\nAdventure, Drama, Fantasy                 NaN   \n",
       "\n",
       "                                               ONE-LINE  \\\n",
       "0     \\nA woman with a mysterious illness is forced ...   \n",
       "1     \\nThe war for Eternia begins again in what may...   \n",
       "2     \\nSheriff Deputy Rick Grimes wakes up from a c...   \n",
       "3     \\nAn animated series that follows the exploits...   \n",
       "4     \\nA prequel, set before the events of Army of ...   \n",
       "...                                                 ...   \n",
       "9994                                     \\nAdd a Plot\\n   \n",
       "9995                                     \\nAdd a Plot\\n   \n",
       "9996                                     \\nAdd a Plot\\n   \n",
       "9997                                     \\nAdd a Plot\\n   \n",
       "9998                                     \\nAdd a Plot\\n   \n",
       "\n",
       "                                                  STARS     VOTES  RunTime  \\\n",
       "0     \\n    Director:\\nPeter Thorwarth\\n| \\n    Star...   21062.0    121.0   \n",
       "1     \\n            \\n    Stars:\\nChris Wood, \\nSara...   17870.0     25.0   \n",
       "2     \\n            \\n    Stars:\\nAndrew Lincoln, \\n...  885805.0     44.0   \n",
       "3     \\n            \\n    Stars:\\nJustin Roiland, \\n...  414849.0     23.0   \n",
       "4     \\n    Director:\\nMatthias Schweighöfer\\n| \\n  ...       NaN      NaN   \n",
       "...                                                 ...       ...      ...   \n",
       "9994  \\n            \\n    Stars:\\nMorgan Taylor Camp...       NaN      NaN   \n",
       "9995                                                 \\n       NaN      NaN   \n",
       "9996  \\n    Director:\\nOrlando von Einsiedel\\n| \\n  ...       NaN      NaN   \n",
       "9997  \\n    Director:\\nJovanka Vuckovic\\n| \\n    Sta...       NaN      NaN   \n",
       "9998  \\n    Director:\\nJovanka Vuckovic\\n| \\n    Sta...       NaN      NaN   \n",
       "\n",
       "     Gross  \n",
       "0      NaN  \n",
       "1      NaN  \n",
       "2      NaN  \n",
       "3      NaN  \n",
       "4      NaN  \n",
       "...    ...  \n",
       "9994   NaN  \n",
       "9995   NaN  \n",
       "9996   NaN  \n",
       "9997   NaN  \n",
       "9998   NaN  \n",
       "\n",
       "[9999 rows x 9 columns]"
      ]
     },
     "execution_count": 19,
     "metadata": {},
     "output_type": "execute_result"
    }
   ],
   "source": [
    "import pandas as pd\n",
    "import numpy as np\n",
    "\n",
    "base1 = pd.read_csv('movies.csv', sep = ',') #Leyendo el archivo csv  \n",
    "base1"
   ]
  },
  {
   "cell_type": "markdown",
   "id": "f2881b9a",
   "metadata": {},
   "source": [
    "## Visualización"
   ]
  },
  {
   "cell_type": "markdown",
   "id": "ad5bd197",
   "metadata": {},
   "source": [
    "A continuación verificaremos cuántas filas y columnas tiene nuestra base, esto para darnos más idea de la dimensión que tiene."
   ]
  },
  {
   "cell_type": "code",
   "execution_count": 20,
   "id": "f1905ec8",
   "metadata": {},
   "outputs": [
    {
     "data": {
      "text/plain": [
       "(9999, 9)"
      ]
     },
     "execution_count": 20,
     "metadata": {},
     "output_type": "execute_result"
    }
   ],
   "source": [
    "base1.shape #Dimensión de la base"
   ]
  },
  {
   "cell_type": "markdown",
   "id": "12e0926e",
   "metadata": {},
   "source": [
    "Nuestra base tiene 9999 filas y 9 columnas "
   ]
  },
  {
   "cell_type": "markdown",
   "id": "ce993453",
   "metadata": {},
   "source": [
    "Ahora con la función \".columns\" podremos ver el nombre de las 9 columnas."
   ]
  },
  {
   "cell_type": "markdown",
   "id": "3cfeef67",
   "metadata": {},
   "source": [
    "Vemos el nombre de las columnas e identificamos los nombres que podemos cambiar, ya sea para que tengan un formato más uniforme o porque no lo creemos adecuado o se nos va a dificultar trabajar con ese nombre."
   ]
  },
  {
   "cell_type": "code",
   "execution_count": 21,
   "id": "d1766b36",
   "metadata": {},
   "outputs": [
    {
     "data": {
      "text/plain": [
       "Index(['MOVIES', 'YEAR', 'GENRE', 'RATING', 'ONE-LINE', 'STARS', 'VOTES',\n",
       "       'RunTime', 'Gross'],\n",
       "      dtype='object')"
      ]
     },
     "execution_count": 21,
     "metadata": {},
     "output_type": "execute_result"
    }
   ],
   "source": [
    "base1.columns #Nombres de columnas de la base"
   ]
  },
  {
   "cell_type": "markdown",
   "id": "7dcadc7d",
   "metadata": {},
   "source": [
    "<div style=\"text-align: justify\"> Ahora haremos una base nueva con los nombres de las columnas actualizados.   \n",
    "<div style=\"text-align: justify\">\n",
    "Cambiamos el nombre de las columnas para que todos estuvieran en mayusculas, la columna de MOVIES se nos hizo más práctico llamarla NAME ya que ahí va el nombre de la pelicula o serie, tambien RunTime, que nos explica la duración, lo cambiamos solo por TIME para que fuera más corto y en mayúsculas, ONE-LINE lo cambiamos para no batallar con el guión y creímos más entendible que fuera DESCRIPTION ya que de eso se trata la columna, nos muestra la descripción de la película/serie.</div>"
   ]
  },
  {
   "cell_type": "code",
   "execution_count": 22,
   "id": "0ae3ddd0",
   "metadata": {},
   "outputs": [
    {
     "data": {
      "text/html": [
       "<div>\n",
       "<style scoped>\n",
       "    .dataframe tbody tr th:only-of-type {\n",
       "        vertical-align: middle;\n",
       "    }\n",
       "\n",
       "    .dataframe tbody tr th {\n",
       "        vertical-align: top;\n",
       "    }\n",
       "\n",
       "    .dataframe thead th {\n",
       "        text-align: right;\n",
       "    }\n",
       "</style>\n",
       "<table border=\"1\" class=\"dataframe\">\n",
       "  <thead>\n",
       "    <tr style=\"text-align: right;\">\n",
       "      <th></th>\n",
       "      <th>NAME</th>\n",
       "      <th>YEAR</th>\n",
       "      <th>GENRE</th>\n",
       "      <th>RATING</th>\n",
       "      <th>DESCRIPTION</th>\n",
       "      <th>STARS</th>\n",
       "      <th>VOTES</th>\n",
       "      <th>TIME</th>\n",
       "      <th>GROSS</th>\n",
       "    </tr>\n",
       "  </thead>\n",
       "  <tbody>\n",
       "    <tr>\n",
       "      <th>0</th>\n",
       "      <td>Blood Red Sky</td>\n",
       "      <td>-2021</td>\n",
       "      <td>\\nAction, Horror, Thriller</td>\n",
       "      <td>6.1</td>\n",
       "      <td>\\nA woman with a mysterious illness is forced ...</td>\n",
       "      <td>\\n    Director:\\nPeter Thorwarth\\n| \\n    Star...</td>\n",
       "      <td>21062.0</td>\n",
       "      <td>121.0</td>\n",
       "      <td>NaN</td>\n",
       "    </tr>\n",
       "    <tr>\n",
       "      <th>1</th>\n",
       "      <td>Masters of the Universe: Revelation</td>\n",
       "      <td>(2021– )</td>\n",
       "      <td>\\nAnimation, Action, Adventure</td>\n",
       "      <td>5.0</td>\n",
       "      <td>\\nThe war for Eternia begins again in what may...</td>\n",
       "      <td>\\n            \\n    Stars:\\nChris Wood, \\nSara...</td>\n",
       "      <td>17870.0</td>\n",
       "      <td>25.0</td>\n",
       "      <td>NaN</td>\n",
       "    </tr>\n",
       "    <tr>\n",
       "      <th>2</th>\n",
       "      <td>The Walking Dead</td>\n",
       "      <td>(2010–2022)</td>\n",
       "      <td>\\nDrama, Horror, Thriller</td>\n",
       "      <td>8.2</td>\n",
       "      <td>\\nSheriff Deputy Rick Grimes wakes up from a c...</td>\n",
       "      <td>\\n            \\n    Stars:\\nAndrew Lincoln, \\n...</td>\n",
       "      <td>885805.0</td>\n",
       "      <td>44.0</td>\n",
       "      <td>NaN</td>\n",
       "    </tr>\n",
       "    <tr>\n",
       "      <th>3</th>\n",
       "      <td>Rick and Morty</td>\n",
       "      <td>(2013– )</td>\n",
       "      <td>\\nAnimation, Adventure, Comedy</td>\n",
       "      <td>9.2</td>\n",
       "      <td>\\nAn animated series that follows the exploits...</td>\n",
       "      <td>\\n            \\n    Stars:\\nJustin Roiland, \\n...</td>\n",
       "      <td>414849.0</td>\n",
       "      <td>23.0</td>\n",
       "      <td>NaN</td>\n",
       "    </tr>\n",
       "    <tr>\n",
       "      <th>4</th>\n",
       "      <td>Army of Thieves</td>\n",
       "      <td>-2021</td>\n",
       "      <td>\\nAction, Crime, Horror</td>\n",
       "      <td>NaN</td>\n",
       "      <td>\\nA prequel, set before the events of Army of ...</td>\n",
       "      <td>\\n    Director:\\nMatthias Schweighöfer\\n| \\n  ...</td>\n",
       "      <td>NaN</td>\n",
       "      <td>NaN</td>\n",
       "      <td>NaN</td>\n",
       "    </tr>\n",
       "    <tr>\n",
       "      <th>...</th>\n",
       "      <td>...</td>\n",
       "      <td>...</td>\n",
       "      <td>...</td>\n",
       "      <td>...</td>\n",
       "      <td>...</td>\n",
       "      <td>...</td>\n",
       "      <td>...</td>\n",
       "      <td>...</td>\n",
       "      <td>...</td>\n",
       "    </tr>\n",
       "    <tr>\n",
       "      <th>9994</th>\n",
       "      <td>The Imperfects</td>\n",
       "      <td>(2021– )</td>\n",
       "      <td>\\nAdventure, Drama, Fantasy</td>\n",
       "      <td>NaN</td>\n",
       "      <td>\\nAdd a Plot\\n</td>\n",
       "      <td>\\n            \\n    Stars:\\nMorgan Taylor Camp...</td>\n",
       "      <td>NaN</td>\n",
       "      <td>NaN</td>\n",
       "      <td>NaN</td>\n",
       "    </tr>\n",
       "    <tr>\n",
       "      <th>9995</th>\n",
       "      <td>Arcane</td>\n",
       "      <td>(2021– )</td>\n",
       "      <td>\\nAnimation, Action, Adventure</td>\n",
       "      <td>NaN</td>\n",
       "      <td>\\nAdd a Plot\\n</td>\n",
       "      <td>\\n</td>\n",
       "      <td>NaN</td>\n",
       "      <td>NaN</td>\n",
       "      <td>NaN</td>\n",
       "    </tr>\n",
       "    <tr>\n",
       "      <th>9996</th>\n",
       "      <td>Heart of Invictus</td>\n",
       "      <td>(2022– )</td>\n",
       "      <td>\\nDocumentary, Sport</td>\n",
       "      <td>NaN</td>\n",
       "      <td>\\nAdd a Plot\\n</td>\n",
       "      <td>\\n    Director:\\nOrlando von Einsiedel\\n| \\n  ...</td>\n",
       "      <td>NaN</td>\n",
       "      <td>NaN</td>\n",
       "      <td>NaN</td>\n",
       "    </tr>\n",
       "    <tr>\n",
       "      <th>9997</th>\n",
       "      <td>The Imperfects</td>\n",
       "      <td>(2021– )</td>\n",
       "      <td>\\nAdventure, Drama, Fantasy</td>\n",
       "      <td>NaN</td>\n",
       "      <td>\\nAdd a Plot\\n</td>\n",
       "      <td>\\n    Director:\\nJovanka Vuckovic\\n| \\n    Sta...</td>\n",
       "      <td>NaN</td>\n",
       "      <td>NaN</td>\n",
       "      <td>NaN</td>\n",
       "    </tr>\n",
       "    <tr>\n",
       "      <th>9998</th>\n",
       "      <td>The Imperfects</td>\n",
       "      <td>(2021– )</td>\n",
       "      <td>\\nAdventure, Drama, Fantasy</td>\n",
       "      <td>NaN</td>\n",
       "      <td>\\nAdd a Plot\\n</td>\n",
       "      <td>\\n    Director:\\nJovanka Vuckovic\\n| \\n    Sta...</td>\n",
       "      <td>NaN</td>\n",
       "      <td>NaN</td>\n",
       "      <td>NaN</td>\n",
       "    </tr>\n",
       "  </tbody>\n",
       "</table>\n",
       "<p>9999 rows × 9 columns</p>\n",
       "</div>"
      ],
      "text/plain": [
       "                                     NAME         YEAR  \\\n",
       "0                           Blood Red Sky        -2021   \n",
       "1     Masters of the Universe: Revelation     (2021– )   \n",
       "2                        The Walking Dead  (2010–2022)   \n",
       "3                          Rick and Morty     (2013– )   \n",
       "4                         Army of Thieves        -2021   \n",
       "...                                   ...          ...   \n",
       "9994                       The Imperfects     (2021– )   \n",
       "9995                               Arcane     (2021– )   \n",
       "9996                    Heart of Invictus     (2022– )   \n",
       "9997                       The Imperfects     (2021– )   \n",
       "9998                       The Imperfects     (2021– )   \n",
       "\n",
       "                                           GENRE  RATING  \\\n",
       "0         \\nAction, Horror, Thriller                 6.1   \n",
       "1     \\nAnimation, Action, Adventure                 5.0   \n",
       "2          \\nDrama, Horror, Thriller                 8.2   \n",
       "3     \\nAnimation, Adventure, Comedy                 9.2   \n",
       "4            \\nAction, Crime, Horror                 NaN   \n",
       "...                                          ...     ...   \n",
       "9994     \\nAdventure, Drama, Fantasy                 NaN   \n",
       "9995  \\nAnimation, Action, Adventure                 NaN   \n",
       "9996            \\nDocumentary, Sport                 NaN   \n",
       "9997     \\nAdventure, Drama, Fantasy                 NaN   \n",
       "9998     \\nAdventure, Drama, Fantasy                 NaN   \n",
       "\n",
       "                                            DESCRIPTION  \\\n",
       "0     \\nA woman with a mysterious illness is forced ...   \n",
       "1     \\nThe war for Eternia begins again in what may...   \n",
       "2     \\nSheriff Deputy Rick Grimes wakes up from a c...   \n",
       "3     \\nAn animated series that follows the exploits...   \n",
       "4     \\nA prequel, set before the events of Army of ...   \n",
       "...                                                 ...   \n",
       "9994                                     \\nAdd a Plot\\n   \n",
       "9995                                     \\nAdd a Plot\\n   \n",
       "9996                                     \\nAdd a Plot\\n   \n",
       "9997                                     \\nAdd a Plot\\n   \n",
       "9998                                     \\nAdd a Plot\\n   \n",
       "\n",
       "                                                  STARS     VOTES   TIME GROSS  \n",
       "0     \\n    Director:\\nPeter Thorwarth\\n| \\n    Star...   21062.0  121.0   NaN  \n",
       "1     \\n            \\n    Stars:\\nChris Wood, \\nSara...   17870.0   25.0   NaN  \n",
       "2     \\n            \\n    Stars:\\nAndrew Lincoln, \\n...  885805.0   44.0   NaN  \n",
       "3     \\n            \\n    Stars:\\nJustin Roiland, \\n...  414849.0   23.0   NaN  \n",
       "4     \\n    Director:\\nMatthias Schweighöfer\\n| \\n  ...       NaN    NaN   NaN  \n",
       "...                                                 ...       ...    ...   ...  \n",
       "9994  \\n            \\n    Stars:\\nMorgan Taylor Camp...       NaN    NaN   NaN  \n",
       "9995                                                 \\n       NaN    NaN   NaN  \n",
       "9996  \\n    Director:\\nOrlando von Einsiedel\\n| \\n  ...       NaN    NaN   NaN  \n",
       "9997  \\n    Director:\\nJovanka Vuckovic\\n| \\n    Sta...       NaN    NaN   NaN  \n",
       "9998  \\n    Director:\\nJovanka Vuckovic\\n| \\n    Sta...       NaN    NaN   NaN  \n",
       "\n",
       "[9999 rows x 9 columns]"
      ]
     },
     "execution_count": 22,
     "metadata": {},
     "output_type": "execute_result"
    }
   ],
   "source": [
    "base2 = base1.rename(columns = {'MOVIES':'NAME','ONE-LINE':'DESCRIPTION','RunTime':'TIME','Gross':'GROSS'}) #renombrando las columnas\n",
    "base2"
   ]
  },
  {
   "cell_type": "markdown",
   "id": "c3652842",
   "metadata": {},
   "source": [
    "Después con la función \".dtypes\" veremos los tipos de datos en cada columna esto para ver si tendremos que cambiar algún tipo o si los creemos adecuados."
   ]
  },
  {
   "cell_type": "code",
   "execution_count": 23,
   "id": "df0eb1c9",
   "metadata": {
    "scrolled": true
   },
   "outputs": [
    {
     "data": {
      "text/plain": [
       "NAME            object\n",
       "YEAR            object\n",
       "GENRE           object\n",
       "RATING         float64\n",
       "DESCRIPTION     object\n",
       "STARS           object\n",
       "VOTES          float64\n",
       "TIME           float64\n",
       "GROSS           object\n",
       "dtype: object"
      ]
     },
     "execution_count": 23,
     "metadata": {},
     "output_type": "execute_result"
    }
   ],
   "source": [
    "base2.dtypes #Tipos de datos en cada columna"
   ]
  },
  {
   "cell_type": "markdown",
   "id": "f81741b8",
   "metadata": {},
   "source": [
    "Observamos que nuestros valores numéricos son: el rating, los votos y la duración; lo cual es correcto."
   ]
  },
  {
   "cell_type": "markdown",
   "id": "009fe610",
   "metadata": {},
   "source": [
    "## Valores nulos"
   ]
  },
  {
   "cell_type": "code",
   "execution_count": 24,
   "id": "cd6d4b3f",
   "metadata": {},
   "outputs": [
    {
     "data": {
      "text/plain": [
       "NAME           False\n",
       "YEAR            True\n",
       "GENRE           True\n",
       "RATING          True\n",
       "DESCRIPTION    False\n",
       "STARS          False\n",
       "VOTES           True\n",
       "TIME            True\n",
       "GROSS           True\n",
       "dtype: bool"
      ]
     },
     "execution_count": 24,
     "metadata": {},
     "output_type": "execute_result"
    }
   ],
   "source": [
    "base2.isnull().any() #nos dice si hay datos nulos en cada columna"
   ]
  },
  {
   "cell_type": "markdown",
   "id": "0aa44381",
   "metadata": {},
   "source": [
    "Vemos que tenemos valores nulos en las columnas de YEAR, GENRE, RATING, VOTES, TIME y GROSS. A continuación veremos cuantos datos nulos hay en cada una"
   ]
  },
  {
   "cell_type": "code",
   "execution_count": 25,
   "id": "b7a8fb43",
   "metadata": {},
   "outputs": [
    {
     "data": {
      "text/plain": [
       "NAME              0\n",
       "YEAR            644\n",
       "GENRE            80\n",
       "RATING         1820\n",
       "DESCRIPTION       0\n",
       "STARS             0\n",
       "VOTES          1820\n",
       "TIME           2958\n",
       "GROSS          9539\n",
       "dtype: int64"
      ]
     },
     "execution_count": 25,
     "metadata": {},
     "output_type": "execute_result"
    }
   ],
   "source": [
    "base2.isnull().sum() #Cuantos datos nulos tenemos por columna"
   ]
  },
  {
   "cell_type": "markdown",
   "id": "66608319",
   "metadata": {},
   "source": [
    "Al ver la gran cantidad de valores nulos, decidimos analizar si todas las columnas nos interesan, en caso de no ser tan relevantes procederemos a borrarlas."
   ]
  },
  {
   "cell_type": "markdown",
   "id": "6b7e5d27",
   "metadata": {},
   "source": [
    "<div style=\"text-align: justify\">A simple vista la columna \"GROSS\" que nos muestra el total del dinero ganado en todo el mundo en millones de dólares, no nos está dando mucha información porque de 9999 películas/series que tenemos, no nos está dando información de 9539 así que no podremos trabajar con tan pocos datos y debido a que no analizaremos esa parte monetaria de la base de datos podemos quitarla. Igualmente las columnas \"DESCRIPTION\" y \"STARS\" serán eliminadas; ya que la primera, no nos resulta útil porque como cada película o serie tiene su propia descripción no podriamos compararlas entre ellas y la última porque nuestra investigación no va a tomar en cuenta a los actores participantes de cada cinta.</div>"
   ]
  },
  {
   "cell_type": "markdown",
   "id": "d6e54a3d",
   "metadata": {},
   "source": [
    "## Eliminación de columnas"
   ]
  },
  {
   "cell_type": "code",
   "execution_count": 26,
   "id": "23b734aa",
   "metadata": {},
   "outputs": [],
   "source": [
    "base3 = base2.drop(['GROSS', 'DESCRIPTION', 'STARS'], axis = 1 ) #Eliminando las columnas"
   ]
  },
  {
   "cell_type": "code",
   "execution_count": 27,
   "id": "03524593",
   "metadata": {},
   "outputs": [
    {
     "data": {
      "text/html": [
       "<div>\n",
       "<style scoped>\n",
       "    .dataframe tbody tr th:only-of-type {\n",
       "        vertical-align: middle;\n",
       "    }\n",
       "\n",
       "    .dataframe tbody tr th {\n",
       "        vertical-align: top;\n",
       "    }\n",
       "\n",
       "    .dataframe thead th {\n",
       "        text-align: right;\n",
       "    }\n",
       "</style>\n",
       "<table border=\"1\" class=\"dataframe\">\n",
       "  <thead>\n",
       "    <tr style=\"text-align: right;\">\n",
       "      <th></th>\n",
       "      <th>NAME</th>\n",
       "      <th>YEAR</th>\n",
       "      <th>GENRE</th>\n",
       "      <th>RATING</th>\n",
       "      <th>VOTES</th>\n",
       "      <th>TIME</th>\n",
       "    </tr>\n",
       "  </thead>\n",
       "  <tbody>\n",
       "    <tr>\n",
       "      <th>0</th>\n",
       "      <td>Blood Red Sky</td>\n",
       "      <td>-2021</td>\n",
       "      <td>\\nAction, Horror, Thriller</td>\n",
       "      <td>6.1</td>\n",
       "      <td>21062.0</td>\n",
       "      <td>121.0</td>\n",
       "    </tr>\n",
       "    <tr>\n",
       "      <th>1</th>\n",
       "      <td>Masters of the Universe: Revelation</td>\n",
       "      <td>(2021– )</td>\n",
       "      <td>\\nAnimation, Action, Adventure</td>\n",
       "      <td>5.0</td>\n",
       "      <td>17870.0</td>\n",
       "      <td>25.0</td>\n",
       "    </tr>\n",
       "    <tr>\n",
       "      <th>2</th>\n",
       "      <td>The Walking Dead</td>\n",
       "      <td>(2010–2022)</td>\n",
       "      <td>\\nDrama, Horror, Thriller</td>\n",
       "      <td>8.2</td>\n",
       "      <td>885805.0</td>\n",
       "      <td>44.0</td>\n",
       "    </tr>\n",
       "    <tr>\n",
       "      <th>3</th>\n",
       "      <td>Rick and Morty</td>\n",
       "      <td>(2013– )</td>\n",
       "      <td>\\nAnimation, Adventure, Comedy</td>\n",
       "      <td>9.2</td>\n",
       "      <td>414849.0</td>\n",
       "      <td>23.0</td>\n",
       "    </tr>\n",
       "    <tr>\n",
       "      <th>4</th>\n",
       "      <td>Army of Thieves</td>\n",
       "      <td>-2021</td>\n",
       "      <td>\\nAction, Crime, Horror</td>\n",
       "      <td>NaN</td>\n",
       "      <td>NaN</td>\n",
       "      <td>NaN</td>\n",
       "    </tr>\n",
       "    <tr>\n",
       "      <th>...</th>\n",
       "      <td>...</td>\n",
       "      <td>...</td>\n",
       "      <td>...</td>\n",
       "      <td>...</td>\n",
       "      <td>...</td>\n",
       "      <td>...</td>\n",
       "    </tr>\n",
       "    <tr>\n",
       "      <th>9994</th>\n",
       "      <td>The Imperfects</td>\n",
       "      <td>(2021– )</td>\n",
       "      <td>\\nAdventure, Drama, Fantasy</td>\n",
       "      <td>NaN</td>\n",
       "      <td>NaN</td>\n",
       "      <td>NaN</td>\n",
       "    </tr>\n",
       "    <tr>\n",
       "      <th>9995</th>\n",
       "      <td>Arcane</td>\n",
       "      <td>(2021– )</td>\n",
       "      <td>\\nAnimation, Action, Adventure</td>\n",
       "      <td>NaN</td>\n",
       "      <td>NaN</td>\n",
       "      <td>NaN</td>\n",
       "    </tr>\n",
       "    <tr>\n",
       "      <th>9996</th>\n",
       "      <td>Heart of Invictus</td>\n",
       "      <td>(2022– )</td>\n",
       "      <td>\\nDocumentary, Sport</td>\n",
       "      <td>NaN</td>\n",
       "      <td>NaN</td>\n",
       "      <td>NaN</td>\n",
       "    </tr>\n",
       "    <tr>\n",
       "      <th>9997</th>\n",
       "      <td>The Imperfects</td>\n",
       "      <td>(2021– )</td>\n",
       "      <td>\\nAdventure, Drama, Fantasy</td>\n",
       "      <td>NaN</td>\n",
       "      <td>NaN</td>\n",
       "      <td>NaN</td>\n",
       "    </tr>\n",
       "    <tr>\n",
       "      <th>9998</th>\n",
       "      <td>The Imperfects</td>\n",
       "      <td>(2021– )</td>\n",
       "      <td>\\nAdventure, Drama, Fantasy</td>\n",
       "      <td>NaN</td>\n",
       "      <td>NaN</td>\n",
       "      <td>NaN</td>\n",
       "    </tr>\n",
       "  </tbody>\n",
       "</table>\n",
       "<p>9999 rows × 6 columns</p>\n",
       "</div>"
      ],
      "text/plain": [
       "                                     NAME         YEAR  \\\n",
       "0                           Blood Red Sky        -2021   \n",
       "1     Masters of the Universe: Revelation     (2021– )   \n",
       "2                        The Walking Dead  (2010–2022)   \n",
       "3                          Rick and Morty     (2013– )   \n",
       "4                         Army of Thieves        -2021   \n",
       "...                                   ...          ...   \n",
       "9994                       The Imperfects     (2021– )   \n",
       "9995                               Arcane     (2021– )   \n",
       "9996                    Heart of Invictus     (2022– )   \n",
       "9997                       The Imperfects     (2021– )   \n",
       "9998                       The Imperfects     (2021– )   \n",
       "\n",
       "                                           GENRE  RATING     VOTES   TIME  \n",
       "0         \\nAction, Horror, Thriller                 6.1   21062.0  121.0  \n",
       "1     \\nAnimation, Action, Adventure                 5.0   17870.0   25.0  \n",
       "2          \\nDrama, Horror, Thriller                 8.2  885805.0   44.0  \n",
       "3     \\nAnimation, Adventure, Comedy                 9.2  414849.0   23.0  \n",
       "4            \\nAction, Crime, Horror                 NaN       NaN    NaN  \n",
       "...                                          ...     ...       ...    ...  \n",
       "9994     \\nAdventure, Drama, Fantasy                 NaN       NaN    NaN  \n",
       "9995  \\nAnimation, Action, Adventure                 NaN       NaN    NaN  \n",
       "9996            \\nDocumentary, Sport                 NaN       NaN    NaN  \n",
       "9997     \\nAdventure, Drama, Fantasy                 NaN       NaN    NaN  \n",
       "9998     \\nAdventure, Drama, Fantasy                 NaN       NaN    NaN  \n",
       "\n",
       "[9999 rows x 6 columns]"
      ]
     },
     "execution_count": 27,
     "metadata": {},
     "output_type": "execute_result"
    }
   ],
   "source": [
    "base3"
   ]
  },
  {
   "cell_type": "markdown",
   "id": "f21f2962",
   "metadata": {},
   "source": [
    "Podemos ver que las columnas no deseadas se han eliminado correctamente."
   ]
  },
  {
   "cell_type": "markdown",
   "id": "b16148a9",
   "metadata": {},
   "source": [
    "Una vez que tenemos solamente las columnas deseadas, nos preguntamos: ¿Qué haremos con los datos nulos restantes?. Para responder esto, hay que estudiar los datos que tenemos. De nueva cuenta revisamos los datos nulos que tenemos."
   ]
  },
  {
   "cell_type": "code",
   "execution_count": 28,
   "id": "ca56cb10",
   "metadata": {},
   "outputs": [
    {
     "data": {
      "text/plain": [
       "NAME         0\n",
       "YEAR       644\n",
       "GENRE       80\n",
       "RATING    1820\n",
       "VOTES     1820\n",
       "TIME      2958\n",
       "dtype: int64"
      ]
     },
     "execution_count": 28,
     "metadata": {},
     "output_type": "execute_result"
    }
   ],
   "source": [
    "base3.isnull().sum()"
   ]
  },
  {
   "cell_type": "markdown",
   "id": "3ab4334f",
   "metadata": {},
   "source": [
    "Como todas las variables restantes son importantes para nuestro análisis, eliminaremos todos aquellos valores nulos que se encuentren todavía y revisaremos la cantidad de datos con la que nos quedaremos"
   ]
  },
  {
   "cell_type": "code",
   "execution_count": 29,
   "id": "276211b1",
   "metadata": {},
   "outputs": [
    {
     "data": {
      "text/html": [
       "<div>\n",
       "<style scoped>\n",
       "    .dataframe tbody tr th:only-of-type {\n",
       "        vertical-align: middle;\n",
       "    }\n",
       "\n",
       "    .dataframe tbody tr th {\n",
       "        vertical-align: top;\n",
       "    }\n",
       "\n",
       "    .dataframe thead th {\n",
       "        text-align: right;\n",
       "    }\n",
       "</style>\n",
       "<table border=\"1\" class=\"dataframe\">\n",
       "  <thead>\n",
       "    <tr style=\"text-align: right;\">\n",
       "      <th></th>\n",
       "      <th>NAME</th>\n",
       "      <th>YEAR</th>\n",
       "      <th>GENRE</th>\n",
       "      <th>RATING</th>\n",
       "      <th>VOTES</th>\n",
       "      <th>TIME</th>\n",
       "    </tr>\n",
       "  </thead>\n",
       "  <tbody>\n",
       "    <tr>\n",
       "      <th>0</th>\n",
       "      <td>Blood Red Sky</td>\n",
       "      <td>-2021</td>\n",
       "      <td>\\nAction, Horror, Thriller</td>\n",
       "      <td>6.1</td>\n",
       "      <td>21062.0</td>\n",
       "      <td>121.0</td>\n",
       "    </tr>\n",
       "    <tr>\n",
       "      <th>1</th>\n",
       "      <td>Masters of the Universe: Revelation</td>\n",
       "      <td>(2021– )</td>\n",
       "      <td>\\nAnimation, Action, Adventure</td>\n",
       "      <td>5.0</td>\n",
       "      <td>17870.0</td>\n",
       "      <td>25.0</td>\n",
       "    </tr>\n",
       "    <tr>\n",
       "      <th>2</th>\n",
       "      <td>The Walking Dead</td>\n",
       "      <td>(2010–2022)</td>\n",
       "      <td>\\nDrama, Horror, Thriller</td>\n",
       "      <td>8.2</td>\n",
       "      <td>885805.0</td>\n",
       "      <td>44.0</td>\n",
       "    </tr>\n",
       "    <tr>\n",
       "      <th>3</th>\n",
       "      <td>Rick and Morty</td>\n",
       "      <td>(2013– )</td>\n",
       "      <td>\\nAnimation, Adventure, Comedy</td>\n",
       "      <td>9.2</td>\n",
       "      <td>414849.0</td>\n",
       "      <td>23.0</td>\n",
       "    </tr>\n",
       "    <tr>\n",
       "      <th>5</th>\n",
       "      <td>Outer Banks</td>\n",
       "      <td>(2020– )</td>\n",
       "      <td>\\nAction, Crime, Drama</td>\n",
       "      <td>7.6</td>\n",
       "      <td>25858.0</td>\n",
       "      <td>50.0</td>\n",
       "    </tr>\n",
       "    <tr>\n",
       "      <th>...</th>\n",
       "      <td>...</td>\n",
       "      <td>...</td>\n",
       "      <td>...</td>\n",
       "      <td>...</td>\n",
       "      <td>...</td>\n",
       "      <td>...</td>\n",
       "    </tr>\n",
       "    <tr>\n",
       "      <th>9959</th>\n",
       "      <td>Sexify</td>\n",
       "      <td>(2021– )</td>\n",
       "      <td>\\nComedy, Drama</td>\n",
       "      <td>6.8</td>\n",
       "      <td>108.0</td>\n",
       "      <td>38.0</td>\n",
       "    </tr>\n",
       "    <tr>\n",
       "      <th>9960</th>\n",
       "      <td>Sexify</td>\n",
       "      <td>(2021– )</td>\n",
       "      <td>\\nComedy, Drama</td>\n",
       "      <td>7.1</td>\n",
       "      <td>103.0</td>\n",
       "      <td>37.0</td>\n",
       "    </tr>\n",
       "    <tr>\n",
       "      <th>9961</th>\n",
       "      <td>Sexify</td>\n",
       "      <td>(2021– )</td>\n",
       "      <td>\\nComedy, Drama</td>\n",
       "      <td>6.9</td>\n",
       "      <td>96.0</td>\n",
       "      <td>40.0</td>\n",
       "    </tr>\n",
       "    <tr>\n",
       "      <th>9962</th>\n",
       "      <td>Sexify</td>\n",
       "      <td>(2021– )</td>\n",
       "      <td>\\nComedy, Drama</td>\n",
       "      <td>7.1</td>\n",
       "      <td>100.0</td>\n",
       "      <td>47.0</td>\n",
       "    </tr>\n",
       "    <tr>\n",
       "      <th>9963</th>\n",
       "      <td>Castlevania</td>\n",
       "      <td>(2017–2021)</td>\n",
       "      <td>\\nAnimation, Action, Adventure</td>\n",
       "      <td>8.2</td>\n",
       "      <td>911.0</td>\n",
       "      <td>24.0</td>\n",
       "    </tr>\n",
       "  </tbody>\n",
       "</table>\n",
       "<p>6779 rows × 6 columns</p>\n",
       "</div>"
      ],
      "text/plain": [
       "                                     NAME         YEAR  \\\n",
       "0                           Blood Red Sky        -2021   \n",
       "1     Masters of the Universe: Revelation     (2021– )   \n",
       "2                        The Walking Dead  (2010–2022)   \n",
       "3                          Rick and Morty     (2013– )   \n",
       "5                             Outer Banks     (2020– )   \n",
       "...                                   ...          ...   \n",
       "9959                               Sexify     (2021– )   \n",
       "9960                               Sexify     (2021– )   \n",
       "9961                               Sexify     (2021– )   \n",
       "9962                               Sexify     (2021– )   \n",
       "9963                          Castlevania  (2017–2021)   \n",
       "\n",
       "                                           GENRE  RATING     VOTES   TIME  \n",
       "0         \\nAction, Horror, Thriller                 6.1   21062.0  121.0  \n",
       "1     \\nAnimation, Action, Adventure                 5.0   17870.0   25.0  \n",
       "2          \\nDrama, Horror, Thriller                 8.2  885805.0   44.0  \n",
       "3     \\nAnimation, Adventure, Comedy                 9.2  414849.0   23.0  \n",
       "5             \\nAction, Crime, Drama                 7.6   25858.0   50.0  \n",
       "...                                          ...     ...       ...    ...  \n",
       "9959                 \\nComedy, Drama                 6.8     108.0   38.0  \n",
       "9960                 \\nComedy, Drama                 7.1     103.0   37.0  \n",
       "9961                 \\nComedy, Drama                 6.9      96.0   40.0  \n",
       "9962                 \\nComedy, Drama                 7.1     100.0   47.0  \n",
       "9963  \\nAnimation, Action, Adventure                 8.2     911.0   24.0  \n",
       "\n",
       "[6779 rows x 6 columns]"
      ]
     },
     "execution_count": 29,
     "metadata": {},
     "output_type": "execute_result"
    }
   ],
   "source": [
    "df = base3.dropna() # elimina los elementos nulos\n",
    "df"
   ]
  },
  {
   "cell_type": "code",
   "execution_count": 30,
   "id": "5aec066d",
   "metadata": {},
   "outputs": [
    {
     "data": {
      "text/plain": [
       "(6779, 6)"
      ]
     },
     "execution_count": 30,
     "metadata": {},
     "output_type": "execute_result"
    }
   ],
   "source": [
    "df.shape"
   ]
  },
  {
   "cell_type": "markdown",
   "id": "0f2a2a30",
   "metadata": {},
   "source": [
    "Aún contamos con 6,779 datos, lo que nos parece una buena cantidad para la investigación."
   ]
  },
  {
   "cell_type": "markdown",
   "id": "6348c881",
   "metadata": {},
   "source": [
    "## Guardar un nuevo archivo"
   ]
  },
  {
   "cell_type": "markdown",
   "id": "178d61b6",
   "metadata": {},
   "source": [
    "Finalmente, procederemos a guardar todos los cambios que hemos hecho a la base de datos creando un archivo con la base resultante."
   ]
  },
  {
   "cell_type": "code",
   "execution_count": 31,
   "id": "1e6bb702",
   "metadata": {},
   "outputs": [],
   "source": [
    "df.to_csv('Series_nuevo.csv', index=False, sep = ',')"
   ]
  }
 ],
 "metadata": {
  "kernelspec": {
   "display_name": "Python 3",
   "language": "python",
   "name": "python3"
  },
  "language_info": {
   "codemirror_mode": {
    "name": "ipython",
    "version": 3
   },
   "file_extension": ".py",
   "mimetype": "text/x-python",
   "name": "python",
   "nbconvert_exporter": "python",
   "pygments_lexer": "ipython3",
   "version": "3.8.8"
  }
 },
 "nbformat": 4,
 "nbformat_minor": 5
}
